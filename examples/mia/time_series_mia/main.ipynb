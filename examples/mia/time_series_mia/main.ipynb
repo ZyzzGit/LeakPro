{
 "cells": [
  {
   "cell_type": "markdown",
   "metadata": {},
   "source": [
    "# Time-Series MIA Example \n",
    "Base of example. Use and build upon this notebook during development."
   ]
  },
  {
   "cell_type": "code",
   "execution_count": 1,
   "metadata": {},
   "outputs": [],
   "source": [
    "import os\n",
    "import sys\n",
    "import yaml\n",
    "import matplotlib.pyplot as plt\n",
    "\n",
    "project_root = os.path.abspath(os.path.join(os.getcwd(), \"../../..\"))\n",
    "sys.path.append(project_root)\n",
    "\n",
    "from examples.mia.time_series_mia.utils.data_preparation import ECGDataset, preprocess_ECG_dataset, get_ECG_dataloaders\n",
    "from examples.mia.time_series_mia.utils.model_preparation import SimpleLSTM, create_trained_model_and_metadata"
   ]
  },
  {
   "cell_type": "code",
   "execution_count": 2,
   "metadata": {},
   "outputs": [],
   "source": [
    "# Define constants\n",
    "lookback = 100\n",
    "horizon = 20\n",
    "train_fraction = 0.6\n",
    "epochs = 1"
   ]
  },
  {
   "cell_type": "code",
   "execution_count": 3,
   "metadata": {},
   "outputs": [],
   "source": [
    "# Get data loaders\n",
    "path = os.path.join(os.getcwd(), \"data\")\n",
    "dataset = preprocess_ECG_dataset(path, lookback, horizon)\n",
    "train_loader, test_loader = get_ECG_dataloaders(dataset, train_fraction)"
   ]
  },
  {
   "cell_type": "code",
   "execution_count": 4,
   "metadata": {},
   "outputs": [
    {
     "name": "stderr",
     "output_type": "stream",
     "text": [
      "Training Progress: 100%|██████████| 1/1 [00:01<00:00,  1.15s/it]\n"
     ]
    }
   ],
   "source": [
    "# Train the LSTM model\n",
    "input_size = 12 # input size will be the amount of variables in the Time-Series\n",
    "model = SimpleLSTM(input_size, horizon)\n",
    "train_loss, test_loss = create_trained_model_and_metadata(model, train_loader, test_loader, epochs)"
   ]
  },
  {
   "cell_type": "code",
   "execution_count": 5,
   "metadata": {},
   "outputs": [
    {
     "data": {
      "image/png": "[encoded data removed]",
      "text/plain": [
       "<Figure size 400x400 with 1 Axes>"
      ]
     },
     "metadata": {},
     "output_type": "display_data"
    }
   ],
   "source": [
    "# Plot training and test loss\n",
    "plt.figure(figsize=(4, 4))\n",
    "plt.plot(train_loss, label='Train Loss')\n",
    "plt.plot(test_loss, label='Test Loss')\n",
    "plt.xlabel('Epoch')\n",
    "plt.ylabel('Loss')\n",
    "plt.title('Loss over Epochs')\n",
    "plt.legend()\n",
    "plt.show()"
   ]
  },
  {
   "cell_type": "code",
   "execution_count": 6,
   "metadata": {},
   "outputs": [
    {
     "name": "stderr",
     "output_type": "stream",
     "text": [
      "2025-02-17 17:10:49,056 INFO     Target model blueprint created from SimpleLSTM in ./utils/model_preparation.py.\n",
      "2025-02-17 17:10:49,075 INFO     Loaded target model metadata from ./target/model_metadata.pkl\n",
      "c:\\Users\\totte\\Documents\\Kurser\\DATX05 - Master's Thesis\\LeakPro\\leakpro\\input_handler\\handler_setup.py:95: FutureWarning: You are using `torch.load` with `weights_only=False` (the current default value), which uses the default pickle module implicitly. It is possible to construct malicious pickle data which will execute arbitrary code during unpickling (See https://github.com/pytorch/pytorch/blob/main/SECURITY.md#untrusted-models for more details). In a future release, the default value for `weights_only` will be flipped to `True`. This limits the functions that could be executed during unpickling. Arbitrary objects will no longer be allowed to be loaded via this mode unless they are explicitly allowlisted by the user via `torch.serialization.add_safe_globals`. We recommend you start setting `weights_only=True` for any use case where you don't have full control of the loaded file. Please open an issue on GitHub for any issues related to this experimental feature.\n",
      "  self.target_model.load_state_dict(torch.load(f))\n",
      "2025-02-17 17:10:49,103 INFO     Loaded target model from ./target\n",
      "2025-02-17 17:10:49,123 INFO     Loaded population dataset from ./data/ECG_E00001.pkl\n",
      "2025-02-17 17:10:49,124 INFO     Loaded population dataset from ./data/ECG_E00001.pkl\n"
     ]
    },
    {
     "name": "stdout",
     "output_type": "stream",
     "text": [
      "{'audit': {'random_seed': 42, 'attack_list': {'ensemble': {'training_data_fraction': 0.5, 'attack_data_fraction': 0.5, 'num_instances': 2, 'subset_size': 50, 'num_pairs': 5}}, 'output_dir': './leakpro_output', 'attack_type': 'mia', 'modality': 'time_series'}, 'target': {'module_path': './utils/model_preparation.py', 'model_class': 'SimpleLSTM', 'target_folder': './target', 'data_path': './data/ECG_E00001.pkl'}, 'shadow_model': None, 'distillation_model': None}\n"
     ]
    },
    {
     "name": "stderr",
     "output_type": "stream",
     "text": [
      "2025-02-17 17:10:50,357 INFO     MIA attack factory loaded.\n",
      "2025-02-17 17:10:50,357 INFO     Creating shadow model handler singleton\n",
      "2025-02-17 17:10:50,357 INFO     Creating distillation model handler singleton\n",
      "2025-02-17 17:10:50,357 INFO     Configuring Ensemble attack\n",
      "2025-02-17 17:10:50,357 INFO     Added attack: ensemble\n",
      "2025-02-17 17:10:50,357 INFO     Preparing attack: ensemble\n",
      "2025-02-17 17:10:50,357 INFO     Preparing shadow models for Ensemble attack\n",
      "2025-02-17 17:10:50,357 INFO     Preparing attack data for training the Ensemble attack\n",
      "2025-02-17 17:10:50,357 INFO     self.attack_data_indices=array([ 692,  913, 4135, ..., 1206, 3291,  542])\n",
      "2025-02-17 17:10:50,357 INFO     Check for 2 shadow models (dataset: 4881 points)\n",
      "2025-02-17 17:10:50,357 WARNING  Using the same model class for shadow models as the target model.\n",
      "2025-02-17 17:10:50,357 INFO     Number of existing models exceeds or equals the number of models to create\n",
      "2025-02-17 17:10:50,357 INFO     Loading shadow model 0\n",
      "c:\\Users\\totte\\Documents\\Kurser\\DATX05 - Master's Thesis\\LeakPro\\leakpro\\attacks\\utils\\model_handler.py:162: FutureWarning: You are using `torch.load` with `weights_only=False` (the current default value), which uses the default pickle module implicitly. It is possible to construct malicious pickle data which will execute arbitrary code during unpickling (See https://github.com/pytorch/pytorch/blob/main/SECURITY.md#untrusted-models for more details). In a future release, the default value for `weights_only` will be flipped to `True`. This limits the functions that could be executed during unpickling. Arbitrary objects will no longer be allowed to be loaded via this mode unless they are explicitly allowlisted by the user via `torch.serialization.add_safe_globals`. We recommend you start setting `weights_only=True` for any use case where you don't have full control of the loaded file. Please open an issue on GitHub for any issues related to this experimental feature.\n",
      "  model.load_state_dict(load(f))\n",
      "2025-02-17 17:10:50,374 INFO     Loaded model from ./leakpro_output/attack_objects/shadow_model/shadow_model_0.pkl\n",
      "2025-02-17 17:10:50,375 INFO     Loading shadow model 1\n",
      "2025-02-17 17:10:50,377 INFO     Loaded model from ./leakpro_output/attack_objects/shadow_model/shadow_model_1.pkl\n",
      "2025-02-17 17:10:50,378 INFO     Loading metadata 0\n",
      "2025-02-17 17:10:50,379 INFO     Loading metadata 1\n",
      "2025-02-17 17:10:50,427 INFO     Running attack: ensemble\n",
      "2025-02-17 17:10:50,428 INFO     Running Ensemble shadow attack (attack mode)\n",
      "2025-02-17 17:10:50,429 INFO     Running instance number 1/2\n",
      "Getting trend loss for model 1/ 1: 100%|██████████| 8/8 [00:00<00:00, 107.41it/s]\n",
      "Getting trend loss for model 1/ 1: 100%|██████████| 8/8 [00:00<00:00, 92.05it/s]\n",
      "Training the best membership classifier for each pair: 100%|██████████| 5/5 [00:37<00:00,  7.54s/it]\n",
      "2025-02-17 17:11:28,306 INFO     Running instance number 2/2\n",
      "Getting trend loss for model 1/ 1: 100%|██████████| 8/8 [00:00<00:00, 77.81it/s]\n",
      "Getting trend loss for model 1/ 1: 100%|██████████| 8/8 [00:00<00:00, 68.33it/s]\n",
      "Training the best membership classifier for each pair: 100%|██████████| 5/5 [00:38<00:00,  7.63s/it]\n",
      "Getting trend loss for model 1/ 1: 100%|██████████| 149/149 [00:02<00:00, 71.45it/s]\n",
      "2025-02-17 17:12:08,911 INFO     Finished attack: ensemble\n",
      "2025-02-17 17:12:08,911 INFO     Preparing results for attack: ensemble\n",
      "c:\\Users\\totte\\AppData\\Local\\Programs\\Python\\Python312\\Lib\\site-packages\\seaborn\\_base.py:948: FutureWarning: When grouping with a length-1 list-like, you will need to pass a length-1 tuple to get_group in a future version of pandas. Pass `(name,)` instead of `name` to silence this warning.\n",
      "  data_subset = grouped_data.get_group(pd_key)\n",
      "c:\\Users\\totte\\AppData\\Local\\Programs\\Python\\Python312\\Lib\\site-packages\\seaborn\\_base.py:948: FutureWarning: When grouping with a length-1 list-like, you will need to pass a length-1 tuple to get_group in a future version of pandas. Pass `(name,)` instead of `name` to silence this warning.\n",
      "  data_subset = grouped_data.get_group(pd_key)\n",
      "c:\\Users\\totte\\AppData\\Local\\Programs\\Python\\Python312\\Lib\\site-packages\\seaborn\\_base.py:948: FutureWarning: When grouping with a length-1 list-like, you will need to pass a length-1 tuple to get_group in a future version of pandas. Pass `(name,)` instead of `name` to silence this warning.\n",
      "  data_subset = grouped_data.get_group(pd_key)\n",
      "c:\\Users\\totte\\AppData\\Local\\Programs\\Python\\Python312\\Lib\\site-packages\\seaborn\\_base.py:948: FutureWarning: When grouping with a length-1 list-like, you will need to pass a length-1 tuple to get_group in a future version of pandas. Pass `(name,)` instead of `name` to silence this warning.\n",
      "  data_subset = grouped_data.get_group(pd_key)\n",
      "2025-02-17 17:12:12,289 INFO     Auditing completed\n"
     ]
    },
    {
     "data": {
      "text/plain": [
       "<Figure size 640x480 with 0 Axes>"
      ]
     },
     "metadata": {},
     "output_type": "display_data"
    }
   ],
   "source": [
    "from ECG_handler import ECGInputHandler\n",
    "from leakpro import LeakPro\n",
    "\n",
    "# Read the config file\n",
    "config_path = \"audit.yaml\"\n",
    "\n",
    "# Prepare leakpro object\n",
    "leakpro = LeakPro(ECGInputHandler, config_path)\n",
    "\n",
    "# Run the audit \n",
    "leakpro.run_audit()"
   ]
  },
  {
   "cell_type": "markdown",
   "metadata": {},
   "source": [
    "### Testing signals"
   ]
  },
  {
   "cell_type": "code",
   "execution_count": 7,
   "metadata": {},
   "outputs": [
    {
     "name": "stdout",
     "output_type": "stream",
     "text": [
      "Avg train MSE: 0.16726291584579842\n",
      "Avg test MSE: 0.04290904104709625\n"
     ]
    }
   ],
   "source": [
    "from numpy import mean\n",
    "print(f'Avg train MSE:', mean(train_loss))\n",
    "print(f'Avg test MSE:', mean(test_loss))"
   ]
  },
  {
   "cell_type": "code",
   "execution_count": 8,
   "metadata": {},
   "outputs": [
    {
     "name": "stderr",
     "output_type": "stream",
     "text": [
      "Getting seasonality loss for model 1/ 1: 100%|██████████| 90/90 [00:01<00:00, 62.15it/s]\n",
      "Getting seasonality loss for model 1/ 1: 100%|██████████| 60/60 [00:00<00:00, 60.77it/s]\n",
      "Getting trend loss for model 1/ 1: 100%|██████████| 90/90 [00:01<00:00, 61.50it/s]\n",
      "Getting trend loss for model 1/ 1: 100%|██████████| 60/60 [00:00<00:00, 62.10it/s]"
     ]
    },
    {
     "name": "stdout",
     "output_type": "stream",
     "text": [
      "Mean train seasonality loss: 47.944823728943824\n",
      "Mean test seasonality loss: 48.24025189163677\n",
      "Mean train trend loss: 8.924725569857829\n",
      "Mean test trend loss: 9.181075605293376\n"
     ]
    },
    {
     "name": "stderr",
     "output_type": "stream",
     "text": [
      "\n"
     ]
    }
   ],
   "source": [
    "from torch.nn import MSELoss\n",
    "from leakpro.signals.signal import SeasonalityLoss, TrendLoss\n",
    "from leakpro.signals.signal_extractor import PytorchModel\n",
    "\n",
    "pmodel = PytorchModel(model, MSELoss)\n",
    "\n",
    "seasonality_signal = SeasonalityLoss()\n",
    "train_sloss = seasonality_signal([pmodel], leakpro.handler, train_loader.dataset.indices)\n",
    "test_sloss = seasonality_signal([pmodel], leakpro.handler, test_loader.dataset.indices)\n",
    "\n",
    "trend_signal = TrendLoss()\n",
    "train_tloss = trend_signal([pmodel], leakpro.handler, train_loader.dataset.indices)\n",
    "test_tloss = trend_signal([pmodel], leakpro.handler, test_loader.dataset.indices)\n",
    "\n",
    "print(f'Mean train seasonality loss:', mean(train_sloss))\n",
    "print(f'Mean test seasonality loss:', mean(test_sloss))\n",
    "\n",
    "print(f'Mean train trend loss:', mean(train_tloss))\n",
    "print(f'Mean test trend loss:', mean(test_tloss))"
   ]
  }
 ],
 "metadata": {
  "kernelspec": {
   "display_name": "Python 3",
   "language": "python",
   "name": "python3"
  },
  "language_info": {
   "codemirror_mode": {
    "name": "ipython",
    "version": 3
   },
   "file_extension": ".py",
   "mimetype": "text/x-python",
   "name": "python",
   "nbconvert_exporter": "python",
   "pygments_lexer": "ipython3",
   "version": "3.12.7"
  }
 },
 "nbformat": 4,
 "nbformat_minor": 2
}
