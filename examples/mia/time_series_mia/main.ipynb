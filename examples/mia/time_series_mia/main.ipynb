{
 "cells": [
  {
   "cell_type": "markdown",
   "metadata": {},
   "source": [
    "# Time-Series MIA Example \n",
    "Base of example. Use and build upon this notebook during development."
   ]
  },
  {
   "cell_type": "code",
   "execution_count": 1,
   "metadata": {},
   "outputs": [],
   "source": [
    "import os\n",
    "import sys\n",
    "import yaml\n",
    "import matplotlib.pyplot as plt\n",
    "\n",
    "project_root = os.path.abspath(os.path.join(os.getcwd(), \"../../..\"))\n",
    "sys.path.append(project_root)\n",
    "\n",
    "from examples.mia.time_series_mia.utils.data_preparation import ECGDataset, preprocess_ECG_dataset, get_ECG_dataloaders\n",
    "from examples.mia.time_series_mia.utils.model_preparation import SimpleLSTM, create_trained_model_and_metadata"
   ]
  },
  {
   "cell_type": "code",
   "execution_count": 2,
   "metadata": {},
   "outputs": [],
   "source": [
    "# Define constants\n",
    "lookback = 100\n",
    "horizon = 20\n",
    "train_fraction = 0.5\n",
    "test_fraction = 0.5\n",
    "epochs = 1"
   ]
  },
  {
   "cell_type": "code",
   "execution_count": 3,
   "metadata": {},
   "outputs": [],
   "source": [
    "# Get data loaders\n",
    "path = os.path.join(os.getcwd(), \"data\")\n",
    "dataset = preprocess_ECG_dataset(path, lookback, horizon)\n",
    "train_loader, test_loader = get_ECG_dataloaders(dataset, train_fraction, test_fraction)"
   ]
  },
  {
   "cell_type": "code",
   "execution_count": 4,
   "metadata": {},
   "outputs": [
    {
     "name": "stderr",
     "output_type": "stream",
     "text": [
      "Training Progress: 100%|██████████| 1/1 [00:06<00:00,  6.30s/it]\n"
     ]
    }
   ],
   "source": [
    "# Train the LSTM model\n",
    "input_size = 12 # input size will be the amount of variables in the Time-Series\n",
    "model = SimpleLSTM(input_size, horizon)\n",
    "train_loss, test_loss = create_trained_model_and_metadata(model, train_loader, test_loader, epochs)"
   ]
  },
  {
   "cell_type": "code",
   "execution_count": 5,
   "metadata": {},
   "outputs": [
    {
     "data": {
      "image/png": "[encoded data removed]",
      "text/plain": [
       "<Figure size 400x400 with 1 Axes>"
      ]
     },
     "metadata": {},
     "output_type": "display_data"
    }
   ],
   "source": [
    "# Plot training and test loss\n",
    "plt.figure(figsize=(4, 4))\n",
    "plt.plot(train_loss, label='Train Loss')\n",
    "plt.plot(test_loss, label='Test Loss')\n",
    "plt.xlabel('Epoch')\n",
    "plt.ylabel('Loss')\n",
    "plt.title('Loss over Epochs')\n",
    "plt.legend()\n",
    "plt.show()"
   ]
  },
  {
   "cell_type": "code",
   "execution_count": 6,
   "metadata": {},
   "outputs": [
    {
     "name": "stderr",
     "output_type": "stream",
     "text": [
      "2025-02-18 13:18:37,325 INFO     Target model blueprint created from SimpleLSTM in ./utils/model_preparation.py.\n",
      "2025-02-18 13:18:37,525 INFO     Loaded target model metadata from ./target/model_metadata.pkl\n"
     ]
    },
    {
     "name": "stdout",
     "output_type": "stream",
     "text": [
      "{'audit': {'random_seed': 42, 'attack_list': {}, 'output_dir': './leakpro_output', 'attack_type': 'mia', 'modality': 'time_series'}, 'target': {'module_path': './utils/model_preparation.py', 'model_class': 'SimpleLSTM', 'target_folder': './target', 'data_path': './data/ECG.pkl'}, 'shadow_model': None, 'distillation_model': None}\n"
     ]
    },
    {
     "name": "stderr",
     "output_type": "stream",
     "text": [
      "2025-02-18 13:18:37,556 INFO     Loaded target model from ./target\n",
      "2025-02-18 13:18:37,850 INFO     Loaded population dataset from ./data/ECG.pkl\n",
      "2025-02-18 13:18:37,851 INFO     Loaded population dataset from ./data/ECG.pkl\n",
      "2025-02-18 13:18:39,571 INFO     MIA attack factory loaded.\n",
      "2025-02-18 13:18:39,573 INFO     Auditing completed\n"
     ]
    }
   ],
   "source": [
    "from ECG_handler import ECGInputHandler\n",
    "from leakpro import LeakPro\n",
    "\n",
    "# Read the config file\n",
    "config_path = \"audit.yaml\"\n",
    "\n",
    "# Prepare leakpro object\n",
    "leakpro = LeakPro(ECGInputHandler, config_path)\n",
    "\n",
    "# Run the audit \n",
    "leakpro.run_audit()"
   ]
  },
  {
   "cell_type": "markdown",
   "metadata": {},
   "source": [
    "### Testing signals"
   ]
  },
  {
   "cell_type": "code",
   "execution_count": 7,
   "metadata": {},
   "outputs": [
    {
     "name": "stdout",
     "output_type": "stream",
     "text": [
      "Avg train MSE: 0.019975337174572342\n",
      "Avg test MSE: 0.0009197094087392267\n"
     ]
    }
   ],
   "source": [
    "from numpy import mean\n",
    "print(f'Avg train MSE:', mean(train_loss))\n",
    "print(f'Avg test MSE:', mean(test_loss))"
   ]
  },
  {
   "cell_type": "code",
   "execution_count": 10,
   "metadata": {},
   "outputs": [
    {
     "ename": "ValueError",
     "evalue": "not enough values to unpack (expected 4, got 3)",
     "output_type": "error",
     "traceback": [
      "\u001b[1;31m---------------------------------------------------------------------------\u001b[0m",
      "\u001b[1;31mValueError\u001b[0m                                Traceback (most recent call last)",
      "Cell \u001b[1;32mIn[10], line 8\u001b[0m\n\u001b[0;32m      5\u001b[0m pmodel \u001b[38;5;241m=\u001b[39m PytorchModel(model, MSELoss)\n\u001b[0;32m      7\u001b[0m seasonality_signal \u001b[38;5;241m=\u001b[39m SeasonalityLoss()\n\u001b[1;32m----> 8\u001b[0m train_sloss \u001b[38;5;241m=\u001b[39m seasonality_signal([pmodel], leakpro\u001b[38;5;241m.\u001b[39mhandler, train_loader\u001b[38;5;241m.\u001b[39mdataset\u001b[38;5;241m.\u001b[39mindices)\n\u001b[0;32m      9\u001b[0m test_sloss \u001b[38;5;241m=\u001b[39m seasonality_signal([pmodel], leakpro\u001b[38;5;241m.\u001b[39mhandler, test_loader\u001b[38;5;241m.\u001b[39mdataset\u001b[38;5;241m.\u001b[39mindices)\n\u001b[0;32m     11\u001b[0m trend_signal \u001b[38;5;241m=\u001b[39m TrendLoss()\n",
      "File \u001b[1;32mc:\\Users\\Nicolas\\Desktop\\Nicolas\\LeakPro\\leakpro\\signals\\signal.py:290\u001b[0m, in \u001b[0;36mSeasonalityLoss.__call__\u001b[1;34m(self, models, handler, indices, batch_size)\u001b[0m\n\u001b[0;32m    275\u001b[0m \u001b[38;5;250m\u001b[39m\u001b[38;5;124;03m\"\"\"Built-in call method.\u001b[39;00m\n\u001b[0;32m    276\u001b[0m \n\u001b[0;32m    277\u001b[0m \u001b[38;5;124;03mArgs:\u001b[39;00m\n\u001b[1;32m   (...)\u001b[0m\n\u001b[0;32m    287\u001b[0m \n\u001b[0;32m    288\u001b[0m \u001b[38;5;124;03m\"\"\"\u001b[39;00m\n\u001b[0;32m    289\u001b[0m \u001b[38;5;66;03m# Compute the signal for each model\u001b[39;00m\n\u001b[1;32m--> 290\u001b[0m data_loader \u001b[38;5;241m=\u001b[39m handler\u001b[38;5;241m.\u001b[39mget_dataloader(indices, batch_size\u001b[38;5;241m=\u001b[39mbatch_size)\n\u001b[0;32m    291\u001b[0m \u001b[38;5;28;01massert\u001b[39;00m \u001b[38;5;28mself\u001b[39m\u001b[38;5;241m.\u001b[39m_is_shuffling(data_loader) \u001b[38;5;129;01mis\u001b[39;00m \u001b[38;5;28;01mFalse\u001b[39;00m, \u001b[38;5;124m\"\u001b[39m\u001b[38;5;124mDataLoader must not shuffle data to maintain order of indices\u001b[39m\u001b[38;5;124m\"\u001b[39m\n\u001b[0;32m    293\u001b[0m results \u001b[38;5;241m=\u001b[39m []\n",
      "File \u001b[1;32mc:\\Users\\Nicolas\\Desktop\\Nicolas\\LeakPro\\leakpro\\input_handler\\handler_setup.py:148\u001b[0m, in \u001b[0;36mget_dataloader\u001b[1;34m(self, dataset_indices, batch_size)\u001b[0m\n\u001b[0;32m    146\u001b[0m \u001b[38;5;28;01mdef\u001b[39;00m \u001b[38;5;21mget_dataloader\u001b[39m(\u001b[38;5;28mself\u001b[39m: Self, dataset_indices: np\u001b[38;5;241m.\u001b[39mndarray, batch_size: \u001b[38;5;28mint\u001b[39m \u001b[38;5;241m=\u001b[39m \u001b[38;5;241m32\u001b[39m) \u001b[38;5;241m-\u001b[39m\u001b[38;5;241m>\u001b[39m DataLoader:\n\u001b[0;32m    147\u001b[0m \u001b[38;5;250m    \u001b[39m\u001b[38;5;124;03m\"\"\"Default implementation of the dataloader.\"\"\"\u001b[39;00m\n\u001b[1;32m--> 148\u001b[0m     dataset \u001b[38;5;241m=\u001b[39m \u001b[38;5;28mself\u001b[39m\u001b[38;5;241m.\u001b[39mget_dataset(dataset_indices)\n\u001b[0;32m    149\u001b[0m     collate_fn \u001b[38;5;241m=\u001b[39m \u001b[38;5;28mself\u001b[39m\u001b[38;5;241m.\u001b[39mpopulation\u001b[38;5;241m.\u001b[39mcollate_fn \u001b[38;5;28;01mif\u001b[39;00m \u001b[38;5;28mhasattr\u001b[39m(\u001b[38;5;28mself\u001b[39m\u001b[38;5;241m.\u001b[39mpopulation, \u001b[38;5;124m\"\u001b[39m\u001b[38;5;124mcollate_fn\u001b[39m\u001b[38;5;124m\"\u001b[39m) \u001b[38;5;28;01melse\u001b[39;00m \u001b[38;5;28;01mNone\u001b[39;00m\n\u001b[0;32m    150\u001b[0m     \u001b[38;5;28;01mreturn\u001b[39;00m DataLoader(dataset\u001b[38;5;241m=\u001b[39mdataset, batch_size\u001b[38;5;241m=\u001b[39mbatch_size, shuffle\u001b[38;5;241m=\u001b[39m\u001b[38;5;28;01mFalse\u001b[39;00m, collate_fn\u001b[38;5;241m=\u001b[39mcollate_fn)\n",
      "File \u001b[1;32mc:\\Users\\Nicolas\\Desktop\\Nicolas\\LeakPro\\leakpro\\input_handler\\handler_setup.py:144\u001b[0m, in \u001b[0;36mget_dataset\u001b[1;34m(self, dataset_indices)\u001b[0m\n\u001b[0;32m    140\u001b[0m     dataset_indices \u001b[38;5;241m=\u001b[39m np\u001b[38;5;241m.\u001b[39marray(dataset_indices, ndmin\u001b[38;5;241m=\u001b[39m\u001b[38;5;241m1\u001b[39m)\n\u001b[0;32m    142\u001b[0m \u001b[38;5;28mself\u001b[39m\u001b[38;5;241m.\u001b[39m_validate_indices(dataset_indices)\n\u001b[1;32m--> 144\u001b[0m \u001b[38;5;28;01mreturn\u001b[39;00m \u001b[38;5;28mself\u001b[39m\u001b[38;5;241m.\u001b[39mpopulation\u001b[38;5;241m.\u001b[39msubset(dataset_indices)\n",
      "File \u001b[1;32mc:\\Users\\Nicolas\\Desktop\\Nicolas\\LeakPro\\examples\\mia\\time_series_mia\\utils\\data_preparation.py:32\u001b[0m, in \u001b[0;36mECGDataset.subset\u001b[1;34m(self, indices)\u001b[0m\n\u001b[0;32m     30\u001b[0m \u001b[38;5;28;01mdef\u001b[39;00m \u001b[38;5;21msubset\u001b[39m(\u001b[38;5;28mself\u001b[39m, indices):\n\u001b[0;32m     31\u001b[0m     individuals, samples \u001b[38;5;241m=\u001b[39m \u001b[38;5;28mzip\u001b[39m(\u001b[38;5;241m*\u001b[39mindices)  \u001b[38;5;66;03m# unzip indices into separate indexing lists\u001b[39;00m\n\u001b[1;32m---> 32\u001b[0m     \u001b[38;5;28;01mreturn\u001b[39;00m ECGDataset(\u001b[38;5;28mself\u001b[39m\u001b[38;5;241m.\u001b[39mx[\u001b[38;5;28mlist\u001b[39m(individuals), \u001b[38;5;28mlist\u001b[39m(samples)], \u001b[38;5;28mself\u001b[39m\u001b[38;5;241m.\u001b[39my[\u001b[38;5;28mlist\u001b[39m(individuals), \u001b[38;5;28mlist\u001b[39m(samples)])\n",
      "File \u001b[1;32mc:\\Users\\Nicolas\\Desktop\\Nicolas\\LeakPro\\examples\\mia\\time_series_mia\\utils\\data_preparation.py:17\u001b[0m, in \u001b[0;36mECGDataset.__init__\u001b[1;34m(self, x, y)\u001b[0m\n\u001b[0;32m     14\u001b[0m \u001b[38;5;28mself\u001b[39m\u001b[38;5;241m.\u001b[39mx \u001b[38;5;241m=\u001b[39m x\n\u001b[0;32m     15\u001b[0m \u001b[38;5;28mself\u001b[39m\u001b[38;5;241m.\u001b[39my \u001b[38;5;241m=\u001b[39m y\n\u001b[1;32m---> 17\u001b[0m \u001b[38;5;28mself\u001b[39m\u001b[38;5;241m.\u001b[39mnum_individuals, \u001b[38;5;28mself\u001b[39m\u001b[38;5;241m.\u001b[39mnum_samples, \u001b[38;5;28mself\u001b[39m\u001b[38;5;241m.\u001b[39mlookback, \u001b[38;5;28mself\u001b[39m\u001b[38;5;241m.\u001b[39mnum_variables \u001b[38;5;241m=\u001b[39m x\u001b[38;5;241m.\u001b[39mshape\n\u001b[0;32m     18\u001b[0m \u001b[38;5;28mself\u001b[39m\u001b[38;5;241m.\u001b[39mhorizon \u001b[38;5;241m=\u001b[39m y\u001b[38;5;241m.\u001b[39msize(\u001b[38;5;241m2\u001b[39m)\n",
      "\u001b[1;31mValueError\u001b[0m: not enough values to unpack (expected 4, got 3)"
     ]
    }
   ],
   "source": [
    "from torch.nn import MSELoss\n",
    "from leakpro.signals.signal import SeasonalityLoss, TrendLoss\n",
    "from leakpro.signals.signal_extractor import PytorchModel\n",
    "\n",
    "pmodel = PytorchModel(model, MSELoss)\n",
    "\n",
    "seasonality_signal = SeasonalityLoss()\n",
    "train_sloss = seasonality_signal([pmodel], leakpro.handler, train_loader.dataset.indices)\n",
    "test_sloss = seasonality_signal([pmodel], leakpro.handler, test_loader.dataset.indices)\n",
    "\n",
    "trend_signal = TrendLoss()\n",
    "train_tloss = trend_signal([pmodel], leakpro.handler, train_loader.dataset.indices)\n",
    "test_tloss = trend_signal([pmodel], leakpro.handler, test_loader.dataset.indices)\n",
    "\n",
    "print(f'Mean train seasonality loss:', mean(train_sloss))\n",
    "print(f'Mean test seasonality loss:', mean(test_sloss))\n",
    "\n",
    "print(f'Mean train trend loss:', mean(train_tloss))\n",
    "print(f'Mean test trend loss:', mean(test_tloss))"
   ]
  }
 ],
 "metadata": {
  "kernelspec": {
   "display_name": "torch",
   "language": "python",
   "name": "python3"
  },
  "language_info": {
   "codemirror_mode": {
    "name": "ipython",
    "version": 3
   },
   "file_extension": ".py",
   "mimetype": "text/x-python",
   "name": "python",
   "nbconvert_exporter": "python",
   "pygments_lexer": "ipython3",
   "version": "3.11.9"
  }
 },
 "nbformat": 4,
 "nbformat_minor": 2
}
