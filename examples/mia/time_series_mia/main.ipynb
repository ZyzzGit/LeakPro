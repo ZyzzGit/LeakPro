{
 "cells": [
  {
   "cell_type": "markdown",
   "metadata": {},
   "source": [
    "# Time-Series MIA Example "
   ]
  },
  {
   "cell_type": "code",
   "execution_count": 1,
   "metadata": {},
   "outputs": [
    {
     "name": "stderr",
     "output_type": "stream",
     "text": [
      "/home/edgelab/LeakProZyzz/.venv/lib/python3.12/site-packages/tqdm/auto.py:21: TqdmWarning: IProgress not found. Please update jupyter and ipywidgets. See https://ipywidgets.readthedocs.io/en/stable/user_install.html\n",
      "  from .autonotebook import tqdm as notebook_tqdm\n"
     ]
    }
   ],
   "source": [
    "import os, sys, yaml, numpy as np, matplotlib.pyplot as plt, torch, pandas as pd\n",
    "\n",
    "project_root = os.path.abspath(os.path.join(os.getcwd(), \"../../..\"))\n",
    "sys.path.append(project_root)\n",
    "\n",
    "from examples.mia.time_series_mia.utils.data_preparation import preprocess_dataset, get_dataloaders\n",
    "from examples.mia.time_series_mia.utils.model_preparation import create_trained_model_and_metadata, predict\n",
    "from examples.mia.time_series_mia.utils.set_seed import set_seed\n",
    "from examples.mia.time_series_mia.utils.models.LSTM import LSTM\n",
    "from examples.mia.time_series_mia.utils.models.TCN import TCN\n",
    "from examples.mia.time_series_mia.utils.models.DLinear import DLinear\n",
    "from examples.mia.time_series_mia.utils.models.NBeats import NBeats\n",
    "from examples.mia.time_series_mia.utils.models.WaveNet import WaveNet\n",
    "from examples.mia.time_series_mia.utils.models.Bromick import Bromick\n",
    "\n",
    "from data_handler import IndividualizedInputHandler\n",
    "from leakpro import LeakPro"
   ]
  },
  {
   "cell_type": "code",
   "execution_count": 2,
   "metadata": {},
   "outputs": [],
   "source": [
    "audit_config_path = \"audit.yaml\"\n",
    "train_config_path = \"train_config.yaml\"\n",
    "\n",
    "# Load the yaml files\n",
    "with open(audit_config_path, 'r') as file:\n",
    "    audit_config = yaml.safe_load(file)\n",
    "\n",
    "with open(train_config_path, 'r') as file:\n",
    "    train_config = yaml.safe_load(file)"
   ]
  },
  {
   "cell_type": "code",
   "execution_count": 3,
   "metadata": {},
   "outputs": [],
   "source": [
    "random_seed = train_config[\"run\"][\"random_seed\"]\n",
    "log_dir = train_config[\"run\"][\"log_dir\"]\n",
    "\n",
    "epochs = train_config[\"train\"][\"epochs\"]\n",
    "batch_size = train_config[\"train\"][\"batch_size\"]\n",
    "optimizer = train_config[\"train\"][\"optimizer\"]\n",
    "\n",
    "lookback = train_config[\"data\"][\"lookback\"]\n",
    "horizon = train_config[\"data\"][\"horizon\"]\n",
    "num_individuals = train_config[\"data\"][\"num_individuals\"]\n",
    "train_fraction = train_config[\"data\"][\"f_train\"]\n",
    "test_fraction = train_config[\"data\"][\"f_test\"]\n",
    "dataset_name = train_config[\"data\"][\"dataset\"]\n",
    "data_dir = train_config[\"data\"][\"data_dir\"]\n",
    "stride = train_config[\"data\"][\"stride\"]\n",
    "k_lead = train_config[\"data\"][\"k_lead\"] # number of leading variables to use\n",
    "num_time_steps = train_config[\"data\"][\"num_time_steps\"] # number of time steps per individual"
   ]
  },
  {
   "cell_type": "code",
   "execution_count": 4,
   "metadata": {},
   "outputs": [],
   "source": [
    "# Get data loaders\n",
    "path = os.path.join(os.getcwd(), data_dir)\n",
    "target_data_path = audit_config[\"target\"][\"data_path\"]\n",
    "target_data_file = os.path.basename(target_data_path) # Only look at file name of target data path\n",
    "target_data_file = os.path.splitext(target_data_file)[0]\n",
    "\n",
    "if target_data_file != dataset_name:\n",
    "    raise Exception(f\"Received unknown dataset or mismatching target file: dataset={dataset_name}, target={target_data_path}.\")\n",
    "\n",
    "set_seed(random_seed) # Set seed before and after, to ensure same randomness if you process or dont process dataset (dataset already processed)\n",
    "dataset = preprocess_dataset(dataset_name, path, lookback, horizon, num_individuals, k_lead=k_lead, stride=stride, num_time_steps=num_time_steps)\n",
    "\n",
    "set_seed(random_seed)\n",
    "train_loader, test_loader = get_dataloaders(dataset, train_fraction, test_fraction, batch_size=batch_size)"
   ]
  },
  {
   "cell_type": "code",
   "execution_count": 5,
   "metadata": {},
   "outputs": [
    {
     "name": "stderr",
     "output_type": "stream",
     "text": [
      "Training Progress: 100%|██████████| 10/10 [04:41<00:00, 28.17s/it]\n"
     ]
    },
    {
     "ename": "ValidationError",
     "evalue": "2 validation errors for MIAMetaDataSchema\ntrain_acc\n  Field required [type=missing, input_value={'train_indices': array([...607, 'dataset': 'adult'}, input_type=dict]\n    For further information visit https://errors.pydantic.dev/2.10/v/missing\ntest_acc\n  Field required [type=missing, input_value={'train_indices': array([...607, 'dataset': 'adult'}, input_type=dict]\n    For further information visit https://errors.pydantic.dev/2.10/v/missing",
     "output_type": "error",
     "traceback": [
      "\u001b[31m---------------------------------------------------------------------------\u001b[39m",
      "\u001b[31mValidationError\u001b[39m                           Traceback (most recent call last)",
      "\u001b[36mCell\u001b[39m\u001b[36m \u001b[39m\u001b[32mIn[5]\u001b[39m\u001b[32m, line 20\u001b[39m\n\u001b[32m     17\u001b[39m \u001b[38;5;28;01melse\u001b[39;00m:\n\u001b[32m     18\u001b[39m     \u001b[38;5;28;01mraise\u001b[39;00m \u001b[38;5;167;01mNotImplementedError\u001b[39;00m()\n\u001b[32m---> \u001b[39m\u001b[32m20\u001b[39m train_loss, test_loss = \u001b[43mcreate_trained_model_and_metadata\u001b[49m\u001b[43m(\u001b[49m\u001b[43mmodel\u001b[49m\u001b[43m,\u001b[49m\u001b[43m \u001b[49m\u001b[43mtrain_loader\u001b[49m\u001b[43m,\u001b[49m\u001b[43m \u001b[49m\u001b[43mtest_loader\u001b[49m\u001b[43m,\u001b[49m\u001b[43m \u001b[49m\u001b[43mepochs\u001b[49m\u001b[43m,\u001b[49m\u001b[43m \u001b[49m\u001b[43moptimizer\u001b[49m\u001b[43m,\u001b[49m\u001b[43m \u001b[49m\u001b[43mdataset_name\u001b[49m\u001b[43m)\u001b[49m\n",
      "\u001b[36mFile \u001b[39m\u001b[32m~/LeakProZyzz/examples/mia/time_series_mia/utils/model_preparation.py:113\u001b[39m, in \u001b[36mcreate_trained_model_and_metadata\u001b[39m\u001b[34m(model, train_loader, test_loader, epochs, optimizer_name, dataset_name)\u001b[39m\n\u001b[32m    102\u001b[39m optimizer_data = {\n\u001b[32m    103\u001b[39m     \u001b[33m\"\u001b[39m\u001b[33mname\u001b[39m\u001b[33m\"\u001b[39m: optimizer.\u001b[34m__class__\u001b[39m.\u001b[34m__name__\u001b[39m.lower(),\n\u001b[32m    104\u001b[39m     \u001b[33m\"\u001b[39m\u001b[33mlr\u001b[39m\u001b[33m\"\u001b[39m: optimizer.param_groups[\u001b[32m0\u001b[39m].get(\u001b[33m\"\u001b[39m\u001b[33mlr\u001b[39m\u001b[33m\"\u001b[39m, \u001b[32m0\u001b[39m),\n\u001b[32m   (...)\u001b[39m\u001b[32m    108\u001b[39m     \u001b[33m\"\u001b[39m\u001b[33mnesterov\u001b[39m\u001b[33m\"\u001b[39m: optimizer.param_groups[\u001b[32m0\u001b[39m].get(\u001b[33m\"\u001b[39m\u001b[33mnesterov\u001b[39m\u001b[33m\"\u001b[39m, \u001b[38;5;28;01mFalse\u001b[39;00m)\n\u001b[32m    109\u001b[39m }\n\u001b[32m    111\u001b[39m loss_data = {\u001b[33m\"\u001b[39m\u001b[33mname\u001b[39m\u001b[33m\"\u001b[39m: criterion.\u001b[34m__class__\u001b[39m.\u001b[34m__name__\u001b[39m.lower()}\n\u001b[32m--> \u001b[39m\u001b[32m113\u001b[39m meta_data = \u001b[43mMIAMetaDataSchema\u001b[49m\u001b[43m(\u001b[49m\n\u001b[32m    114\u001b[39m \u001b[43m        \u001b[49m\u001b[43mtrain_indices\u001b[49m\u001b[43m=\u001b[49m\u001b[43mtrain_loader\u001b[49m\u001b[43m.\u001b[49m\u001b[43mdataset\u001b[49m\u001b[43m.\u001b[49m\u001b[43mindices\u001b[49m\u001b[43m,\u001b[49m\n\u001b[32m    115\u001b[39m \u001b[43m        \u001b[49m\u001b[43mtest_indices\u001b[49m\u001b[43m=\u001b[49m\u001b[43mtest_loader\u001b[49m\u001b[43m.\u001b[49m\u001b[43mdataset\u001b[49m\u001b[43m.\u001b[49m\u001b[43mindices\u001b[49m\u001b[43m,\u001b[49m\n\u001b[32m    116\u001b[39m \u001b[43m        \u001b[49m\u001b[43mnum_train\u001b[49m\u001b[43m=\u001b[49m\u001b[38;5;28;43mlen\u001b[39;49m\u001b[43m(\u001b[49m\u001b[43mtrain_loader\u001b[49m\u001b[43m.\u001b[49m\u001b[43mdataset\u001b[49m\u001b[43m.\u001b[49m\u001b[43mindices\u001b[49m\u001b[43m)\u001b[49m\u001b[43m,\u001b[49m\n\u001b[32m    117\u001b[39m \u001b[43m        \u001b[49m\u001b[43minit_params\u001b[49m\u001b[43m=\u001b[49m\u001b[43minit_params\u001b[49m\u001b[43m,\u001b[49m\n\u001b[32m    118\u001b[39m \u001b[43m        \u001b[49m\u001b[43moptimizer\u001b[49m\u001b[43m=\u001b[49m\u001b[43mOptimizerConfig\u001b[49m\u001b[43m(\u001b[49m\u001b[43m*\u001b[49m\u001b[43m*\u001b[49m\u001b[43moptimizer_data\u001b[49m\u001b[43m)\u001b[49m\u001b[43m,\u001b[49m\n\u001b[32m    119\u001b[39m \u001b[43m        \u001b[49m\u001b[43mloss\u001b[49m\u001b[43m=\u001b[49m\u001b[43mLossConfig\u001b[49m\u001b[43m(\u001b[49m\u001b[43m*\u001b[49m\u001b[43m*\u001b[49m\u001b[43mloss_data\u001b[49m\u001b[43m)\u001b[49m\u001b[43m,\u001b[49m\n\u001b[32m    120\u001b[39m \u001b[43m        \u001b[49m\u001b[43mbatch_size\u001b[49m\u001b[43m=\u001b[49m\u001b[43mtrain_loader\u001b[49m\u001b[43m.\u001b[49m\u001b[43mbatch_size\u001b[49m\u001b[43m,\u001b[49m\n\u001b[32m    121\u001b[39m \u001b[43m        \u001b[49m\u001b[43mepochs\u001b[49m\u001b[43m=\u001b[49m\u001b[43mepochs\u001b[49m\u001b[43m,\u001b[49m\n\u001b[32m    122\u001b[39m \u001b[43m        \u001b[49m\u001b[38;5;66;43;03m#train_acc=train_acc,\u001b[39;49;00m\n\u001b[32m    123\u001b[39m \u001b[43m        \u001b[49m\u001b[38;5;66;43;03m#test_acc=test_acc,\u001b[39;49;00m\n\u001b[32m    124\u001b[39m \u001b[43m        \u001b[49m\u001b[43mtrain_loss\u001b[49m\u001b[43m=\u001b[49m\u001b[43mtrain_loss\u001b[49m\u001b[43m,\u001b[49m\n\u001b[32m    125\u001b[39m \u001b[43m        \u001b[49m\u001b[43mtest_loss\u001b[49m\u001b[43m=\u001b[49m\u001b[43mtest_loss\u001b[49m\u001b[43m,\u001b[49m\n\u001b[32m    126\u001b[39m \u001b[43m        \u001b[49m\u001b[43mdataset\u001b[49m\u001b[43m=\u001b[49m\u001b[33;43m\"\u001b[39;49m\u001b[33;43madult\u001b[39;49m\u001b[33;43m\"\u001b[39;49m\n\u001b[32m    127\u001b[39m \u001b[43m    \u001b[49m\u001b[43m)\u001b[49m\n\u001b[32m    129\u001b[39m \u001b[38;5;28;01mwith\u001b[39;00m \u001b[38;5;28mopen\u001b[39m(\u001b[33m\"\u001b[39m\u001b[33mtarget/model_metadata.pkl\u001b[39m\u001b[33m\"\u001b[39m, \u001b[33m\"\u001b[39m\u001b[33mwb\u001b[39m\u001b[33m\"\u001b[39m) \u001b[38;5;28;01mas\u001b[39;00m f:\n\u001b[32m    130\u001b[39m     pickle.dump(meta_data, f)\n",
      "\u001b[36mFile \u001b[39m\u001b[32m~/LeakProZyzz/.venv/lib/python3.12/site-packages/pydantic/main.py:214\u001b[39m, in \u001b[36mBaseModel.__init__\u001b[39m\u001b[34m(self, **data)\u001b[39m\n\u001b[32m    212\u001b[39m \u001b[38;5;66;03m# `__tracebackhide__` tells pytest and some other tools to omit this function from tracebacks\u001b[39;00m\n\u001b[32m    213\u001b[39m __tracebackhide__ = \u001b[38;5;28;01mTrue\u001b[39;00m\n\u001b[32m--> \u001b[39m\u001b[32m214\u001b[39m validated_self = \u001b[38;5;28;43mself\u001b[39;49m\u001b[43m.\u001b[49m\u001b[43m__pydantic_validator__\u001b[49m\u001b[43m.\u001b[49m\u001b[43mvalidate_python\u001b[49m\u001b[43m(\u001b[49m\u001b[43mdata\u001b[49m\u001b[43m,\u001b[49m\u001b[43m \u001b[49m\u001b[43mself_instance\u001b[49m\u001b[43m=\u001b[49m\u001b[38;5;28;43mself\u001b[39;49m\u001b[43m)\u001b[49m\n\u001b[32m    215\u001b[39m \u001b[38;5;28;01mif\u001b[39;00m \u001b[38;5;28mself\u001b[39m \u001b[38;5;129;01mis\u001b[39;00m \u001b[38;5;129;01mnot\u001b[39;00m validated_self:\n\u001b[32m    216\u001b[39m     warnings.warn(\n\u001b[32m    217\u001b[39m         \u001b[33m'\u001b[39m\u001b[33mA custom validator is returning a value other than `self`.\u001b[39m\u001b[38;5;130;01m\\n\u001b[39;00m\u001b[33m'\u001b[39m\n\u001b[32m    218\u001b[39m         \u001b[33m\"\u001b[39m\u001b[33mReturning anything other than `self` from a top level model validator isn\u001b[39m\u001b[33m'\u001b[39m\u001b[33mt supported when validating via `__init__`.\u001b[39m\u001b[38;5;130;01m\\n\u001b[39;00m\u001b[33m\"\u001b[39m\n\u001b[32m    219\u001b[39m         \u001b[33m'\u001b[39m\u001b[33mSee the `model_validator` docs (https://docs.pydantic.dev/latest/concepts/validators/#model-validators) for more details.\u001b[39m\u001b[33m'\u001b[39m,\n\u001b[32m    220\u001b[39m         stacklevel=\u001b[32m2\u001b[39m,\n\u001b[32m    221\u001b[39m     )\n",
      "\u001b[31mValidationError\u001b[39m: 2 validation errors for MIAMetaDataSchema\ntrain_acc\n  Field required [type=missing, input_value={'train_indices': array([...607, 'dataset': 'adult'}, input_type=dict]\n    For further information visit https://errors.pydantic.dev/2.10/v/missing\ntest_acc\n  Field required [type=missing, input_value={'train_indices': array([...607, 'dataset': 'adult'}, input_type=dict]\n    For further information visit https://errors.pydantic.dev/2.10/v/missing"
     ]
    }
   ],
   "source": [
    "# Train the model\n",
    "input_dim = dataset.input_dim\n",
    "model_name = audit_config[\"target\"][\"model_class\"]\n",
    "\n",
    "if model_name == \"LSTM\":\n",
    "    model = LSTM(input_dim, horizon)\n",
    "elif model_name == \"TCN\":\n",
    "    model = TCN(input_dim, horizon)\n",
    "elif model_name == \"DLinear\":\n",
    "    model = DLinear(input_dim, lookback, horizon)\n",
    "elif model_name == \"NBeats\":\n",
    "    model = NBeats(input_dim, lookback, horizon)\n",
    "elif model_name == \"WaveNet\":\n",
    "    model = WaveNet(input_dim, horizon)\n",
    "elif model_name == \"Bromick\" or model_name == \"Bhowmick\":\n",
    "    model = Bromick(input_dim, horizon)\n",
    "else:\n",
    "    raise NotImplementedError()\n",
    "\n",
    "train_loss, test_loss = create_trained_model_and_metadata(model, train_loader, test_loader, epochs, optimizer, dataset_name)"
   ]
  },
  {
   "cell_type": "code",
   "execution_count": null,
   "metadata": {},
   "outputs": [
    {
     "data": {
      "image/png": "[encoded data removed]",
      "text/plain": [
       "<Figure size 400x400 with 1 Axes>"
      ]
     },
     "metadata": {},
     "output_type": "display_data"
    }
   ],
   "source": [
    "# Plot training and test loss\n",
    "plt.figure(figsize=(4, 4))\n",
    "plt.plot(train_loss, label='Train Loss')\n",
    "plt.plot(test_loss, label='Test Loss')\n",
    "plt.yscale('log')\n",
    "plt.xlabel('Epoch')\n",
    "plt.ylabel('Loss')\n",
    "plt.title('Loss over Epochs')\n",
    "plt.legend()\n",
    "plt.show()"
   ]
  },
  {
   "cell_type": "markdown",
   "metadata": {},
   "source": [
    "### Plot metrics for final target model"
   ]
  },
  {
   "cell_type": "code",
   "execution_count": null,
   "metadata": {},
   "outputs": [
    {
     "name": "stdout",
     "output_type": "stream",
     "text": [
      "                          MSE         MAE        RMSE     NRMSE        ND\n",
      "Train                0.000431    0.011579    0.020761  0.147848  0.082460\n",
      "Test                 0.001108    0.019757    0.033282  0.246567  0.146369\n",
      "Unscaled train  145425.125000  212.688675  381.346466  0.147848  0.082460\n",
      "Unscaled train  373735.375000  362.907532  611.338989  0.246567  0.146369\n"
     ]
    }
   ],
   "source": [
    "from examples.mia.time_series_mia.utils.metrics import mse, rmse, nrmse, mae, nd\n",
    "# Print metrics on final model, unscaled vs scaled, train and test\n",
    "device = torch.device(\"cuda\" if torch.cuda.is_available() else \"cpu\")\n",
    "\n",
    "train = predict(model, train_loader, device, original_scale=False)\n",
    "test  = predict(model, test_loader, device, original_scale=False)\n",
    "unscaled_train = predict(model, train_loader, device, original_scale=True)\n",
    "unscaled_test  = predict(model, test_loader, device, original_scale=True)\n",
    "\n",
    "metrics, names = [mse, mae, rmse, nrmse, nd], [\"MSE\", \"MAE\", \"RMSE\", \"NRMSE\", \"ND\"]\n",
    "values = [[m(*p) for m in metrics] for p in [train, test, unscaled_train, unscaled_test]]\n",
    "print(pd.DataFrame(values, columns=names, index=[\"Train\", \"Test\", \"Unscaled train\", \"Unscaled test\"]))"
   ]
  },
  {
   "cell_type": "markdown",
   "metadata": {},
   "source": [
    "### Plotting sample predictions"
   ]
  },
  {
   "cell_type": "code",
   "execution_count": null,
   "metadata": {},
   "outputs": [
    {
     "ename": "NameError",
     "evalue": "name 'test_loader' is not defined",
     "output_type": "error",
     "traceback": [
      "\u001b[1;31m---------------------------------------------------------------------------\u001b[0m",
      "\u001b[1;31mNameError\u001b[0m                                 Traceback (most recent call last)",
      "Cell \u001b[1;32mIn[1], line 2\u001b[0m\n\u001b[0;32m      1\u001b[0m \u001b[38;5;66;03m# Get random sample (re-execute for new one)\u001b[39;00m\n\u001b[1;32m----> 2\u001b[0m indices \u001b[38;5;241m=\u001b[39m \u001b[43mtest_loader\u001b[49m\u001b[38;5;241m.\u001b[39mdataset\u001b[38;5;241m.\u001b[39mindices\n\u001b[0;32m      3\u001b[0m random_sample_idx \u001b[38;5;241m=\u001b[39m np\u001b[38;5;241m.\u001b[39mrandom\u001b[38;5;241m.\u001b[39mchoice(indices)\n\u001b[0;32m      4\u001b[0m x \u001b[38;5;241m=\u001b[39m dataset\u001b[38;5;241m.\u001b[39mx[random_sample_idx,:,:]\u001b[38;5;241m.\u001b[39mto(device)\n",
      "\u001b[1;31mNameError\u001b[0m: name 'test_loader' is not defined"
     ]
    }
   ],
   "source": [
    "# Get random sample (re-execute for new one)\n",
    "indices = test_loader.dataset.indices\n",
    "random_sample_idx = np.random.choice(indices)\n",
    "x = dataset.x[random_sample_idx,:,:].to(device)\n",
    "y = dataset.y[random_sample_idx,:,:]\n",
    "y_pred = model(x.unsqueeze(0)).detach().squeeze(0)\n",
    "\n",
    "# Time axis\n",
    "time_x = np.arange(lookback)\n",
    "time_y = np.arange(lookback, lookback + horizon)\n",
    "\n",
    "for i in range(y.shape[-1]):  # plot forecast for each variable in the series\n",
    "    plt.plot(time_x, x[:, i].cpu().numpy(), label='x', alpha=0.7)  # lookback\n",
    "    plt.plot(time_y, y[:, i], label='y', color='C0', linestyle='dotted')  # true horizon\n",
    "    plt.plot(time_y, y_pred[:, i].cpu().numpy(), label='y_pred', color='C1')  # prediction\n",
    "\n",
    "    plt.xlabel(\"Time Steps\")\n",
    "    plt.ylabel(\"Values\")\n",
    "    plt.legend()\n",
    "    plt.title(f\"Random test sample ({random_sample_idx}) forecast: Variable {i+1}\")\n",
    "    plt.show()"
   ]
  },
  {
   "cell_type": "markdown",
   "metadata": {},
   "source": [
    "### Running MIA"
   ]
  },
  {
   "cell_type": "code",
   "execution_count": null,
   "metadata": {},
   "outputs": [
    {
     "name": "stdout",
     "output_type": "stream",
     "text": [
      "{'audit': {'random_seed': 42, 'attack_list': {'ensemble': {'training_data_fraction': 0.5, 'attack_data_fraction': 0.5, 'num_instances': 50, 'subset_size': 50, 'num_pairs': 5, 'audit': True}}, 'output_dir': './leakpro_output', 'attack_type': 'mia', 'modality': 'time_series'}, 'target': {'module_path': './utils/models/NBeats.py', 'model_class': 'NBeats', 'target_folder': './target', 'data_path': './data/ELD.pkl'}, 'shadow_model': None, 'distillation_model': None}\n"
     ]
    },
    {
     "name": "stderr",
     "output_type": "stream",
     "text": [
      "2025-03-09 22:38:25,061 INFO     Target model blueprint created from NBeats in ./utils/models/NBeats.py.\n",
      "2025-03-09 22:38:25,073 INFO     Loaded target model metadata from ./target/model_metadata.pkl\n",
      "c:\\Users\\totte\\Documents\\Kurser\\DATX05 - Master's Thesis\\LeakPro\\leakpro\\input_handler\\handler_setup.py:95: FutureWarning: You are using `torch.load` with `weights_only=False` (the current default value), which uses the default pickle module implicitly. It is possible to construct malicious pickle data which will execute arbitrary code during unpickling (See https://github.com/pytorch/pytorch/blob/main/SECURITY.md#untrusted-models for more details). In a future release, the default value for `weights_only` will be flipped to `True`. This limits the functions that could be executed during unpickling. Arbitrary objects will no longer be allowed to be loaded via this mode unless they are explicitly allowlisted by the user via `torch.serialization.add_safe_globals`. We recommend you start setting `weights_only=True` for any use case where you don't have full control of the loaded file. Please open an issue on GitHub for any issues related to this experimental feature.\n",
      "  self.target_model.load_state_dict(torch.load(f))\n",
      "2025-03-09 22:38:25,110 INFO     Loaded target model from ./target\n",
      "2025-03-09 22:38:25,282 INFO     Loaded population dataset from ./data/ELD.pkl\n",
      "2025-03-09 22:38:25,283 INFO     Loaded population dataset from ./data/ELD.pkl\n",
      "2025-03-09 22:38:40,594 INFO     MIA attack factory loaded.\n",
      "2025-03-09 22:38:40,595 INFO     Creating shadow model handler singleton\n",
      "2025-03-09 22:38:40,597 INFO     Created folder ./leakpro_output/attack_objects/shadow_model\n",
      "2025-03-09 22:38:40,598 INFO     Creating distillation model handler singleton\n",
      "2025-03-09 22:38:40,600 INFO     Created folder ./leakpro_output/attack_objects/distillation_model\n",
      "2025-03-09 22:38:40,602 INFO     Audit dataset is the entire population dataset.\n",
      "2025-03-09 22:38:40,602 INFO     Failed to create attack: ensemble, supported attacks: dict_keys(['population', 'rmia', 'qmia', 'loss_traj', 'lira', 'HSJ', 'yoqo', 'ensemble', 'rmia_direct'])\n",
      "2025-03-09 22:38:40,603 INFO     Auditing completed\n"
     ]
    }
   ],
   "source": [
    "# Prepare leakpro object\n",
    "leakpro = LeakPro(IndividualizedInputHandler, audit_config_path)\n",
    "\n",
    "# Run the audit \n",
    "leakpro.run_audit()"
   ]
  },
  {
   "cell_type": "code",
   "execution_count": null,
   "metadata": {},
   "outputs": [],
   "source": [
    "leakpro = LeakPro(IndividualizedInputHandler, audit_config_path)"
   ]
  }
 ],
 "metadata": {
  "kernelspec": {
   "display_name": "torch",
   "language": "python",
   "name": "python3"
  },
  "language_info": {
   "codemirror_mode": {
    "name": "ipython",
    "version": 3
   },
   "file_extension": ".py",
   "mimetype": "text/x-python",
   "name": "python",
   "nbconvert_exporter": "python",
   "pygments_lexer": "ipython3",
   "version": "3.11.9"
  }
 },
 "nbformat": 4,
 "nbformat_minor": 2
}
