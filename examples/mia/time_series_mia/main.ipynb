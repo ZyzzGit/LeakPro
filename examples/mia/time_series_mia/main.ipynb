{
 "cells": [
  {
   "cell_type": "markdown",
   "metadata": {},
   "source": [
    "# Time-Series MIA Example \n",
    "Base of example. Use and build upon this notebook during development."
   ]
  },
  {
   "cell_type": "code",
   "execution_count": 1,
   "metadata": {},
   "outputs": [],
   "source": [
    "import os\n",
    "import sys\n",
    "import yaml\n",
    "import matplotlib.pyplot as plt\n",
    "\n",
    "project_root = os.path.abspath(os.path.join(os.getcwd(), \"../../..\"))\n",
    "sys.path.append(project_root)\n",
    "\n",
    "from examples.mia.time_series_mia.utils.data_preparation import ECGDataset, preprocess_ECG_dataset, get_ECG_dataloaders\n",
    "from examples.mia.time_series_mia.utils.model_preparation import SimpleLSTM, create_trained_model_and_metadata"
   ]
  },
  {
   "cell_type": "code",
   "execution_count": 2,
   "metadata": {},
   "outputs": [],
   "source": [
    "# Define constants\n",
    "lookback = 100\n",
    "horizon = 10\n",
    "train_fraction = 0.6\n",
    "epochs = 5"
   ]
  },
  {
   "cell_type": "code",
   "execution_count": 3,
   "metadata": {},
   "outputs": [],
   "source": [
    "# Get data loaders\n",
    "path = os.path.join(os.getcwd(), \"data\")\n",
    "dataset = preprocess_ECG_dataset(path, lookback, horizon)\n",
    "train_loader, test_loader = get_ECG_dataloaders(dataset, train_fraction)"
   ]
  },
  {
   "cell_type": "code",
   "execution_count": 4,
   "metadata": {},
   "outputs": [
    {
     "name": "stderr",
     "output_type": "stream",
     "text": [
      "Training Progress: 100%|██████████| 5/5 [00:00<00:00,  8.42it/s]\n"
     ]
    }
   ],
   "source": [
    "# Train the LSTM model\n",
    "input_size = 12 # input size will be the amount of variables in the Time-Series\n",
    "model = SimpleLSTM(input_size, horizon)\n",
    "train_loss, test_loss = create_trained_model_and_metadata(model, train_loader, test_loader, epochs)"
   ]
  },
  {
   "cell_type": "code",
   "execution_count": 5,
   "metadata": {},
   "outputs": [
    {
     "data": {
      "image/png": "[encoded data removed]",
      "text/plain": [
       "<Figure size 288x288 with 1 Axes>"
      ]
     },
     "metadata": {
      "needs_background": "light"
     },
     "output_type": "display_data"
    }
   ],
   "source": [
    "# Plot training and test loss\n",
    "plt.figure(figsize=(4, 4))\n",
    "plt.plot(train_loss, label='Train Loss')\n",
    "plt.plot(test_loss, label='Test Loss')\n",
    "plt.xlabel('Epoch')\n",
    "plt.ylabel('Loss')\n",
    "plt.title('Loss over Epochs')\n",
    "plt.legend()\n",
    "plt.show()"
   ]
  },
  {
   "cell_type": "code",
   "execution_count": 6,
   "metadata": {},
   "outputs": [
    {
     "name": "stderr",
     "output_type": "stream",
     "text": [
      "2025-02-11 21:09:42,077 INFO     Target model blueprint created from SimpleLSTM in ./utils/model_preparation.py.\n",
      "2025-02-11 21:09:42,079 INFO     Loaded target model metadata from ./target/model_metadata.pkl\n",
      "2025-02-11 21:09:42,086 INFO     Loaded target model from ./target\n",
      "2025-02-11 21:09:42,204 INFO     Loaded population dataset from ./data/ECG_E00001.pkl\n",
      "2025-02-11 21:09:42,206 INFO     Loaded population dataset from ./data/ECG_E00001.pkl\n"
     ]
    },
    {
     "name": "stdout",
     "output_type": "stream",
     "text": [
      "{'audit': {'random_seed': 42, 'attack_list': {}, 'output_dir': './leakpro_output', 'attack_type': 'mia', 'modality': 'time_series'}, 'target': {'module_path': './utils/model_preparation.py', 'model_class': 'SimpleLSTM', 'target_folder': './target', 'data_path': './data/ECG_E00001.pkl'}, 'shadow_model': None, 'distillation_model': None}\n"
     ]
    },
    {
     "name": "stderr",
     "output_type": "stream",
     "text": [
      "2025-02-11 21:09:42,771 INFO     MIA attack factory loaded.\n",
      "2025-02-11 21:09:42,772 INFO     Auditing completed\n"
     ]
    }
   ],
   "source": [
    "from ECG_handler import ECGInputHandler\n",
    "from leakpro import LeakPro\n",
    "\n",
    "# Read the config file\n",
    "config_path = \"audit.yaml\"\n",
    "\n",
    "# Prepare leakpro object\n",
    "leakpro = LeakPro(ECGInputHandler, config_path)\n",
    "\n",
    "# Run the audit \n",
    "leakpro.run_audit()"
   ]
  }
 ],
 "metadata": {
  "kernelspec": {
   "display_name": "Python 3",
   "language": "python",
   "name": "python3"
  },
  "language_info": {
   "codemirror_mode": {
    "name": "ipython",
    "version": 3
   },
   "file_extension": ".py",
   "mimetype": "text/x-python",
   "name": "python",
   "nbconvert_exporter": "python",
   "pygments_lexer": "ipython3",
   "version": "3.10.12"
  }
 },
 "nbformat": 4,
 "nbformat_minor": 2
}
