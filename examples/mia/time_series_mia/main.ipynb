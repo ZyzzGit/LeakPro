{
 "cells": [
  {
   "cell_type": "markdown",
   "metadata": {},
   "source": [
    "# Time-Series MIA Example "
   ]
  },
  {
   "cell_type": "code",
   "execution_count": 30,
   "metadata": {},
   "outputs": [],
   "source": [
    "import os, sys, yaml, numpy as np, matplotlib.pyplot as plt, torch, pandas as pd\n",
    "\n",
    "project_root = os.path.abspath(os.path.join(os.getcwd(), \"../../..\"))\n",
    "sys.path.insert(0, project_root)  # <--- Puts it at the front of the path\n",
    "\n",
    "from examples.mia.time_series_mia.utils.data_preparation import preprocess_dataset, get_dataloaders\n",
    "from examples.mia.time_series_mia.utils.metrics import mse, smape, mae, nd\n",
    "from examples.mia.time_series_mia.utils.model_preparation import create_trained_model_and_metadata, predict\n",
    "from examples.mia.time_series_mia.utils.models.LSTM import LSTM\n",
    "from examples.mia.time_series_mia.utils.models.TCN import TCN\n",
    "from examples.mia.time_series_mia.utils.models.DLinear import DLinear\n",
    "from examples.mia.time_series_mia.utils.models.NBeats import NBeats\n",
    "from examples.mia.time_series_mia.utils.models.WaveNet import WaveNet\n",
    "from examples.mia.time_series_mia.utils.models.Bromick import Bromick\n",
    "from examples.mia.time_series_mia.utils.models.NHiTS import NHiTS\n",
    "from examples.mia.time_series_mia.utils.set_seed import set_seed\n",
    "\n",
    "from data_handler import IndividualizedInputHandler\n",
    "from leakpro import LeakPro"
   ]
  },
  {
   "cell_type": "code",
   "execution_count": 31,
   "metadata": {},
   "outputs": [],
   "source": [
    "audit_config_path = \"audit.yaml\"\n",
    "train_config_path = \"train_config.yaml\"\n",
    "\n",
    "# Load the yaml files\n",
    "with open(audit_config_path, 'r') as file:\n",
    "    audit_config = yaml.safe_load(file)\n",
    "\n",
    "with open(train_config_path, 'r') as file:\n",
    "    train_config = yaml.safe_load(file)"
   ]
  },
  {
   "cell_type": "code",
   "execution_count": 32,
   "metadata": {},
   "outputs": [],
   "source": [
    "random_seed = train_config[\"run\"][\"random_seed\"]\n",
    "log_dir = train_config[\"run\"][\"log_dir\"]\n",
    "\n",
    "epochs = train_config[\"train\"][\"epochs\"]\n",
    "batch_size = train_config[\"train\"][\"batch_size\"]\n",
    "optimizer = train_config[\"train\"][\"optimizer\"]\n",
    "loss_fn = train_config[\"train\"][\"loss\"]\n",
    "\n",
    "lookback = train_config[\"data\"][\"lookback\"]\n",
    "horizon = train_config[\"data\"][\"horizon\"]\n",
    "num_individuals = train_config[\"data\"][\"num_individuals\"]\n",
    "train_fraction = train_config[\"data\"][\"f_train\"]\n",
    "val_fraction = train_config[\"data\"].get(\"f_val\", 0.0)\n",
    "test_fraction = train_config[\"data\"][\"f_test\"]\n",
    "dataset_name = train_config[\"data\"][\"dataset\"]\n",
    "data_dir = train_config[\"data\"][\"data_dir\"]\n",
    "stride = train_config[\"data\"][\"stride\"]\n",
    "k_lead = train_config[\"data\"][\"k_lead\"] # number of leading variables to use\n",
    "num_time_steps = train_config[\"data\"][\"num_time_steps\"] # number of time steps per individual\n",
    "scaling = train_config[\"data\"].get(\"scaling\", \"none\") # none, standard, minmax, or robust\n",
    "\n",
    "early_stopping = train_config[\"train\"].get(\"early_stopping\", False)\n",
    "patience = train_config[\"train\"].get(\"patience\", 2)\n",
    "\n",
    "if early_stopping and round(val_fraction * num_individuals) < 1:\n",
    "    raise Exception(\"Early stopping applied but validation set is empty.\")"
   ]
  },
  {
   "cell_type": "code",
   "execution_count": 33,
   "metadata": {},
   "outputs": [],
   "source": [
    "# Get data loaders\n",
    "path = os.path.join(os.getcwd(), data_dir)\n",
    "target_data_path = audit_config[\"target\"][\"data_path\"]\n",
    "target_data_file = os.path.basename(target_data_path) # Only look at file name of target data path\n",
    "target_data_file = os.path.splitext(target_data_file)[0]\n",
    "\n",
    "if target_data_file != dataset_name:\n",
    "    raise Exception(f\"Received unknown dataset or mismatching target file: dataset={dataset_name}, target={target_data_path}.\")\n",
    "\n",
    "set_seed(random_seed) # Set seed before and after, to ensure same randomness if you process or dont process dataset (dataset already processed)\n",
    "dataset = preprocess_dataset(dataset_name, path, lookback, horizon, num_individuals, stride, scaling, val_fraction, k_lead=k_lead, num_time_steps=num_time_steps)\n",
    "\n",
    "set_seed(random_seed)\n",
    "train_loader, val_loader, test_loader = get_dataloaders(dataset, train_fraction, test_fraction, batch_size=batch_size)"
   ]
  },
  {
   "cell_type": "code",
   "execution_count": 34,
   "metadata": {},
   "outputs": [
    {
     "name": "stdout",
     "output_type": "stream",
     "text": [
      "Total 300 individuals whereof 60 train, 60 val, and 60 test\n"
     ]
    }
   ],
   "source": [
    "individual_length = dataset.individual_indices[0][1] - dataset.individual_indices[0][0]\n",
    "num_train_individuals = len(train_loader.dataset) // individual_length\n",
    "num_test_individuals = len(test_loader.dataset) // individual_length\n",
    "print(f\"Total {num_individuals} individuals whereof {num_train_individuals} train, {dataset.num_val_individuals} val, and {num_test_individuals} test\")"
   ]
  },
  {
   "cell_type": "code",
   "execution_count": 35,
   "metadata": {},
   "outputs": [
    {
     "name": "stderr",
     "output_type": "stream",
     "text": [
      "Training Progress:   0%|          | 0/50 [00:00<?, ?it/s]"
     ]
    },
    {
     "name": "stderr",
     "output_type": "stream",
     "text": [
      "Training Progress:  10%|█         | 5/50 [01:17<11:39, 15.54s/it]"
     ]
    },
    {
     "name": "stdout",
     "output_type": "stream",
     "text": [
      "Training stopped early at epoch 6.\n",
      "Best weights restored.\n"
     ]
    },
    {
     "name": "stderr",
     "output_type": "stream",
     "text": [
      "\n"
     ]
    }
   ],
   "source": [
    "# Train the model\n",
    "input_dim = dataset.input_dim\n",
    "model_name = audit_config[\"target\"][\"model_class\"]\n",
    "\n",
    "if model_name == \"LSTM\":\n",
    "    model = LSTM(input_dim, horizon)\n",
    "elif model_name == \"TCN\":\n",
    "    model = TCN(input_dim, horizon)\n",
    "elif model_name == \"DLinear\":\n",
    "    model = DLinear(input_dim, lookback, horizon)\n",
    "elif model_name == \"NBeats\":\n",
    "    model = NBeats(input_dim, lookback, horizon)\n",
    "elif model_name == \"WaveNet\":\n",
    "    model = WaveNet(input_dim, horizon)\n",
    "elif model_name == \"NHiTS\":\n",
    "    model = NHiTS(input_dim, lookback, horizon)\n",
    "elif model_name == \"Bromick\" or model_name == \"Bhowmick\":\n",
    "    model = Bromick(input_dim, horizon)\n",
    "else:\n",
    "    raise NotImplementedError()\n",
    "\n",
    "train_loss, test_loss = create_trained_model_and_metadata(model, train_loader, test_loader, epochs, optimizer, loss_fn, dataset_name, val_loader, early_stopping, patience)"
   ]
  },
  {
   "cell_type": "code",
   "execution_count": 36,
   "metadata": {},
   "outputs": [
    {
     "data": {
      "image/png": "[encoded data removed]",
      "text/plain": [
       "<Figure size 400x400 with 1 Axes>"
      ]
     },
     "metadata": {},
     "output_type": "display_data"
    }
   ],
   "source": [
    "# Plot training and test loss\n",
    "plt.figure(figsize=(4, 4))\n",
    "plt.plot(train_loss, label='Train Loss')\n",
    "plt.plot(test_loss, label='Test Loss')\n",
    "plt.yscale('log')\n",
    "plt.xlabel('Epoch')\n",
    "plt.ylabel('Loss')\n",
    "plt.title('Loss over Epochs')\n",
    "plt.legend()\n",
    "plt.show()"
   ]
  },
  {
   "cell_type": "markdown",
   "metadata": {},
   "source": [
    "### Plot metrics for final target model"
   ]
  },
  {
   "cell_type": "code",
   "execution_count": 39,
   "metadata": {},
   "outputs": [
    {
     "name": "stdout",
     "output_type": "stream",
     "text": [
      "                          MSE         MAE     SMAPE        ND\n",
      "Train                0.078605    0.094264  0.120025  0.094174\n",
      "Test                 0.023624    0.067469  0.110148  0.094734\n",
      "Val                  0.239899    0.127383  0.133478  0.079499\n",
      "Unscaled train   95375.742188  103.833664  0.067280  0.074381\n",
      "Unscaled test    28663.712891   74.318848  0.078345  0.072760\n",
      "Unscaled val    291083.031250  140.315109  0.069960  0.068052\n"
     ]
    }
   ],
   "source": [
    "# Print metrics on final model, unscaled vs scaled, train and test\n",
    "device = torch.device(\"cuda\" if torch.cuda.is_available() else \"cpu\")\n",
    "scaler = dataset.scaler\n",
    "\n",
    "train = predict(model, train_loader, device, scaler, original_scale=False)\n",
    "test  = predict(model, test_loader, device, scaler, original_scale=False)\n",
    "unscaled_train = predict(model, train_loader, device, scaler, original_scale=True)\n",
    "unscaled_test  = predict(model, test_loader, device, scaler, original_scale=True)\n",
    "\n",
    "metrics, names = [mse, mae, smape, nd], [\"MSE\", \"MAE\", \"SMAPE\", \"ND\"]\n",
    "\n",
    "if val_loader:\n",
    "    val  = predict(model, val_loader, device, scaler, original_scale=False)\n",
    "    unscaled_val = predict(model, val_loader, device, scaler, original_scale=True)\n",
    "    values = [[m(*p) for m in metrics] for p in [train, test, val, unscaled_train, unscaled_test, unscaled_val]]\n",
    "    print(pd.DataFrame(values, columns=names, index=[\"Train\", \"Test\", \"Val\", \"Unscaled train\", \"Unscaled test\", \"Unscaled val\"]))\n",
    "else:\n",
    "    values = [[m(*p) for m in metrics] for p in [train, test, unscaled_train, unscaled_test]]\n",
    "    print(pd.DataFrame(values, columns=names, index=[\"Train\", \"Test\", \"Unscaled train\", \"Unscaled test\"]))\n"
   ]
  },
  {
   "cell_type": "markdown",
   "metadata": {},
   "source": [
    "### Plotting sample predictions"
   ]
  },
  {
   "cell_type": "code",
   "execution_count": 38,
   "metadata": {},
   "outputs": [
    {
     "data": {
      "image/png": "[encoded data removed]",
      "text/plain": [
       "<Figure size 640x480 with 1 Axes>"
      ]
     },
     "metadata": {},
     "output_type": "display_data"
    }
   ],
   "source": [
    "# Get random sample (re-execute for new one)\n",
    "indices = test_loader.dataset.indices\n",
    "random_sample_idx = np.random.choice(indices)\n",
    "x = dataset.x[random_sample_idx,:,:].to(device)\n",
    "y = dataset.y[random_sample_idx,:,:]\n",
    "y_pred = model(x.unsqueeze(0)).detach().squeeze(0)\n",
    "\n",
    "# Time axis\n",
    "time_x = np.arange(lookback)\n",
    "time_y = np.arange(lookback, lookback + horizon)\n",
    "\n",
    "for i in range(y.shape[-1]):  # plot forecast for each variable in the series\n",
    "    plt.plot(time_x, x[:, i].cpu().numpy(), label='x', alpha=0.7)  # lookback\n",
    "    plt.plot(time_y, y[:, i], label='y', color='C0', linestyle='dotted')  # true horizon\n",
    "    plt.plot(time_y, y_pred[:, i].cpu().numpy(), label='y_pred', color='C1')  # prediction\n",
    "\n",
    "    plt.xlabel(\"Time Steps\")\n",
    "    plt.ylabel(\"Values\")\n",
    "    plt.legend()\n",
    "    plt.title(f\"Random test sample ({random_sample_idx}) forecast: Variable {i+1}\")\n",
    "    plt.show()"
   ]
  },
  {
   "cell_type": "markdown",
   "metadata": {},
   "source": [
    "### Running MIA"
   ]
  },
  {
   "cell_type": "code",
   "execution_count": 10,
   "metadata": {},
   "outputs": [
    {
     "name": "stderr",
     "output_type": "stream",
     "text": [
      "2025-04-02 12:49:48,093 INFO     Target model blueprint created from NHiTS in ./utils/models/NHiTS.py.\n",
      "2025-04-02 12:49:48,415 INFO     Loaded target model metadata from ./target/model_metadata.pkl\n",
      "2025-04-02 12:49:48,445 INFO     Loaded target model from ./target\n",
      "2025-04-02 12:49:50,568 INFO     Loaded population dataset from ../../../../data/ELD.pkl\n",
      "2025-04-02 12:49:50,568 INFO     Loaded population dataset from ../../../../data/ELD.pkl\n",
      "2025-04-02 12:49:50,725 INFO     MIA attack factory loaded.\n",
      "2025-04-02 12:49:50,726 INFO     Creating shadow model handler singleton\n",
      "2025-04-02 12:49:50,727 INFO     Created folder ./leakpro_output/attack_objects/shadow_model\n",
      "2025-04-02 12:49:50,740 INFO     Creating distillation model handler singleton\n",
      "2025-04-02 12:49:50,741 INFO     Created folder ./leakpro_output/attack_objects/distillation_model\n",
      "2025-04-02 12:49:50,753 INFO     Configuring the RMIA attack\n",
      "2025-04-02 12:49:50,786 INFO     User provided value for gamma, it won't be optimized by optuna.\n",
      "2025-04-02 12:49:50,787 INFO     Added attack: rmia\n",
      "2025-04-02 12:49:50,787 INFO     Preparing attack: rmia\n",
      "2025-04-02 12:49:50,788 INFO     Preparing shadow models for RMIA attack\n",
      "2025-04-02 12:49:50,851 INFO     Check for 64 shadow models (dataset: 1253520 points)\n",
      "2025-04-02 12:49:51,221 INFO     Training shadow model 0 on 627712 points\n",
      "Training Progress:  18%|█▊        | 9/50 [02:28<11:15, 16.47s/it]"
     ]
    },
    {
     "name": "stdout",
     "output_type": "stream",
     "text": [
      "Training stopped early at epoch 10.\n",
      "Best weights restored.\n"
     ]
    },
    {
     "name": "stderr",
     "output_type": "stream",
     "text": [
      "\n",
      "2025-04-02 12:52:20,041 INFO     Training shadow model 0 complete\n",
      "2025-04-02 12:52:20,048 INFO     Saved shadow model 0 to ./leakpro_output/attack_objects/shadow_model\n",
      "2025-04-02 12:52:20,048 INFO     Storing metadata for shadow model 0\n",
      "2025-04-02 12:52:20,049 INFO     Metadata for shadow model 0:\n",
      "{'init_params': {'input_dim': 1, 'lookback': 168, 'horizon': 24}, 'train_indices': array([1234375,   89628,  162479, ...,   88680,  150383,  258612]), 'num_train': 626760, 'optimizer': 'Adam', 'criterion': 'MSELoss', 'batch_size': 1024, 'epochs': 50, 'train_acc': 0, 'train_loss': 315632994.0625, 'test_acc': 0.0, 'test_loss': 0.0, 'online': True, 'model_class': 'NHiTS', 'target_model_hash': '1d549478a34f98a5c563edf5bf710d2004acc0b96183b3acbf1d2bf63ac94721'}\n",
      "2025-04-02 12:52:20,276 INFO     Metadata for shadow model 0 stored in ./leakpro_output/attack_objects/shadow_model\n",
      "2025-04-02 12:52:20,630 INFO     Training shadow model 1 on 627712 points\n",
      "Training Progress:  22%|██▏       | 11/50 [02:44<09:43, 14.96s/it]"
     ]
    },
    {
     "name": "stdout",
     "output_type": "stream",
     "text": [
      "Training stopped early at epoch 12.\n",
      "Best weights restored.\n"
     ]
    },
    {
     "name": "stderr",
     "output_type": "stream",
     "text": [
      "\n",
      "2025-04-02 12:55:05,794 INFO     Training shadow model 1 complete\n",
      "2025-04-02 12:55:05,801 INFO     Saved shadow model 1 to ./leakpro_output/attack_objects/shadow_model\n",
      "2025-04-02 12:55:05,802 INFO     Storing metadata for shadow model 1\n",
      "2025-04-02 12:55:05,803 INFO     Metadata for shadow model 1:\n",
      "{'init_params': {'input_dim': 1, 'lookback': 168, 'horizon': 24}, 'train_indices': array([   8267,  683740,  335716, ..., 1138639,   98352,  586267]), 'num_train': 626760, 'optimizer': 'Adam', 'criterion': 'MSELoss', 'batch_size': 1024, 'epochs': 50, 'train_acc': 0, 'train_loss': 301237421.5625, 'test_acc': 0.0, 'test_loss': 0.0, 'online': True, 'model_class': 'NHiTS', 'target_model_hash': '1d549478a34f98a5c563edf5bf710d2004acc0b96183b3acbf1d2bf63ac94721'}\n",
      "2025-04-02 12:55:06,044 INFO     Metadata for shadow model 1 stored in ./leakpro_output/attack_objects/shadow_model\n",
      "2025-04-02 12:55:06,381 INFO     Training shadow model 2 on 627712 points\n",
      "Training Progress:  18%|█▊        | 9/50 [02:17<10:24, 15.24s/it]"
     ]
    },
    {
     "name": "stdout",
     "output_type": "stream",
     "text": [
      "Training stopped early at epoch 10.\n",
      "Best weights restored.\n"
     ]
    },
    {
     "name": "stderr",
     "output_type": "stream",
     "text": [
      "\n",
      "2025-04-02 12:57:24,160 INFO     Training shadow model 2 complete\n",
      "2025-04-02 12:57:24,167 INFO     Saved shadow model 2 to ./leakpro_output/attack_objects/shadow_model\n",
      "2025-04-02 12:57:24,167 INFO     Storing metadata for shadow model 2\n",
      "2025-04-02 12:57:24,168 INFO     Metadata for shadow model 2:\n",
      "{'init_params': {'input_dim': 1, 'lookback': 168, 'horizon': 24}, 'train_indices': array([ 507539, 1210663,  107097, ..., 1247397,  121293,  569058]), 'num_train': 626760, 'optimizer': 'Adam', 'criterion': 'MSELoss', 'batch_size': 1024, 'epochs': 50, 'train_acc': 0, 'train_loss': 327424097.40625, 'test_acc': 0.0, 'test_loss': 0.0, 'online': True, 'model_class': 'NHiTS', 'target_model_hash': '1d549478a34f98a5c563edf5bf710d2004acc0b96183b3acbf1d2bf63ac94721'}\n",
      "2025-04-02 12:57:24,407 INFO     Metadata for shadow model 2 stored in ./leakpro_output/attack_objects/shadow_model\n",
      "2025-04-02 12:57:24,743 INFO     Training shadow model 3 on 627712 points\n",
      "Training Progress:  30%|███       | 15/50 [03:39<08:31, 14.63s/it]"
     ]
    },
    {
     "name": "stdout",
     "output_type": "stream",
     "text": [
      "Training stopped early at epoch 16.\n",
      "Best weights restored.\n"
     ]
    },
    {
     "name": "stderr",
     "output_type": "stream",
     "text": [
      "\n",
      "2025-04-02 13:01:04,775 INFO     Training shadow model 3 complete\n",
      "2025-04-02 13:01:04,782 INFO     Saved shadow model 3 to ./leakpro_output/attack_objects/shadow_model\n",
      "2025-04-02 13:01:04,782 INFO     Storing metadata for shadow model 3\n",
      "2025-04-02 13:01:04,783 INFO     Metadata for shadow model 3:\n",
      "{'init_params': {'input_dim': 1, 'lookback': 168, 'horizon': 24}, 'train_indices': array([ 148354,  177946,  123971, ..., 1087775,  216119, 1038436]), 'num_train': 626760, 'optimizer': 'Adam', 'criterion': 'MSELoss', 'batch_size': 1024, 'epochs': 50, 'train_acc': 0, 'train_loss': 274615503.7890625, 'test_acc': 0.0, 'test_loss': 0.0, 'online': True, 'model_class': 'NHiTS', 'target_model_hash': '1d549478a34f98a5c563edf5bf710d2004acc0b96183b3acbf1d2bf63ac94721'}\n",
      "2025-04-02 13:01:05,026 INFO     Metadata for shadow model 3 stored in ./leakpro_output/attack_objects/shadow_model\n",
      "2025-04-02 13:01:05,360 INFO     Training shadow model 4 on 627712 points\n",
      "Training Progress:  16%|█▌        | 8/50 [02:03<10:46, 15.40s/it]"
     ]
    },
    {
     "name": "stdout",
     "output_type": "stream",
     "text": [
      "Training stopped early at epoch 9.\n",
      "Best weights restored.\n"
     ]
    },
    {
     "name": "stderr",
     "output_type": "stream",
     "text": [
      "\n",
      "2025-04-02 13:03:09,163 INFO     Training shadow model 4 complete\n",
      "2025-04-02 13:03:09,170 INFO     Saved shadow model 4 to ./leakpro_output/attack_objects/shadow_model\n",
      "2025-04-02 13:03:09,170 INFO     Storing metadata for shadow model 4\n",
      "2025-04-02 13:03:09,171 INFO     Metadata for shadow model 4:\n",
      "{'init_params': {'input_dim': 1, 'lookback': 168, 'horizon': 24}, 'train_indices': array([301208, 719980, 236260, ..., 401485, 155442, 534789]), 'num_train': 626760, 'optimizer': 'Adam', 'criterion': 'MSELoss', 'batch_size': 1024, 'epochs': 50, 'train_acc': 0, 'train_loss': 321105231.109375, 'test_acc': 0.0, 'test_loss': 0.0, 'online': True, 'model_class': 'NHiTS', 'target_model_hash': '1d549478a34f98a5c563edf5bf710d2004acc0b96183b3acbf1d2bf63ac94721'}\n",
      "2025-04-02 13:03:09,414 INFO     Metadata for shadow model 4 stored in ./leakpro_output/attack_objects/shadow_model\n",
      "2025-04-02 13:03:09,759 INFO     Training shadow model 5 on 627712 points\n",
      "Training Progress:  14%|█▍        | 7/50 [01:49<11:15, 15.70s/it]"
     ]
    },
    {
     "name": "stdout",
     "output_type": "stream",
     "text": [
      "Training stopped early at epoch 8.\n",
      "Best weights restored.\n"
     ]
    },
    {
     "name": "stderr",
     "output_type": "stream",
     "text": [
      "\n",
      "2025-04-02 13:05:00,264 INFO     Training shadow model 5 complete\n",
      "2025-04-02 13:05:00,272 INFO     Saved shadow model 5 to ./leakpro_output/attack_objects/shadow_model\n",
      "2025-04-02 13:05:00,273 INFO     Storing metadata for shadow model 5\n",
      "2025-04-02 13:05:00,274 INFO     Metadata for shadow model 5:\n",
      "{'init_params': {'input_dim': 1, 'lookback': 168, 'horizon': 24}, 'train_indices': array([ 309187,  444618,  601728, ...,  221751, 1026923,  947669]), 'num_train': 626760, 'optimizer': 'Adam', 'criterion': 'MSELoss', 'batch_size': 1024, 'epochs': 50, 'train_acc': 0, 'train_loss': 88293132.609375, 'test_acc': 0.0, 'test_loss': 0.0, 'online': True, 'model_class': 'NHiTS', 'target_model_hash': '1d549478a34f98a5c563edf5bf710d2004acc0b96183b3acbf1d2bf63ac94721'}\n",
      "2025-04-02 13:05:00,516 INFO     Metadata for shadow model 5 stored in ./leakpro_output/attack_objects/shadow_model\n",
      "2025-04-02 13:05:00,852 INFO     Training shadow model 6 on 627712 points\n",
      "Training Progress:  24%|██▍       | 12/50 [02:59<09:29, 14.98s/it]"
     ]
    },
    {
     "name": "stdout",
     "output_type": "stream",
     "text": [
      "Training stopped early at epoch 13.\n",
      "Best weights restored.\n"
     ]
    },
    {
     "name": "stderr",
     "output_type": "stream",
     "text": [
      "\n",
      "2025-04-02 13:08:01,250 INFO     Training shadow model 6 complete\n",
      "2025-04-02 13:08:01,256 INFO     Saved shadow model 6 to ./leakpro_output/attack_objects/shadow_model\n",
      "2025-04-02 13:08:01,257 INFO     Storing metadata for shadow model 6\n",
      "2025-04-02 13:08:01,258 INFO     Metadata for shadow model 6:\n",
      "{'init_params': {'input_dim': 1, 'lookback': 168, 'horizon': 24}, 'train_indices': array([ 800873,  893896, 1057128, ..., 1240166,  463153,  673891]), 'num_train': 626760, 'optimizer': 'Adam', 'criterion': 'MSELoss', 'batch_size': 1024, 'epochs': 50, 'train_acc': 0, 'train_loss': 18078009.26171875, 'test_acc': 0.0, 'test_loss': 0.0, 'online': True, 'model_class': 'NHiTS', 'target_model_hash': '1d549478a34f98a5c563edf5bf710d2004acc0b96183b3acbf1d2bf63ac94721'}\n",
      "2025-04-02 13:08:01,502 INFO     Metadata for shadow model 6 stored in ./leakpro_output/attack_objects/shadow_model\n",
      "2025-04-02 13:08:01,859 INFO     Training shadow model 7 on 627712 points\n",
      "Training Progress:  34%|███▍      | 17/50 [04:08<08:01, 14.60s/it]"
     ]
    },
    {
     "name": "stdout",
     "output_type": "stream",
     "text": [
      "Training stopped early at epoch 18.\n",
      "Best weights restored.\n"
     ]
    },
    {
     "name": "stderr",
     "output_type": "stream",
     "text": [
      "\n",
      "2025-04-02 13:12:10,726 INFO     Training shadow model 7 complete\n",
      "2025-04-02 13:12:10,733 INFO     Saved shadow model 7 to ./leakpro_output/attack_objects/shadow_model\n",
      "2025-04-02 13:12:10,733 INFO     Storing metadata for shadow model 7\n",
      "2025-04-02 13:12:10,734 INFO     Metadata for shadow model 7:\n",
      "{'init_params': {'input_dim': 1, 'lookback': 168, 'horizon': 24}, 'train_indices': array([1005448,  200950,  588909, ...,   71372,  994009,  917753]), 'num_train': 626760, 'optimizer': 'Adam', 'criterion': 'MSELoss', 'batch_size': 1024, 'epochs': 50, 'train_acc': 0, 'train_loss': 239473602.2578125, 'test_acc': 0.0, 'test_loss': 0.0, 'online': True, 'model_class': 'NHiTS', 'target_model_hash': '1d549478a34f98a5c563edf5bf710d2004acc0b96183b3acbf1d2bf63ac94721'}\n",
      "2025-04-02 13:12:10,978 INFO     Metadata for shadow model 7 stored in ./leakpro_output/attack_objects/shadow_model\n",
      "2025-04-02 13:12:11,318 INFO     Training shadow model 8 on 627712 points\n",
      "Training Progress:  22%|██▏       | 11/50 [02:47<09:52, 15.20s/it]"
     ]
    },
    {
     "name": "stdout",
     "output_type": "stream",
     "text": [
      "Training stopped early at epoch 12.\n",
      "Best weights restored.\n"
     ]
    },
    {
     "name": "stderr",
     "output_type": "stream",
     "text": [
      "\n",
      "2025-04-02 13:14:59,160 INFO     Training shadow model 8 complete\n",
      "2025-04-02 13:14:59,167 INFO     Saved shadow model 8 to ./leakpro_output/attack_objects/shadow_model\n",
      "2025-04-02 13:14:59,167 INFO     Storing metadata for shadow model 8\n",
      "2025-04-02 13:14:59,169 INFO     Metadata for shadow model 8:\n",
      "{'init_params': {'input_dim': 1, 'lookback': 168, 'horizon': 24}, 'train_indices': array([217277, 838396, 795041, ...,   5054, 939993, 771469]), 'num_train': 626760, 'optimizer': 'Adam', 'criterion': 'MSELoss', 'batch_size': 1024, 'epochs': 50, 'train_acc': 0, 'train_loss': 309299867.0078125, 'test_acc': 0.0, 'test_loss': 0.0, 'online': True, 'model_class': 'NHiTS', 'target_model_hash': '1d549478a34f98a5c563edf5bf710d2004acc0b96183b3acbf1d2bf63ac94721'}\n",
      "2025-04-02 13:14:59,414 INFO     Metadata for shadow model 8 stored in ./leakpro_output/attack_objects/shadow_model\n",
      "2025-04-02 13:14:59,783 INFO     Training shadow model 9 on 627712 points\n",
      "Training Progress:  30%|███       | 15/50 [03:49<08:56, 15.32s/it]"
     ]
    },
    {
     "name": "stdout",
     "output_type": "stream",
     "text": [
      "Training stopped early at epoch 16.\n",
      "Best weights restored.\n"
     ]
    },
    {
     "name": "stderr",
     "output_type": "stream",
     "text": [
      "\n",
      "2025-04-02 13:18:50,444 INFO     Training shadow model 9 complete\n",
      "2025-04-02 13:18:50,453 INFO     Saved shadow model 9 to ./leakpro_output/attack_objects/shadow_model\n",
      "2025-04-02 13:18:50,453 INFO     Storing metadata for shadow model 9\n",
      "2025-04-02 13:18:50,454 INFO     Metadata for shadow model 9:\n",
      "{'init_params': {'input_dim': 1, 'lookback': 168, 'horizon': 24}, 'train_indices': array([1162643,  843530, 1002340, ...,  170277,  892989,   60145]), 'num_train': 626760, 'optimizer': 'Adam', 'criterion': 'MSELoss', 'batch_size': 1024, 'epochs': 50, 'train_acc': 0, 'train_loss': 270545984.859375, 'test_acc': 0.0, 'test_loss': 0.0, 'online': True, 'model_class': 'NHiTS', 'target_model_hash': '1d549478a34f98a5c563edf5bf710d2004acc0b96183b3acbf1d2bf63ac94721'}\n",
      "2025-04-02 13:18:50,720 INFO     Metadata for shadow model 9 stored in ./leakpro_output/attack_objects/shadow_model\n",
      "2025-04-02 13:18:51,135 INFO     Training shadow model 10 on 627712 points\n",
      "Training Progress:  18%|█▊        | 9/50 [02:27<11:10, 16.36s/it]"
     ]
    },
    {
     "name": "stdout",
     "output_type": "stream",
     "text": [
      "Training stopped early at epoch 10.\n",
      "Best weights restored.\n"
     ]
    },
    {
     "name": "stderr",
     "output_type": "stream",
     "text": [
      "\n",
      "2025-04-02 13:21:19,225 INFO     Training shadow model 10 complete\n",
      "2025-04-02 13:21:19,234 INFO     Saved shadow model 10 to ./leakpro_output/attack_objects/shadow_model\n",
      "2025-04-02 13:21:19,235 INFO     Storing metadata for shadow model 10\n",
      "2025-04-02 13:21:19,237 INFO     Metadata for shadow model 10:\n",
      "{'init_params': {'input_dim': 1, 'lookback': 168, 'horizon': 24}, 'train_indices': array([  12258,  608246,  754785, ..., 1036428,  294828, 1055512]), 'num_train': 626760, 'optimizer': 'Adam', 'criterion': 'MSELoss', 'batch_size': 1024, 'epochs': 50, 'train_acc': 0, 'train_loss': 335331106.71875, 'test_acc': 0.0, 'test_loss': 0.0, 'online': True, 'model_class': 'NHiTS', 'target_model_hash': '1d549478a34f98a5c563edf5bf710d2004acc0b96183b3acbf1d2bf63ac94721'}\n",
      "2025-04-02 13:21:19,509 INFO     Metadata for shadow model 10 stored in ./leakpro_output/attack_objects/shadow_model\n",
      "2025-04-02 13:21:19,893 INFO     Training shadow model 11 on 627712 points\n",
      "Training Progress:  14%|█▍        | 7/50 [02:04<12:42, 17.74s/it]"
     ]
    },
    {
     "name": "stdout",
     "output_type": "stream",
     "text": [
      "Training stopped early at epoch 8.\n",
      "Best weights restored.\n"
     ]
    },
    {
     "name": "stderr",
     "output_type": "stream",
     "text": [
      "\n",
      "2025-04-02 13:23:24,771 INFO     Training shadow model 11 complete\n",
      "2025-04-02 13:23:24,778 INFO     Saved shadow model 11 to ./leakpro_output/attack_objects/shadow_model\n",
      "2025-04-02 13:23:24,779 INFO     Storing metadata for shadow model 11\n",
      "2025-04-02 13:23:24,780 INFO     Metadata for shadow model 11:\n",
      "{'init_params': {'input_dim': 1, 'lookback': 168, 'horizon': 24}, 'train_indices': array([ 310260, 1216414, 1211986, ...,  897655,  434304,  743588]), 'num_train': 626760, 'optimizer': 'Adam', 'criterion': 'MSELoss', 'batch_size': 1024, 'epochs': 50, 'train_acc': 0, 'train_loss': 364043198.21875, 'test_acc': 0.0, 'test_loss': 0.0, 'online': True, 'model_class': 'NHiTS', 'target_model_hash': '1d549478a34f98a5c563edf5bf710d2004acc0b96183b3acbf1d2bf63ac94721'}\n",
      "2025-04-02 13:23:25,027 INFO     Metadata for shadow model 11 stored in ./leakpro_output/attack_objects/shadow_model\n",
      "2025-04-02 13:23:25,380 INFO     Training shadow model 12 on 627712 points\n",
      "Training Progress:  20%|██        | 10/50 [02:40<10:43, 16.08s/it]"
     ]
    },
    {
     "name": "stdout",
     "output_type": "stream",
     "text": [
      "Training stopped early at epoch 11.\n",
      "Best weights restored.\n"
     ]
    },
    {
     "name": "stderr",
     "output_type": "stream",
     "text": [
      "\n",
      "2025-04-02 13:26:06,848 INFO     Training shadow model 12 complete\n",
      "2025-04-02 13:26:06,856 INFO     Saved shadow model 12 to ./leakpro_output/attack_objects/shadow_model\n",
      "2025-04-02 13:26:06,856 INFO     Storing metadata for shadow model 12\n",
      "2025-04-02 13:26:06,857 INFO     Metadata for shadow model 12:\n",
      "{'init_params': {'input_dim': 1, 'lookback': 168, 'horizon': 24}, 'train_indices': array([1042083, 1060206, 1055516, ...,  130606,  151457,  607151]), 'num_train': 626760, 'optimizer': 'Adam', 'criterion': 'MSELoss', 'batch_size': 1024, 'epochs': 50, 'train_acc': 0, 'train_loss': 291723376.69921875, 'test_acc': 0.0, 'test_loss': 0.0, 'online': True, 'model_class': 'NHiTS', 'target_model_hash': '1d549478a34f98a5c563edf5bf710d2004acc0b96183b3acbf1d2bf63ac94721'}\n",
      "2025-04-02 13:26:07,106 INFO     Metadata for shadow model 12 stored in ./leakpro_output/attack_objects/shadow_model\n",
      "2025-04-02 13:26:07,482 INFO     Training shadow model 13 on 627712 points\n",
      "Training Progress:  24%|██▍       | 12/50 [03:15<10:17, 16.26s/it]"
     ]
    },
    {
     "name": "stdout",
     "output_type": "stream",
     "text": [
      "Training stopped early at epoch 13.\n",
      "Best weights restored.\n"
     ]
    },
    {
     "name": "stderr",
     "output_type": "stream",
     "text": [
      "\n",
      "2025-04-02 13:29:23,385 INFO     Training shadow model 13 complete\n",
      "2025-04-02 13:29:23,394 INFO     Saved shadow model 13 to ./leakpro_output/attack_objects/shadow_model\n",
      "2025-04-02 13:29:23,395 INFO     Storing metadata for shadow model 13\n",
      "2025-04-02 13:29:23,396 INFO     Metadata for shadow model 13:\n",
      "{'init_params': {'input_dim': 1, 'lookback': 168, 'horizon': 24}, 'train_indices': array([ 933850,  797771, 1221067, ...,  491210,  363870,  283095]), 'num_train': 626760, 'optimizer': 'Adam', 'criterion': 'MSELoss', 'batch_size': 1024, 'epochs': 50, 'train_acc': 0, 'train_loss': 273297319.3935547, 'test_acc': 0.0, 'test_loss': 0.0, 'online': True, 'model_class': 'NHiTS', 'target_model_hash': '1d549478a34f98a5c563edf5bf710d2004acc0b96183b3acbf1d2bf63ac94721'}\n",
      "2025-04-02 13:29:23,661 INFO     Metadata for shadow model 13 stored in ./leakpro_output/attack_objects/shadow_model\n",
      "2025-04-02 13:29:24,020 INFO     Training shadow model 14 on 627712 points\n",
      "Training Progress:  26%|██▌       | 13/50 [03:21<09:34, 15.51s/it]"
     ]
    },
    {
     "name": "stdout",
     "output_type": "stream",
     "text": [
      "Training stopped early at epoch 14.\n",
      "Best weights restored.\n"
     ]
    },
    {
     "name": "stderr",
     "output_type": "stream",
     "text": [
      "\n",
      "2025-04-02 13:32:46,529 INFO     Training shadow model 14 complete\n",
      "2025-04-02 13:32:46,538 INFO     Saved shadow model 14 to ./leakpro_output/attack_objects/shadow_model\n",
      "2025-04-02 13:32:46,539 INFO     Storing metadata for shadow model 14\n",
      "2025-04-02 13:32:46,540 INFO     Metadata for shadow model 14:\n",
      "{'init_params': {'input_dim': 1, 'lookback': 168, 'horizon': 24}, 'train_indices': array([ 857832,  994930, 1240415, ..., 1125000,  687207,  486777]), 'num_train': 626760, 'optimizer': 'Adam', 'criterion': 'MSELoss', 'batch_size': 1024, 'epochs': 50, 'train_acc': 0, 'train_loss': 283847614.3574219, 'test_acc': 0.0, 'test_loss': 0.0, 'online': True, 'model_class': 'NHiTS', 'target_model_hash': '1d549478a34f98a5c563edf5bf710d2004acc0b96183b3acbf1d2bf63ac94721'}\n",
      "2025-04-02 13:32:46,808 INFO     Metadata for shadow model 14 stored in ./leakpro_output/attack_objects/shadow_model\n",
      "2025-04-02 13:32:47,199 INFO     Training shadow model 15 on 627712 points\n",
      "Training Progress:  18%|█▊        | 9/50 [02:25<11:01, 16.13s/it]"
     ]
    },
    {
     "name": "stdout",
     "output_type": "stream",
     "text": [
      "Training stopped early at epoch 10.\n",
      "Best weights restored.\n"
     ]
    },
    {
     "name": "stderr",
     "output_type": "stream",
     "text": [
      "\n",
      "2025-04-02 13:35:13,141 INFO     Training shadow model 15 complete\n",
      "2025-04-02 13:35:13,149 INFO     Saved shadow model 15 to ./leakpro_output/attack_objects/shadow_model\n",
      "2025-04-02 13:35:13,150 INFO     Storing metadata for shadow model 15\n",
      "2025-04-02 13:35:13,150 INFO     Metadata for shadow model 15:\n",
      "{'init_params': {'input_dim': 1, 'lookback': 168, 'horizon': 24}, 'train_indices': array([1139778,  863723,  164397, ...,   24804,  879552,  220193]), 'num_train': 626760, 'optimizer': 'Adam', 'criterion': 'MSELoss', 'batch_size': 1024, 'epochs': 50, 'train_acc': 0, 'train_loss': 326216059.96484375, 'test_acc': 0.0, 'test_loss': 0.0, 'online': True, 'model_class': 'NHiTS', 'target_model_hash': '1d549478a34f98a5c563edf5bf710d2004acc0b96183b3acbf1d2bf63ac94721'}\n",
      "2025-04-02 13:35:13,415 INFO     Metadata for shadow model 15 stored in ./leakpro_output/attack_objects/shadow_model\n",
      "2025-04-02 13:35:13,787 INFO     Training shadow model 16 on 627712 points\n",
      "Training Progress:  30%|███       | 15/50 [03:51<09:00, 15.46s/it]"
     ]
    },
    {
     "name": "stdout",
     "output_type": "stream",
     "text": [
      "Training stopped early at epoch 16.\n",
      "Best weights restored.\n"
     ]
    },
    {
     "name": "stderr",
     "output_type": "stream",
     "text": [
      "\n",
      "2025-04-02 13:39:06,291 INFO     Training shadow model 16 complete\n",
      "2025-04-02 13:39:06,298 INFO     Saved shadow model 16 to ./leakpro_output/attack_objects/shadow_model\n",
      "2025-04-02 13:39:06,299 INFO     Storing metadata for shadow model 16\n",
      "2025-04-02 13:39:06,300 INFO     Metadata for shadow model 16:\n",
      "{'init_params': {'input_dim': 1, 'lookback': 168, 'horizon': 24}, 'train_indices': array([ 558007,  308115,  200059, ..., 1175252,  880374,  599722]), 'num_train': 626760, 'optimizer': 'Adam', 'criterion': 'MSELoss', 'batch_size': 1024, 'epochs': 50, 'train_acc': 0, 'train_loss': 274527426.3515625, 'test_acc': 0.0, 'test_loss': 0.0, 'online': True, 'model_class': 'NHiTS', 'target_model_hash': '1d549478a34f98a5c563edf5bf710d2004acc0b96183b3acbf1d2bf63ac94721'}\n",
      "2025-04-02 13:39:06,546 INFO     Metadata for shadow model 16 stored in ./leakpro_output/attack_objects/shadow_model\n",
      "2025-04-02 13:39:06,907 INFO     Training shadow model 17 on 627712 points\n",
      "Training Progress:  16%|█▌        | 8/50 [02:07<11:09, 15.94s/it]"
     ]
    },
    {
     "name": "stdout",
     "output_type": "stream",
     "text": [
      "Training stopped early at epoch 9.\n",
      "Best weights restored.\n"
     ]
    },
    {
     "name": "stderr",
     "output_type": "stream",
     "text": [
      "\n",
      "2025-04-02 13:41:15,269 INFO     Training shadow model 17 complete\n",
      "2025-04-02 13:41:15,277 INFO     Saved shadow model 17 to ./leakpro_output/attack_objects/shadow_model\n",
      "2025-04-02 13:41:15,278 INFO     Storing metadata for shadow model 17\n",
      "2025-04-02 13:41:15,279 INFO     Metadata for shadow model 17:\n",
      "{'init_params': {'input_dim': 1, 'lookback': 168, 'horizon': 24}, 'train_indices': array([372927, 252029, 918397, ..., 142568,  73310, 916101]), 'num_train': 626760, 'optimizer': 'Adam', 'criterion': 'MSELoss', 'batch_size': 1024, 'epochs': 50, 'train_acc': 0, 'train_loss': 55071079.734375, 'test_acc': 0.0, 'test_loss': 0.0, 'online': True, 'model_class': 'NHiTS', 'target_model_hash': '1d549478a34f98a5c563edf5bf710d2004acc0b96183b3acbf1d2bf63ac94721'}\n",
      "2025-04-02 13:41:15,544 INFO     Metadata for shadow model 17 stored in ./leakpro_output/attack_objects/shadow_model\n",
      "2025-04-02 13:41:15,899 INFO     Training shadow model 18 on 627712 points\n",
      "Training Progress:  20%|██        | 10/50 [02:43<10:52, 16.31s/it]"
     ]
    },
    {
     "name": "stdout",
     "output_type": "stream",
     "text": [
      "Training stopped early at epoch 11.\n",
      "Best weights restored.\n"
     ]
    },
    {
     "name": "stderr",
     "output_type": "stream",
     "text": [
      "\n",
      "2025-04-02 13:43:59,653 INFO     Training shadow model 18 complete\n",
      "2025-04-02 13:43:59,660 INFO     Saved shadow model 18 to ./leakpro_output/attack_objects/shadow_model\n",
      "2025-04-02 13:43:59,661 INFO     Storing metadata for shadow model 18\n",
      "2025-04-02 13:43:59,662 INFO     Metadata for shadow model 18:\n",
      "{'init_params': {'input_dim': 1, 'lookback': 168, 'horizon': 24}, 'train_indices': array([ 926756, 1010841, 1225949, ..., 1012534,  823773,  710538]), 'num_train': 626760, 'optimizer': 'Adam', 'criterion': 'MSELoss', 'batch_size': 1024, 'epochs': 50, 'train_acc': 0, 'train_loss': 330730272.96875, 'test_acc': 0.0, 'test_loss': 0.0, 'online': True, 'model_class': 'NHiTS', 'target_model_hash': '1d549478a34f98a5c563edf5bf710d2004acc0b96183b3acbf1d2bf63ac94721'}\n",
      "2025-04-02 13:43:59,910 INFO     Metadata for shadow model 18 stored in ./leakpro_output/attack_objects/shadow_model\n",
      "2025-04-02 13:44:00,260 INFO     Training shadow model 19 on 627712 points\n",
      "Training Progress:  28%|██▊       | 14/50 [03:44<09:38, 16.07s/it]"
     ]
    },
    {
     "name": "stdout",
     "output_type": "stream",
     "text": [
      "Training stopped early at epoch 15.\n",
      "Best weights restored.\n"
     ]
    },
    {
     "name": "stderr",
     "output_type": "stream",
     "text": [
      "\n",
      "2025-04-02 13:47:46,072 INFO     Training shadow model 19 complete\n",
      "2025-04-02 13:47:46,080 INFO     Saved shadow model 19 to ./leakpro_output/attack_objects/shadow_model\n",
      "2025-04-02 13:47:46,081 INFO     Storing metadata for shadow model 19\n",
      "2025-04-02 13:47:46,082 INFO     Metadata for shadow model 19:\n",
      "{'init_params': {'input_dim': 1, 'lookback': 168, 'horizon': 24}, 'train_indices': array([ 421000,  274717,  957525, ...,  683909, 1032423,  541590]), 'num_train': 626760, 'optimizer': 'Adam', 'criterion': 'MSELoss', 'batch_size': 1024, 'epochs': 50, 'train_acc': 0, 'train_loss': 275377627.125, 'test_acc': 0.0, 'test_loss': 0.0, 'online': True, 'model_class': 'NHiTS', 'target_model_hash': '1d549478a34f98a5c563edf5bf710d2004acc0b96183b3acbf1d2bf63ac94721'}\n",
      "2025-04-02 13:47:46,351 INFO     Metadata for shadow model 19 stored in ./leakpro_output/attack_objects/shadow_model\n",
      "2025-04-02 13:47:46,760 INFO     Training shadow model 20 on 627712 points\n",
      "Training Progress:  22%|██▏       | 11/50 [02:48<09:57, 15.32s/it]"
     ]
    },
    {
     "name": "stdout",
     "output_type": "stream",
     "text": [
      "Training stopped early at epoch 12.\n",
      "Best weights restored.\n"
     ]
    },
    {
     "name": "stderr",
     "output_type": "stream",
     "text": [
      "\n",
      "2025-04-02 13:50:35,926 INFO     Training shadow model 20 complete\n",
      "2025-04-02 13:50:35,933 INFO     Saved shadow model 20 to ./leakpro_output/attack_objects/shadow_model\n",
      "2025-04-02 13:50:35,934 INFO     Storing metadata for shadow model 20\n",
      "2025-04-02 13:50:35,934 INFO     Metadata for shadow model 20:\n",
      "{'init_params': {'input_dim': 1, 'lookback': 168, 'horizon': 24}, 'train_indices': array([1091329,   46360,  904289, ...,  657406, 1195730,  639063]), 'num_train': 626760, 'optimizer': 'Adam', 'criterion': 'MSELoss', 'batch_size': 1024, 'epochs': 50, 'train_acc': 0, 'train_loss': 60977593.390625, 'test_acc': 0.0, 'test_loss': 0.0, 'online': True, 'model_class': 'NHiTS', 'target_model_hash': '1d549478a34f98a5c563edf5bf710d2004acc0b96183b3acbf1d2bf63ac94721'}\n",
      "2025-04-02 13:50:36,178 INFO     Metadata for shadow model 20 stored in ./leakpro_output/attack_objects/shadow_model\n",
      "2025-04-02 13:50:36,510 INFO     Training shadow model 21 on 627712 points\n",
      "Training Progress:   0%|          | 0/50 [00:08<?, ?it/s]\n"
     ]
    },
    {
     "ename": "KeyboardInterrupt",
     "evalue": "",
     "output_type": "error",
     "traceback": [
      "\u001b[31m---------------------------------------------------------------------------\u001b[39m",
      "\u001b[31mKeyboardInterrupt\u001b[39m                         Traceback (most recent call last)",
      "\u001b[36mCell\u001b[39m\u001b[36m \u001b[39m\u001b[32mIn[10]\u001b[39m\u001b[32m, line 5\u001b[39m\n\u001b[32m      2\u001b[39m leakpro = LeakPro(IndividualizedInputHandler, audit_config_path)\n\u001b[32m      4\u001b[39m \u001b[38;5;66;03m# Run the audit \u001b[39;00m\n\u001b[32m----> \u001b[39m\u001b[32m5\u001b[39m mia_results = \u001b[43mleakpro\u001b[49m\u001b[43m.\u001b[49m\u001b[43mrun_audit\u001b[49m\u001b[43m(\u001b[49m\u001b[43mreturn_results\u001b[49m\u001b[43m=\u001b[49m\u001b[38;5;28;43;01mTrue\u001b[39;49;00m\u001b[43m)\u001b[49m\n",
      "\u001b[36mFile \u001b[39m\u001b[32m~/LeakPro/leakpro/leakpro.py:88\u001b[39m, in \u001b[36mLeakPro.run_audit\u001b[39m\u001b[34m(self, return_results, use_optuna)\u001b[39m\n\u001b[32m     85\u001b[39m \u001b[38;5;28;01mdef\u001b[39;00m\u001b[38;5;250m \u001b[39m\u001b[34mrun_audit\u001b[39m(\u001b[38;5;28mself\u001b[39m:Self, return_results: \u001b[38;5;28mbool\u001b[39m = \u001b[38;5;28;01mFalse\u001b[39;00m, use_optuna: \u001b[38;5;28mbool\u001b[39m = \u001b[38;5;28;01mFalse\u001b[39;00m) -> \u001b[38;5;28;01mNone\u001b[39;00m:\n\u001b[32m     86\u001b[39m \u001b[38;5;250m    \u001b[39m\u001b[33;03m\"\"\"Run the audit.\"\"\"\u001b[39;00m\n\u001b[32m---> \u001b[39m\u001b[32m88\u001b[39m     audit_results = \u001b[38;5;28;43mself\u001b[39;49m\u001b[43m.\u001b[49m\u001b[43mattack_scheduler\u001b[49m\u001b[43m.\u001b[49m\u001b[43mrun_attacks\u001b[49m\u001b[43m(\u001b[49m\u001b[43muse_optuna\u001b[49m\u001b[43m=\u001b[49m\u001b[43muse_optuna\u001b[49m\u001b[43m)\u001b[49m\n\u001b[32m     89\u001b[39m     results = [] \u001b[38;5;28;01mif\u001b[39;00m return_results \u001b[38;5;28;01melse\u001b[39;00m \u001b[38;5;28;01mNone\u001b[39;00m\n\u001b[32m     91\u001b[39m     \u001b[38;5;28;01mfor\u001b[39;00m attack_name \u001b[38;5;129;01min\u001b[39;00m audit_results:\n",
      "\u001b[36mFile \u001b[39m\u001b[32m~/LeakPro/leakpro/attacks/attack_scheduler.py:85\u001b[39m, in \u001b[36mAttackScheduler.run_attacks\u001b[39m\u001b[34m(self, use_optuna)\u001b[39m\n\u001b[32m     82\u001b[39m \u001b[38;5;28;01mfor\u001b[39;00m attack, attack_type \u001b[38;5;129;01min\u001b[39;00m \u001b[38;5;28mzip\u001b[39m(\u001b[38;5;28mself\u001b[39m.attacks, \u001b[38;5;28mself\u001b[39m.attack_list):\n\u001b[32m     84\u001b[39m     logger.info(\u001b[33mf\u001b[39m\u001b[33m\"\u001b[39m\u001b[33mPreparing attack: \u001b[39m\u001b[38;5;132;01m{\u001b[39;00mattack_type\u001b[38;5;132;01m}\u001b[39;00m\u001b[33m\"\u001b[39m)\n\u001b[32m---> \u001b[39m\u001b[32m85\u001b[39m     \u001b[43mattack\u001b[49m\u001b[43m.\u001b[49m\u001b[43mprepare_attack\u001b[49m\u001b[43m(\u001b[49m\u001b[43m)\u001b[49m\n\u001b[32m     87\u001b[39m     logger.info(\u001b[33mf\u001b[39m\u001b[33m\"\u001b[39m\u001b[33mRunning attack: \u001b[39m\u001b[38;5;132;01m{\u001b[39;00mattack_type\u001b[38;5;132;01m}\u001b[39;00m\u001b[33m\"\u001b[39m)\n\u001b[32m     88\u001b[39m     \u001b[38;5;28;01mif\u001b[39;00m use_optuna \u001b[38;5;129;01mand\u001b[39;00m attack.optuna_params > \u001b[32m0\u001b[39m:\n",
      "\u001b[36mFile \u001b[39m\u001b[32m~/LeakPro/leakpro/attacks/mia_attacks/rmia.py:185\u001b[39m, in \u001b[36mprepare_attack\u001b[39m\u001b[34m(self)\u001b[39m\n\u001b[32m    182\u001b[39m logger.info(\u001b[33m\"\u001b[39m\u001b[33mPreparing shadow models for RMIA attack\u001b[39m\u001b[33m\"\u001b[39m)\n\u001b[32m    184\u001b[39m \u001b[38;5;66;03m# If we already have one run, we dont need to check for shadow models as logits are stored\u001b[39;00m\n\u001b[32m--> \u001b[39m\u001b[32m185\u001b[39m \u001b[38;5;28;01mif\u001b[39;00m \u001b[38;5;129;01mnot\u001b[39;00m \u001b[38;5;28mself\u001b[39m.load_for_optuna:\n\u001b[32m    186\u001b[39m     \u001b[38;5;28mself\u001b[39m._prepare_shadow_models()\n\u001b[32m    188\u001b[39m \u001b[38;5;66;03m# compute quantities that are not touching the audit dataset\u001b[39;00m\n",
      "\u001b[36mFile \u001b[39m\u001b[32m~/LeakPro/leakpro/attacks/mia_attacks/rmia.py:136\u001b[39m, in \u001b[36m_prepare_shadow_models\u001b[39m\u001b[34m(self)\u001b[39m\n\u001b[32m    132\u001b[39m \u001b[38;5;28mself\u001b[39m.attack_data_indices = \u001b[38;5;28mself\u001b[39m.sample_indices_from_population(include_train_indices = \u001b[38;5;28mself\u001b[39m.online,\n\u001b[32m    133\u001b[39m                                                             include_test_indices = \u001b[38;5;28mself\u001b[39m.online)\n\u001b[32m    135\u001b[39m \u001b[38;5;66;03m# train shadow models\u001b[39;00m\n\u001b[32m--> \u001b[39m\u001b[32m136\u001b[39m logger.info(\u001b[33mf\u001b[39m\u001b[33m\"\u001b[39m\u001b[33mCheck for \u001b[39m\u001b[38;5;132;01m{\u001b[39;00m\u001b[38;5;28mself\u001b[39m.num_shadow_models\u001b[38;5;132;01m}\u001b[39;00m\u001b[33m shadow models (dataset: \u001b[39m\u001b[38;5;132;01m{\u001b[39;00m\u001b[38;5;28mlen\u001b[39m(\u001b[38;5;28mself\u001b[39m.attack_data_indices)\u001b[38;5;132;01m}\u001b[39;00m\u001b[33m points)\u001b[39m\u001b[33m\"\u001b[39m)\n\u001b[32m    137\u001b[39m \u001b[38;5;28mself\u001b[39m.shadow_model_indices = ShadowModelHandler().create_shadow_models(\n\u001b[32m    138\u001b[39m     num_models = \u001b[38;5;28mself\u001b[39m.num_shadow_models,\n\u001b[32m    139\u001b[39m     shadow_population = \u001b[38;5;28mself\u001b[39m.attack_data_indices,\n\u001b[32m    140\u001b[39m     training_fraction = \u001b[38;5;28mself\u001b[39m.training_data_fraction,\n\u001b[32m    141\u001b[39m     online = \u001b[38;5;28mself\u001b[39m.online)\n\u001b[32m    142\u001b[39m \u001b[38;5;66;03m# load shadow models\u001b[39;00m\n",
      "\u001b[36mFile \u001b[39m\u001b[32m~/LeakPro/leakpro/attacks/utils/shadow_model_handler.py:151\u001b[39m, in \u001b[36mShadowModelHandler.create_shadow_models\u001b[39m\u001b[34m(self, num_models, shadow_population, training_fraction, online)\u001b[39m\n\u001b[32m    149\u001b[39m \u001b[38;5;66;03m# Train shadow model\u001b[39;00m\n\u001b[32m    150\u001b[39m logger.info(\u001b[33mf\u001b[39m\u001b[33m\"\u001b[39m\u001b[33mTraining shadow model \u001b[39m\u001b[38;5;132;01m{\u001b[39;00mi\u001b[38;5;132;01m}\u001b[39;00m\u001b[33m on \u001b[39m\u001b[38;5;132;01m{\u001b[39;00m\u001b[38;5;28mlen\u001b[39m(data_loader)*\u001b[38;5;250m \u001b[39mdata_loader.batch_size\u001b[38;5;132;01m}\u001b[39;00m\u001b[33m points\u001b[39m\u001b[33m\"\u001b[39m)\n\u001b[32m--> \u001b[39m\u001b[32m151\u001b[39m training_results = \u001b[38;5;28;43mself\u001b[39;49m\u001b[43m.\u001b[49m\u001b[43mhandler\u001b[49m\u001b[43m.\u001b[49m\u001b[43mtrain\u001b[49m\u001b[43m(\u001b[49m\u001b[43mdata_loader\u001b[49m\u001b[43m,\u001b[49m\u001b[43m \u001b[49m\u001b[43mmodel\u001b[49m\u001b[43m,\u001b[49m\u001b[43m \u001b[49m\u001b[43mcriterion\u001b[49m\u001b[43m,\u001b[49m\u001b[43m \u001b[49m\u001b[43moptimizer\u001b[49m\u001b[43m,\u001b[49m\u001b[43m \u001b[49m\u001b[38;5;28;43mself\u001b[39;49m\u001b[43m.\u001b[49m\u001b[43mepochs\u001b[49m\u001b[43m)\u001b[49m\n\u001b[32m    153\u001b[39m \u001b[38;5;66;03m# Read out results\u001b[39;00m\n\u001b[32m    154\u001b[39m \u001b[38;5;28;01massert\u001b[39;00m \u001b[38;5;28misinstance\u001b[39m(training_results, TrainingOutput)\n",
      "\u001b[36mFile \u001b[39m\u001b[32m~/LeakPro/examples/mia/time_series_mia/data_handler.py:71\u001b[39m, in \u001b[36mIndividualizedInputHandler.train\u001b[39m\u001b[34m(self, dataloader, model, criterion, optimizer, epochs)\u001b[39m\n\u001b[32m     69\u001b[39m preds = model(inputs)\n\u001b[32m     70\u001b[39m loss = criterion(preds, targets)\n\u001b[32m---> \u001b[39m\u001b[32m71\u001b[39m \u001b[43mloss\u001b[49m\u001b[43m.\u001b[49m\u001b[43mbackward\u001b[49m\u001b[43m(\u001b[49m\u001b[43m)\u001b[49m\n\u001b[32m     72\u001b[39m optimizer.step()\n\u001b[32m     74\u001b[39m \u001b[38;5;66;03m# Accumulate performance of shadow model\u001b[39;00m\n",
      "\u001b[36mFile \u001b[39m\u001b[32m~/LeakPro/.venv/lib/python3.12/site-packages/torch/_tensor.py:626\u001b[39m, in \u001b[36mTensor.backward\u001b[39m\u001b[34m(self, gradient, retain_graph, create_graph, inputs)\u001b[39m\n\u001b[32m    616\u001b[39m \u001b[38;5;28;01mif\u001b[39;00m has_torch_function_unary(\u001b[38;5;28mself\u001b[39m):\n\u001b[32m    617\u001b[39m     \u001b[38;5;28;01mreturn\u001b[39;00m handle_torch_function(\n\u001b[32m    618\u001b[39m         Tensor.backward,\n\u001b[32m    619\u001b[39m         (\u001b[38;5;28mself\u001b[39m,),\n\u001b[32m   (...)\u001b[39m\u001b[32m    624\u001b[39m         inputs=inputs,\n\u001b[32m    625\u001b[39m     )\n\u001b[32m--> \u001b[39m\u001b[32m626\u001b[39m \u001b[43mtorch\u001b[49m\u001b[43m.\u001b[49m\u001b[43mautograd\u001b[49m\u001b[43m.\u001b[49m\u001b[43mbackward\u001b[49m\u001b[43m(\u001b[49m\n\u001b[32m    627\u001b[39m \u001b[43m    \u001b[49m\u001b[38;5;28;43mself\u001b[39;49m\u001b[43m,\u001b[49m\u001b[43m \u001b[49m\u001b[43mgradient\u001b[49m\u001b[43m,\u001b[49m\u001b[43m \u001b[49m\u001b[43mretain_graph\u001b[49m\u001b[43m,\u001b[49m\u001b[43m \u001b[49m\u001b[43mcreate_graph\u001b[49m\u001b[43m,\u001b[49m\u001b[43m \u001b[49m\u001b[43minputs\u001b[49m\u001b[43m=\u001b[49m\u001b[43minputs\u001b[49m\n\u001b[32m    628\u001b[39m \u001b[43m\u001b[49m\u001b[43m)\u001b[49m\n",
      "\u001b[36mFile \u001b[39m\u001b[32m~/LeakPro/.venv/lib/python3.12/site-packages/torch/autograd/__init__.py:347\u001b[39m, in \u001b[36mbackward\u001b[39m\u001b[34m(tensors, grad_tensors, retain_graph, create_graph, grad_variables, inputs)\u001b[39m\n\u001b[32m    342\u001b[39m     retain_graph = create_graph\n\u001b[32m    344\u001b[39m \u001b[38;5;66;03m# The reason we repeat the same comment below is that\u001b[39;00m\n\u001b[32m    345\u001b[39m \u001b[38;5;66;03m# some Python versions print out the first line of a multi-line function\u001b[39;00m\n\u001b[32m    346\u001b[39m \u001b[38;5;66;03m# calls in the traceback and some print out the last line\u001b[39;00m\n\u001b[32m--> \u001b[39m\u001b[32m347\u001b[39m \u001b[43m_engine_run_backward\u001b[49m\u001b[43m(\u001b[49m\n\u001b[32m    348\u001b[39m \u001b[43m    \u001b[49m\u001b[43mtensors\u001b[49m\u001b[43m,\u001b[49m\n\u001b[32m    349\u001b[39m \u001b[43m    \u001b[49m\u001b[43mgrad_tensors_\u001b[49m\u001b[43m,\u001b[49m\n\u001b[32m    350\u001b[39m \u001b[43m    \u001b[49m\u001b[43mretain_graph\u001b[49m\u001b[43m,\u001b[49m\n\u001b[32m    351\u001b[39m \u001b[43m    \u001b[49m\u001b[43mcreate_graph\u001b[49m\u001b[43m,\u001b[49m\n\u001b[32m    352\u001b[39m \u001b[43m    \u001b[49m\u001b[43minputs\u001b[49m\u001b[43m,\u001b[49m\n\u001b[32m    353\u001b[39m \u001b[43m    \u001b[49m\u001b[43mallow_unreachable\u001b[49m\u001b[43m=\u001b[49m\u001b[38;5;28;43;01mTrue\u001b[39;49;00m\u001b[43m,\u001b[49m\n\u001b[32m    354\u001b[39m \u001b[43m    \u001b[49m\u001b[43maccumulate_grad\u001b[49m\u001b[43m=\u001b[49m\u001b[38;5;28;43;01mTrue\u001b[39;49;00m\u001b[43m,\u001b[49m\n\u001b[32m    355\u001b[39m \u001b[43m\u001b[49m\u001b[43m)\u001b[49m\n",
      "\u001b[36mFile \u001b[39m\u001b[32m~/LeakPro/.venv/lib/python3.12/site-packages/torch/autograd/graph.py:823\u001b[39m, in \u001b[36m_engine_run_backward\u001b[39m\u001b[34m(t_outputs, *args, **kwargs)\u001b[39m\n\u001b[32m    821\u001b[39m     unregister_hooks = _register_logging_hooks_on_whole_graph(t_outputs)\n\u001b[32m    822\u001b[39m \u001b[38;5;28;01mtry\u001b[39;00m:\n\u001b[32m--> \u001b[39m\u001b[32m823\u001b[39m     \u001b[38;5;28;01mreturn\u001b[39;00m \u001b[43mVariable\u001b[49m\u001b[43m.\u001b[49m\u001b[43m_execution_engine\u001b[49m\u001b[43m.\u001b[49m\u001b[43mrun_backward\u001b[49m\u001b[43m(\u001b[49m\u001b[43m  \u001b[49m\u001b[38;5;66;43;03m# Calls into the C++ engine to run the backward pass\u001b[39;49;00m\n\u001b[32m    824\u001b[39m \u001b[43m        \u001b[49m\u001b[43mt_outputs\u001b[49m\u001b[43m,\u001b[49m\u001b[43m \u001b[49m\u001b[43m*\u001b[49m\u001b[43margs\u001b[49m\u001b[43m,\u001b[49m\u001b[43m \u001b[49m\u001b[43m*\u001b[49m\u001b[43m*\u001b[49m\u001b[43mkwargs\u001b[49m\n\u001b[32m    825\u001b[39m \u001b[43m    \u001b[49m\u001b[43m)\u001b[49m  \u001b[38;5;66;03m# Calls into the C++ engine to run the backward pass\u001b[39;00m\n\u001b[32m    826\u001b[39m \u001b[38;5;28;01mfinally\u001b[39;00m:\n\u001b[32m    827\u001b[39m     \u001b[38;5;28;01mif\u001b[39;00m attach_logging_hooks:\n",
      "\u001b[31mKeyboardInterrupt\u001b[39m: "
     ]
    }
   ],
   "source": [
    "# Prepare leakpro object\n",
    "leakpro = LeakPro(IndividualizedInputHandler, audit_config_path)\n",
    "\n",
    "# Run the audit \n",
    "mia_results = leakpro.run_audit(return_results=True)"
   ]
  },
  {
   "cell_type": "markdown",
   "metadata": {},
   "source": [
    "### Generate report"
   ]
  },
  {
   "cell_type": "code",
   "execution_count": null,
   "metadata": {},
   "outputs": [
    {
     "name": "stderr",
     "output_type": "stream",
     "text": [
      "2025-03-21 10:43:53,886 INFO     Initializing report handler...\n",
      "2025-03-21 10:43:53,887 INFO     report_dir set to: ./leakpro_output/results\n",
      "2025-03-21 10:43:53,887 INFO     Saving results for lira\n"
     ]
    },
    {
     "name": "stderr",
     "output_type": "stream",
     "text": [
      "2025-03-21 10:44:20,032 INFO     No results of type GIAResults found.\n",
      "2025-03-21 10:44:20,033 INFO     No results of type SinglingOutResults found.\n",
      "2025-03-21 10:44:20,033 INFO     No results of type InferenceResults found.\n",
      "2025-03-21 10:44:20,034 INFO     No results of type LinkabilityResults found.\n",
      "2025-03-21 10:44:26,095 INFO     PDF compiled\n"
     ]
    },
    {
     "data": {
      "text/plain": [
       "<Figure size 640x480 with 0 Axes>"
      ]
     },
     "metadata": {},
     "output_type": "display_data"
    }
   ],
   "source": [
    "# Import and initialize ReportHandler\n",
    "from leakpro.reporting.report_handler import ReportHandler\n",
    "\n",
    "# report_handler = ReportHandler()\n",
    "report_handler = ReportHandler(report_dir=\"./leakpro_output/results\")\n",
    "\n",
    "# Save MIA resuls using report handler\n",
    "for res in mia_results:\n",
    "    report_handler.save_results(attack_name=res.attack_name, result_data=res, config=res.configs)\n",
    "\n",
    "# Create the report by compiling the latex text\n",
    "report_handler.create_report()"
   ]
  }
 ],
 "metadata": {
  "kernelspec": {
   "display_name": ".venv",
   "language": "python",
   "name": "python3"
  },
  "language_info": {
   "codemirror_mode": {
    "name": "ipython",
    "version": 3
   },
   "file_extension": ".py",
   "mimetype": "text/x-python",
   "name": "python",
   "nbconvert_exporter": "python",
   "pygments_lexer": "ipython3",
   "version": "3.12.3"
  }
 },
 "nbformat": 4,
 "nbformat_minor": 2
}
