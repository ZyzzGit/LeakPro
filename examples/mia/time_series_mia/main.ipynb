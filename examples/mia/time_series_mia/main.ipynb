{
 "cells": [
  {
   "cell_type": "markdown",
   "metadata": {},
   "source": [
    "# Time-Series MIA Example \n",
    "Base of example. Use and build upon this notebook during development."
   ]
  },
  {
   "cell_type": "code",
   "execution_count": 1,
   "metadata": {},
   "outputs": [],
   "source": [
    "import os\n",
    "import sys\n",
    "import yaml\n",
    "import matplotlib.pyplot as plt\n",
    "\n",
    "project_root = os.path.abspath(os.path.join(os.getcwd(), \"../../..\"))\n",
    "sys.path.append(project_root)\n",
    "\n",
    "from examples.mia.time_series_mia.utils.data_preparation import ECGDataset, preprocess_ECG_dataset, get_ECG_dataloaders\n",
    "from examples.mia.time_series_mia.utils.model_preparation import create_trained_model_and_metadata\n",
    "from examples.mia.time_series_mia.utils.models.LSTM import LSTM\n",
    "from examples.mia.time_series_mia.utils.models.TCN import TCN\n",
    "from examples.mia.time_series_mia.utils.models.DLinear import DLinear\n",
    "from examples.mia.time_series_mia.utils.models.TimesNet import TimesNet\n",
    "from examples.mia.time_series_mia.utils.models.NBeats import NBeats\n",
    "from examples.mia.time_series_mia.utils.models.TFT import TFT"
   ]
  },
  {
   "cell_type": "code",
   "execution_count": 2,
   "metadata": {},
   "outputs": [],
   "source": [
    "# Define constants\n",
    "lookback = 100\n",
    "horizon = 20\n",
    "train_fraction = 0.5\n",
    "test_fraction = 0.5\n",
    "epochs = 1"
   ]
  },
  {
   "cell_type": "code",
   "execution_count": 3,
   "metadata": {},
   "outputs": [],
   "source": [
    "# Get data loaders\n",
    "path = os.path.join(os.getcwd(), \"data\")\n",
    "dataset = preprocess_ECG_dataset(path, lookback, horizon)\n",
    "train_loader, test_loader = get_ECG_dataloaders(dataset, train_fraction, test_fraction)"
   ]
  },
  {
   "cell_type": "code",
   "execution_count": 4,
   "metadata": {},
   "outputs": [
    {
     "name": "stderr",
     "output_type": "stream",
     "text": [
      "Training Progress: 100%|██████████| 20/20 [00:55<00:00,  2.79s/it]\n"
     ]
    }
   ],
   "source": [
    "# Load the config.yaml file\n",
    "with open('audit.yaml', 'r') as file:\n",
    "    config = yaml.safe_load(file)\n",
    "\n",
    "# Train the LSTM model\n",
    "input_dim = 12 # input size will be the amount of variables in the Time-Series\n",
    "\n",
    "if config[\"target\"][\"model_class\"] == \"LSTM\":\n",
    "    model = LSTM(input_dim, horizon)\n",
    "elif config[\"target\"][\"model_class\"] == \"TCN\":\n",
    "    model = TCN(input_dim, horizon)\n",
    "elif config[\"target\"][\"model_class\"] == \"DLinear\":\n",
    "    model = DLinear(input_dim, lookback, horizon)\n",
    "elif config[\"target\"][\"model_class\"] == \"TimesNet\":\n",
    "    model = TimesNet(input_dim, lookback, horizon)\n",
    "elif config[\"target\"][\"model_class\"] == \"NBeats\":\n",
    "    model = NBeats(input_dim, lookback, horizon)\n",
    "elif config[\"target\"][\"model_class\"] == \"TFT\":\n",
    "    model = TFT(input_dim, lookback, horizon)\n",
    "else:\n",
    "    raise NotImplementedError()\n",
    "\n",
    "train_loss, test_loss = create_trained_model_and_metadata(model, train_loader, test_loader, epochs)"
   ]
  },
  {
   "cell_type": "code",
   "execution_count": 5,
   "metadata": {},
   "outputs": [
    {
     "data": {
      "image/png": "[encoded data removed]",
      "text/plain": [
       "<Figure size 400x400 with 1 Axes>"
      ]
     },
     "metadata": {},
     "output_type": "display_data"
    }
   ],
   "source": [
    "# Plot training and test loss\n",
    "plt.figure(figsize=(4, 4))\n",
    "plt.plot(train_loss, label='Train Loss')\n",
    "plt.plot(test_loss, label='Test Loss')\n",
    "plt.xlabel('Epoch')\n",
    "plt.ylabel('Loss')\n",
    "plt.title('Loss over Epochs')\n",
    "plt.legend()\n",
    "plt.show()"
   ]
  },
  {
   "cell_type": "code",
   "execution_count": 6,
   "metadata": {},
   "outputs": [
    {
     "name": "stderr",
     "output_type": "stream",
     "text": [
      "2025-02-18 14:04:09,062 INFO     Target model blueprint created from TimesNet in ./utils/models/TimesNet.py.\n",
      "2025-02-18 14:04:09,074 INFO     Loaded target model metadata from ./target/model_metadata.pkl\n",
      "c:\\Users\\totte\\Documents\\Kurser\\DATX05 - Master's Thesis\\LeakPro\\leakpro\\input_handler\\handler_setup.py:95: FutureWarning: You are using `torch.load` with `weights_only=False` (the current default value), which uses the default pickle module implicitly. It is possible to construct malicious pickle data which will execute arbitrary code during unpickling (See https://github.com/pytorch/pytorch/blob/main/SECURITY.md#untrusted-models for more details). In a future release, the default value for `weights_only` will be flipped to `True`. This limits the functions that could be executed during unpickling. Arbitrary objects will no longer be allowed to be loaded via this mode unless they are explicitly allowlisted by the user via `torch.serialization.add_safe_globals`. We recommend you start setting `weights_only=True` for any use case where you don't have full control of the loaded file. Please open an issue on GitHub for any issues related to this experimental feature.\n",
      "  self.target_model.load_state_dict(torch.load(f))\n",
      "2025-02-18 14:04:09,090 INFO     Loaded target model from ./target\n",
      "2025-02-18 14:04:09,112 INFO     Loaded population dataset from ./data/ECG_E00001.pkl\n",
      "2025-02-18 14:04:09,113 INFO     Loaded population dataset from ./data/ECG_E00001.pkl\n"
     ]
    },
    {
     "name": "stdout",
     "output_type": "stream",
     "text": [
      "{'audit': {'random_seed': 42, 'attack_list': {'ensemble': {'training_data_fraction': 0.5, 'attack_data_fraction': 0.5, 'num_instances': 2, 'subset_size': 50, 'num_pairs': 5}}, 'output_dir': './leakpro_output', 'attack_type': 'mia', 'modality': 'time_series'}, 'target': {'module_path': './utils/models/TimesNet.py', 'model_class': 'TimesNet', 'target_folder': './target', 'data_path': './data/ECG_E00001.pkl'}, 'shadow_model': None, 'distillation_model': None}\n"
     ]
    },
    {
     "name": "stderr",
     "output_type": "stream",
     "text": [
      "2025-02-18 14:04:10,512 INFO     MIA attack factory loaded.\n",
      "2025-02-18 14:04:10,513 INFO     Creating shadow model handler singleton\n",
      "2025-02-18 14:04:10,514 INFO     Creating distillation model handler singleton\n",
      "2025-02-18 14:04:10,516 INFO     Configuring Ensemble attack\n",
      "2025-02-18 14:04:10,517 INFO     Added attack: ensemble\n",
      "2025-02-18 14:04:10,518 INFO     Preparing attack: ensemble\n",
      "2025-02-18 14:04:10,519 INFO     Preparing shadow models for Ensemble attack\n",
      "2025-02-18 14:04:10,519 INFO     Preparing attack data for training the Ensemble attack\n",
      "2025-02-18 14:04:10,521 INFO     self.attack_data_indices=array([ 739,  229, 1886, ..., 1366, 1678, 3795])\n",
      "2025-02-18 14:04:10,522 INFO     Check for 2 shadow models (dataset: 4881 points)\n",
      "2025-02-18 14:04:10,523 WARNING  Using the same model class for shadow models as the target model.\n",
      "2025-02-18 14:04:10,528 WARNING  Mismatched model types found in saved shadow models: [(0, 'SimpleLSTM'), (1, 'SimpleLSTM'), (2, 'LSTM'), (3, 'LSTM'), (4, 'TCN'), (5, 'TCN'), (6, 'DLinear'), (7, 'DLinear'), (8, 'NBeats'), (9, 'NBeats')]. Expected model type: TimesNet.\n",
      "2025-02-18 14:04:10,532 INFO     Training shadow model 10 on 2560 points\n",
      "Epoch 1/20: 100%|██████████| 20/20 [00:01<00:00, 10.37it/s]\n",
      "Epoch 2/20: 100%|██████████| 20/20 [00:02<00:00,  9.99it/s]\n",
      "Epoch 3/20:  80%|████████  | 16/20 [00:01<00:00,  8.23it/s]\n"
     ]
    },
    {
     "ename": "KeyboardInterrupt",
     "evalue": "",
     "output_type": "error",
     "traceback": [
      "\u001b[1;31m---------------------------------------------------------------------------\u001b[0m",
      "\u001b[1;31mKeyboardInterrupt\u001b[0m                         Traceback (most recent call last)",
      "Cell \u001b[1;32mIn[6], line 11\u001b[0m\n\u001b[0;32m      8\u001b[0m leakpro \u001b[38;5;241m=\u001b[39m LeakPro(ECGInputHandler, config_path)\n\u001b[0;32m     10\u001b[0m \u001b[38;5;66;03m# Run the audit \u001b[39;00m\n\u001b[1;32m---> 11\u001b[0m \u001b[43mleakpro\u001b[49m\u001b[38;5;241;43m.\u001b[39;49m\u001b[43mrun_audit\u001b[49m\u001b[43m(\u001b[49m\u001b[43m)\u001b[49m\n",
      "File \u001b[1;32mc:\\Users\\totte\\Documents\\Kurser\\DATX05 - Master's Thesis\\LeakPro\\leakpro\\leakpro.py:131\u001b[0m, in \u001b[0;36mLeakPro.run_audit\u001b[1;34m(self, return_results)\u001b[0m\n\u001b[0;32m    129\u001b[0m \u001b[38;5;28;01mdef\u001b[39;00m \u001b[38;5;21mrun_audit\u001b[39m(\u001b[38;5;28mself\u001b[39m:Self, return_results: \u001b[38;5;28mbool\u001b[39m \u001b[38;5;241m=\u001b[39m \u001b[38;5;28;01mFalse\u001b[39;00m) \u001b[38;5;241m-\u001b[39m\u001b[38;5;241m>\u001b[39m \u001b[38;5;28;01mNone\u001b[39;00m:\n\u001b[0;32m    130\u001b[0m \u001b[38;5;250m    \u001b[39m\u001b[38;5;124;03m\"\"\"Run the audit.\"\"\"\u001b[39;00m\n\u001b[1;32m--> 131\u001b[0m     audit_results \u001b[38;5;241m=\u001b[39m \u001b[38;5;28;43mself\u001b[39;49m\u001b[38;5;241;43m.\u001b[39;49m\u001b[43mattack_scheduler\u001b[49m\u001b[38;5;241;43m.\u001b[39;49m\u001b[43mrun_attacks\u001b[49m\u001b[43m(\u001b[49m\u001b[43m)\u001b[49m\n\u001b[0;32m    132\u001b[0m     results \u001b[38;5;241m=\u001b[39m [] \u001b[38;5;28;01mif\u001b[39;00m return_results \u001b[38;5;28;01melse\u001b[39;00m \u001b[38;5;28;01mNone\u001b[39;00m\n\u001b[0;32m    134\u001b[0m     \u001b[38;5;28;01mfor\u001b[39;00m attack_name \u001b[38;5;129;01min\u001b[39;00m audit_results:\n",
      "File \u001b[1;32mc:\\Users\\totte\\Documents\\Kurser\\DATX05 - Master's Thesis\\LeakPro\\leakpro\\attacks\\attack_scheduler.py:75\u001b[0m, in \u001b[0;36mAttackScheduler.run_attacks\u001b[1;34m(self)\u001b[0m\n\u001b[0;32m     73\u001b[0m \u001b[38;5;28;01mfor\u001b[39;00m attack, attack_type \u001b[38;5;129;01min\u001b[39;00m \u001b[38;5;28mzip\u001b[39m(\u001b[38;5;28mself\u001b[39m\u001b[38;5;241m.\u001b[39mattacks, \u001b[38;5;28mself\u001b[39m\u001b[38;5;241m.\u001b[39mattack_list):\n\u001b[0;32m     74\u001b[0m     logger\u001b[38;5;241m.\u001b[39minfo(\u001b[38;5;124mf\u001b[39m\u001b[38;5;124m\"\u001b[39m\u001b[38;5;124mPreparing attack: \u001b[39m\u001b[38;5;132;01m{\u001b[39;00mattack_type\u001b[38;5;132;01m}\u001b[39;00m\u001b[38;5;124m\"\u001b[39m)\n\u001b[1;32m---> 75\u001b[0m     \u001b[43mattack\u001b[49m\u001b[38;5;241;43m.\u001b[39;49m\u001b[43mprepare_attack\u001b[49m\u001b[43m(\u001b[49m\u001b[43m)\u001b[49m\n\u001b[0;32m     77\u001b[0m     logger\u001b[38;5;241m.\u001b[39minfo(\u001b[38;5;124mf\u001b[39m\u001b[38;5;124m\"\u001b[39m\u001b[38;5;124mRunning attack: \u001b[39m\u001b[38;5;132;01m{\u001b[39;00mattack_type\u001b[38;5;132;01m}\u001b[39;00m\u001b[38;5;124m\"\u001b[39m)\n\u001b[0;32m     79\u001b[0m     result \u001b[38;5;241m=\u001b[39m attack\u001b[38;5;241m.\u001b[39mrun_attack()\n",
      "File \u001b[1;32mc:\\Users\\totte\\Documents\\Kurser\\DATX05 - Master's Thesis\\LeakPro\\leakpro\\attacks\\mia_attacks\\ensemble.py:126\u001b[0m, in \u001b[0;36mAttackEnsemble.prepare_attack\u001b[1;34m(self)\u001b[0m\n\u001b[0;32m    123\u001b[0m \u001b[38;5;28;01mif\u001b[39;00m \u001b[38;5;129;01mnot\u001b[39;00m \u001b[38;5;28mself\u001b[39m\u001b[38;5;241m.\u001b[39maudit:\n\u001b[0;32m    124\u001b[0m     \u001b[38;5;66;03m# train shadow models\u001b[39;00m\n\u001b[0;32m    125\u001b[0m     logger\u001b[38;5;241m.\u001b[39minfo(\u001b[38;5;124mf\u001b[39m\u001b[38;5;124m\"\u001b[39m\u001b[38;5;124mCheck for \u001b[39m\u001b[38;5;132;01m{\u001b[39;00m\u001b[38;5;28mself\u001b[39m\u001b[38;5;241m.\u001b[39mnum_instances\u001b[38;5;132;01m}\u001b[39;00m\u001b[38;5;124m shadow models (dataset: \u001b[39m\u001b[38;5;132;01m{\u001b[39;00m\u001b[38;5;28mlen\u001b[39m(\u001b[38;5;28mself\u001b[39m\u001b[38;5;241m.\u001b[39mattack_data_indices)\u001b[38;5;132;01m}\u001b[39;00m\u001b[38;5;124m points)\u001b[39m\u001b[38;5;124m\"\u001b[39m)\n\u001b[1;32m--> 126\u001b[0m     \u001b[38;5;28mself\u001b[39m\u001b[38;5;241m.\u001b[39mshadow_model_indices \u001b[38;5;241m=\u001b[39m \u001b[43mShadowModelHandler\u001b[49m\u001b[43m(\u001b[49m\u001b[43m)\u001b[49m\u001b[38;5;241;43m.\u001b[39;49m\u001b[43mcreate_shadow_models\u001b[49m\u001b[43m(\u001b[49m\n\u001b[0;32m    127\u001b[0m \u001b[43m        \u001b[49m\u001b[43mnum_models\u001b[49m\u001b[43m \u001b[49m\u001b[38;5;241;43m=\u001b[39;49m\u001b[43m \u001b[49m\u001b[38;5;28;43mself\u001b[39;49m\u001b[38;5;241;43m.\u001b[39;49m\u001b[43mnum_instances\u001b[49m\u001b[43m,\u001b[49m\n\u001b[0;32m    128\u001b[0m \u001b[43m        \u001b[49m\u001b[43mshadow_population\u001b[49m\u001b[43m \u001b[49m\u001b[38;5;241;43m=\u001b[39;49m\u001b[43m \u001b[49m\u001b[38;5;28;43mself\u001b[39;49m\u001b[38;5;241;43m.\u001b[39;49m\u001b[43mattack_data_indices\u001b[49m\u001b[43m,\u001b[49m\n\u001b[0;32m    129\u001b[0m \u001b[43m        \u001b[49m\u001b[43mtraining_fraction\u001b[49m\u001b[43m \u001b[49m\u001b[38;5;241;43m=\u001b[39;49m\u001b[43m \u001b[49m\u001b[38;5;28;43mself\u001b[39;49m\u001b[38;5;241;43m.\u001b[39;49m\u001b[43mtraining_data_fraction\u001b[49m\u001b[43m,\u001b[49m\n\u001b[0;32m    130\u001b[0m \u001b[43m        \u001b[49m\u001b[43monline\u001b[49m\u001b[43m \u001b[49m\u001b[38;5;241;43m=\u001b[39;49m\u001b[43m \u001b[49m\u001b[38;5;28;43mself\u001b[39;49m\u001b[38;5;241;43m.\u001b[39;49m\u001b[43monline\u001b[49m\u001b[43m)\u001b[49m\n\u001b[0;32m    131\u001b[0m     \u001b[38;5;66;03m# load shadow models\u001b[39;00m\n\u001b[0;32m    132\u001b[0m     \u001b[38;5;28mself\u001b[39m\u001b[38;5;241m.\u001b[39mshadow_models, _ \u001b[38;5;241m=\u001b[39m ShadowModelHandler()\u001b[38;5;241m.\u001b[39mget_shadow_models(\u001b[38;5;28mself\u001b[39m\u001b[38;5;241m.\u001b[39mshadow_model_indices)\n",
      "File \u001b[1;32mc:\\Users\\totte\\Documents\\Kurser\\DATX05 - Master's Thesis\\LeakPro\\leakpro\\attacks\\utils\\shadow_model_handler.py:162\u001b[0m, in \u001b[0;36mShadowModelHandler.create_shadow_models\u001b[1;34m(self, num_models, shadow_population, training_fraction, online)\u001b[0m\n\u001b[0;32m    160\u001b[0m \u001b[38;5;66;03m# Train shadow model\u001b[39;00m\n\u001b[0;32m    161\u001b[0m logger\u001b[38;5;241m.\u001b[39minfo(\u001b[38;5;124mf\u001b[39m\u001b[38;5;124m\"\u001b[39m\u001b[38;5;124mTraining shadow model \u001b[39m\u001b[38;5;132;01m{\u001b[39;00mi\u001b[38;5;132;01m}\u001b[39;00m\u001b[38;5;124m on \u001b[39m\u001b[38;5;132;01m{\u001b[39;00m\u001b[38;5;28mlen\u001b[39m(data_loader)\u001b[38;5;241m*\u001b[39m\u001b[38;5;250m \u001b[39mdata_loader\u001b[38;5;241m.\u001b[39mbatch_size\u001b[38;5;132;01m}\u001b[39;00m\u001b[38;5;124m points\u001b[39m\u001b[38;5;124m\"\u001b[39m)\n\u001b[1;32m--> 162\u001b[0m training_results \u001b[38;5;241m=\u001b[39m \u001b[38;5;28;43mself\u001b[39;49m\u001b[38;5;241;43m.\u001b[39;49m\u001b[43mhandler\u001b[49m\u001b[38;5;241;43m.\u001b[39;49m\u001b[43mtrain\u001b[49m\u001b[43m(\u001b[49m\u001b[43mdata_loader\u001b[49m\u001b[43m,\u001b[49m\u001b[43m \u001b[49m\u001b[43mmodel\u001b[49m\u001b[43m,\u001b[49m\u001b[43m \u001b[49m\u001b[43mcriterion\u001b[49m\u001b[43m,\u001b[49m\u001b[43m \u001b[49m\u001b[43moptimizer\u001b[49m\u001b[43m,\u001b[49m\u001b[43m \u001b[49m\u001b[38;5;28;43mself\u001b[39;49m\u001b[38;5;241;43m.\u001b[39;49m\u001b[43mepochs\u001b[49m\u001b[43m)\u001b[49m\n\u001b[0;32m    163\u001b[0m \u001b[38;5;66;03m# Read out results\u001b[39;00m\n\u001b[0;32m    164\u001b[0m shadow_model \u001b[38;5;241m=\u001b[39m training_results[\u001b[38;5;124m\"\u001b[39m\u001b[38;5;124mmodel\u001b[39m\u001b[38;5;124m\"\u001b[39m]\n",
      "File \u001b[1;32mc:\\Users\\totte\\Documents\\Kurser\\DATX05 - Master's Thesis\\LeakPro\\examples\\mia\\time_series_mia\\ECG_handler.py:53\u001b[0m, in \u001b[0;36mECGInputHandler.train\u001b[1;34m(self, dataloader, model, criterion, optimizer, epochs)\u001b[0m\n\u001b[0;32m     51\u001b[0m preds \u001b[38;5;241m=\u001b[39m model(inputs)\n\u001b[0;32m     52\u001b[0m loss \u001b[38;5;241m=\u001b[39m criterion(preds, targets)\n\u001b[1;32m---> 53\u001b[0m \u001b[43mloss\u001b[49m\u001b[38;5;241;43m.\u001b[39;49m\u001b[43mbackward\u001b[49m\u001b[43m(\u001b[49m\u001b[43m)\u001b[49m\n\u001b[0;32m     54\u001b[0m optimizer\u001b[38;5;241m.\u001b[39mstep()\n\u001b[0;32m     56\u001b[0m \u001b[38;5;66;03m# Accumulate performance of shadow model\u001b[39;00m\n",
      "File \u001b[1;32mc:\\Users\\totte\\AppData\\Local\\Programs\\Python\\Python312\\Lib\\site-packages\\torch\\_tensor.py:581\u001b[0m, in \u001b[0;36mTensor.backward\u001b[1;34m(self, gradient, retain_graph, create_graph, inputs)\u001b[0m\n\u001b[0;32m    571\u001b[0m \u001b[38;5;28;01mif\u001b[39;00m has_torch_function_unary(\u001b[38;5;28mself\u001b[39m):\n\u001b[0;32m    572\u001b[0m     \u001b[38;5;28;01mreturn\u001b[39;00m handle_torch_function(\n\u001b[0;32m    573\u001b[0m         Tensor\u001b[38;5;241m.\u001b[39mbackward,\n\u001b[0;32m    574\u001b[0m         (\u001b[38;5;28mself\u001b[39m,),\n\u001b[1;32m   (...)\u001b[0m\n\u001b[0;32m    579\u001b[0m         inputs\u001b[38;5;241m=\u001b[39minputs,\n\u001b[0;32m    580\u001b[0m     )\n\u001b[1;32m--> 581\u001b[0m \u001b[43mtorch\u001b[49m\u001b[38;5;241;43m.\u001b[39;49m\u001b[43mautograd\u001b[49m\u001b[38;5;241;43m.\u001b[39;49m\u001b[43mbackward\u001b[49m\u001b[43m(\u001b[49m\n\u001b[0;32m    582\u001b[0m \u001b[43m    \u001b[49m\u001b[38;5;28;43mself\u001b[39;49m\u001b[43m,\u001b[49m\u001b[43m \u001b[49m\u001b[43mgradient\u001b[49m\u001b[43m,\u001b[49m\u001b[43m \u001b[49m\u001b[43mretain_graph\u001b[49m\u001b[43m,\u001b[49m\u001b[43m \u001b[49m\u001b[43mcreate_graph\u001b[49m\u001b[43m,\u001b[49m\u001b[43m \u001b[49m\u001b[43minputs\u001b[49m\u001b[38;5;241;43m=\u001b[39;49m\u001b[43minputs\u001b[49m\n\u001b[0;32m    583\u001b[0m \u001b[43m\u001b[49m\u001b[43m)\u001b[49m\n",
      "File \u001b[1;32mc:\\Users\\totte\\AppData\\Local\\Programs\\Python\\Python312\\Lib\\site-packages\\torch\\autograd\\__init__.py:347\u001b[0m, in \u001b[0;36mbackward\u001b[1;34m(tensors, grad_tensors, retain_graph, create_graph, grad_variables, inputs)\u001b[0m\n\u001b[0;32m    342\u001b[0m     retain_graph \u001b[38;5;241m=\u001b[39m create_graph\n\u001b[0;32m    344\u001b[0m \u001b[38;5;66;03m# The reason we repeat the same comment below is that\u001b[39;00m\n\u001b[0;32m    345\u001b[0m \u001b[38;5;66;03m# some Python versions print out the first line of a multi-line function\u001b[39;00m\n\u001b[0;32m    346\u001b[0m \u001b[38;5;66;03m# calls in the traceback and some print out the last line\u001b[39;00m\n\u001b[1;32m--> 347\u001b[0m \u001b[43m_engine_run_backward\u001b[49m\u001b[43m(\u001b[49m\n\u001b[0;32m    348\u001b[0m \u001b[43m    \u001b[49m\u001b[43mtensors\u001b[49m\u001b[43m,\u001b[49m\n\u001b[0;32m    349\u001b[0m \u001b[43m    \u001b[49m\u001b[43mgrad_tensors_\u001b[49m\u001b[43m,\u001b[49m\n\u001b[0;32m    350\u001b[0m \u001b[43m    \u001b[49m\u001b[43mretain_graph\u001b[49m\u001b[43m,\u001b[49m\n\u001b[0;32m    351\u001b[0m \u001b[43m    \u001b[49m\u001b[43mcreate_graph\u001b[49m\u001b[43m,\u001b[49m\n\u001b[0;32m    352\u001b[0m \u001b[43m    \u001b[49m\u001b[43minputs\u001b[49m\u001b[43m,\u001b[49m\n\u001b[0;32m    353\u001b[0m \u001b[43m    \u001b[49m\u001b[43mallow_unreachable\u001b[49m\u001b[38;5;241;43m=\u001b[39;49m\u001b[38;5;28;43;01mTrue\u001b[39;49;00m\u001b[43m,\u001b[49m\n\u001b[0;32m    354\u001b[0m \u001b[43m    \u001b[49m\u001b[43maccumulate_grad\u001b[49m\u001b[38;5;241;43m=\u001b[39;49m\u001b[38;5;28;43;01mTrue\u001b[39;49;00m\u001b[43m,\u001b[49m\n\u001b[0;32m    355\u001b[0m \u001b[43m\u001b[49m\u001b[43m)\u001b[49m\n",
      "File \u001b[1;32mc:\\Users\\totte\\AppData\\Local\\Programs\\Python\\Python312\\Lib\\site-packages\\torch\\autograd\\graph.py:825\u001b[0m, in \u001b[0;36m_engine_run_backward\u001b[1;34m(t_outputs, *args, **kwargs)\u001b[0m\n\u001b[0;32m    823\u001b[0m     unregister_hooks \u001b[38;5;241m=\u001b[39m _register_logging_hooks_on_whole_graph(t_outputs)\n\u001b[0;32m    824\u001b[0m \u001b[38;5;28;01mtry\u001b[39;00m:\n\u001b[1;32m--> 825\u001b[0m     \u001b[38;5;28;01mreturn\u001b[39;00m \u001b[43mVariable\u001b[49m\u001b[38;5;241;43m.\u001b[39;49m\u001b[43m_execution_engine\u001b[49m\u001b[38;5;241;43m.\u001b[39;49m\u001b[43mrun_backward\u001b[49m\u001b[43m(\u001b[49m\u001b[43m  \u001b[49m\u001b[38;5;66;43;03m# Calls into the C++ engine to run the backward pass\u001b[39;49;00m\n\u001b[0;32m    826\u001b[0m \u001b[43m        \u001b[49m\u001b[43mt_outputs\u001b[49m\u001b[43m,\u001b[49m\u001b[43m \u001b[49m\u001b[38;5;241;43m*\u001b[39;49m\u001b[43margs\u001b[49m\u001b[43m,\u001b[49m\u001b[43m \u001b[49m\u001b[38;5;241;43m*\u001b[39;49m\u001b[38;5;241;43m*\u001b[39;49m\u001b[43mkwargs\u001b[49m\n\u001b[0;32m    827\u001b[0m \u001b[43m    \u001b[49m\u001b[43m)\u001b[49m  \u001b[38;5;66;03m# Calls into the C++ engine to run the backward pass\u001b[39;00m\n\u001b[0;32m    828\u001b[0m \u001b[38;5;28;01mfinally\u001b[39;00m:\n\u001b[0;32m    829\u001b[0m     \u001b[38;5;28;01mif\u001b[39;00m attach_logging_hooks:\n",
      "\u001b[1;31mKeyboardInterrupt\u001b[0m: "
     ]
    }
   ],
   "source": [
    "from ECG_handler import ECGInputHandler\n",
    "from leakpro import LeakPro\n",
    "\n",
    "# Read the config file\n",
    "config_path = \"audit.yaml\"\n",
    "\n",
    "# Prepare leakpro object\n",
    "leakpro = LeakPro(ECGInputHandler, config_path)\n",
    "\n",
    "# Run the audit \n",
    "leakpro.run_audit()"
   ]
  },
  {
   "cell_type": "markdown",
   "metadata": {},
   "source": [
    "### Testing signals"
   ]
  },
  {
   "cell_type": "code",
   "execution_count": null,
   "metadata": {},
   "outputs": [
    {
     "name": "stdout",
     "output_type": "stream",
     "text": [
      "Avg train MSE: 0.018133706142417275\n",
      "Avg test MSE: 0.013349335078770916\n"
     ]
    }
   ],
   "source": [
    "from numpy import mean\n",
    "print(f'Avg train MSE:', mean(train_loss))\n",
    "print(f'Avg test MSE:', mean(test_loss))"
   ]
  },
  {
   "cell_type": "code",
   "execution_count": 10,
   "metadata": {},
   "outputs": [
    {
     "name": "stderr",
     "output_type": "stream",
     "text": [
      "Getting seasonality loss for model 1/ 1:   0%|          | 0/90 [00:00<?, ?it/s]"
     ]
    },
    {
     "name": "stderr",
     "output_type": "stream",
     "text": [
      "Getting seasonality loss for model 1/ 1: 100%|██████████| 90/90 [00:00<00:00, 250.48it/s]\n",
      "Getting seasonality loss for model 1/ 1: 100%|██████████| 60/60 [00:00<00:00, 207.14it/s]\n",
      "Getting trend loss for model 1/ 1: 100%|██████████| 90/90 [00:00<00:00, 280.93it/s]\n",
      "Getting trend loss for model 1/ 1: 100%|██████████| 60/60 [00:00<00:00, 263.55it/s]"
     ]
    },
    {
     "name": "stdout",
     "output_type": "stream",
     "text": [
      "Mean train seasonality loss: 17.20105345298603\n",
      "Mean test seasonality loss: 17.335172387056275\n",
      "Mean train trend loss: 3.8192964495693715\n",
      "Mean test trend loss: 4.08500441227763\n"
     ]
    },
    {
     "name": "stderr",
     "output_type": "stream",
     "text": [
      "\n"
     ]
    }
   ],
   "source": [
    "from torch.nn import MSELoss\n",
    "from leakpro.signals.signal import SeasonalityLoss, TrendLoss\n",
    "from leakpro.signals.signal_extractor import PytorchModel\n",
    "\n",
    "pmodel = PytorchModel(model, MSELoss)\n",
    "\n",
    "seasonality_signal = SeasonalityLoss()\n",
    "train_sloss = seasonality_signal([pmodel], leakpro.handler, train_loader.dataset.indices)\n",
    "test_sloss = seasonality_signal([pmodel], leakpro.handler, test_loader.dataset.indices)\n",
    "\n",
    "trend_signal = TrendLoss()\n",
    "train_tloss = trend_signal([pmodel], leakpro.handler, train_loader.dataset.indices)\n",
    "test_tloss = trend_signal([pmodel], leakpro.handler, test_loader.dataset.indices)\n",
    "\n",
    "print(f'Mean train seasonality loss:', mean(train_sloss))\n",
    "print(f'Mean test seasonality loss:', mean(test_sloss))\n",
    "\n",
    "print(f'Mean train trend loss:', mean(train_tloss))\n",
    "print(f'Mean test trend loss:', mean(test_tloss))"
   ]
  }
 ],
 "metadata": {
  "kernelspec": {
   "display_name": "torch",
   "language": "python",
   "name": "python3"
  },
  "language_info": {
   "codemirror_mode": {
    "name": "ipython",
    "version": 3
   },
   "file_extension": ".py",
   "mimetype": "text/x-python",
   "name": "python",
   "nbconvert_exporter": "python",
   "pygments_lexer": "ipython3",
   "version": "3.12.7"
  }
 },
 "nbformat": 4,
 "nbformat_minor": 2
}
