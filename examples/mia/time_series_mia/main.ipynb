{
 "cells": [
  {
   "cell_type": "markdown",
   "metadata": {},
   "source": [
    "# Time-Series MIA Example \n",
    "Base of example. Use and build upon this notebook during development."
   ]
  },
  {
   "cell_type": "code",
   "execution_count": 1,
   "metadata": {},
   "outputs": [],
   "source": [
    "import os\n",
    "import sys\n",
    "import yaml\n",
    "import matplotlib.pyplot as plt\n",
    "\n",
    "project_root = os.path.abspath(os.path.join(os.getcwd(), \"../../..\"))\n",
    "sys.path.append(project_root)\n",
    "\n",
    "from examples.mia.time_series_mia.utils.data_preparation import ECGDataset, preprocess_ECG_dataset, get_ECG_dataloaders\n",
    "from examples.mia.time_series_mia.utils.model_preparation import create_trained_model_and_metadata\n",
    "from examples.mia.time_series_mia.utils.models.LSTM import LSTM\n",
    "from examples.mia.time_series_mia.utils.models.TCN import TCN\n",
    "from examples.mia.time_series_mia.utils.models.DLinear import DLinear\n",
    "from examples.mia.time_series_mia.utils.models.TimesNet import TimesNet\n",
    "from examples.mia.time_series_mia.utils.models.NBeats import NBeats\n",
    "from examples.mia.time_series_mia.utils.models.TFT import TFT"
   ]
  },
  {
   "cell_type": "code",
   "execution_count": 2,
   "metadata": {},
   "outputs": [],
   "source": [
    "# Define constants\n",
    "lookback = 100\n",
    "horizon = 20\n",
    "num_individuals = 10\n",
    "train_fraction = 0.3\n",
    "test_fraction = 0.3\n",
    "epochs = 1"
   ]
  },
  {
   "cell_type": "code",
   "execution_count": 3,
   "metadata": {},
   "outputs": [],
   "source": [
    "# Get data loaders\n",
    "path = os.path.join(os.getcwd(), \"data\")\n",
    "dataset = preprocess_ECG_dataset(path, lookback, horizon, num_individuals)\n",
    "train_loader, test_loader = get_ECG_dataloaders(dataset, train_fraction, test_fraction)"
   ]
  },
  {
   "cell_type": "code",
   "execution_count": 4,
   "metadata": {},
   "outputs": [
    {
     "name": "stderr",
     "output_type": "stream",
     "text": [
      "Training Progress: 100%|██████████| 1/1 [00:01<00:00,  1.03s/it]\n"
     ]
    }
   ],
   "source": [
    "# Load the config.yaml file\n",
    "with open('audit.yaml', 'r') as file:\n",
    "    config = yaml.safe_load(file)\n",
    "\n",
    "# Train the LSTM model\n",
    "input_dim = 12 # input size will be the amount of variables in the Time-Series\n",
    "\n",
    "if config[\"target\"][\"model_class\"] == \"LSTM\":\n",
    "    model = LSTM(input_dim, horizon)\n",
    "elif config[\"target\"][\"model_class\"] == \"TCN\":\n",
    "    model = TCN(input_dim, horizon)\n",
    "elif config[\"target\"][\"model_class\"] == \"DLinear\":\n",
    "    model = DLinear(input_dim, lookback, horizon)\n",
    "elif config[\"target\"][\"model_class\"] == \"TimesNet\":\n",
    "    model = TimesNet(input_dim, lookback, horizon)\n",
    "elif config[\"target\"][\"model_class\"] == \"NBeats\":\n",
    "    model = NBeats(input_dim, lookback, horizon)\n",
    "elif config[\"target\"][\"model_class\"] == \"TFT\":\n",
    "    model = TFT(input_dim, lookback, horizon)\n",
    "else:\n",
    "    raise NotImplementedError()\n",
    "\n",
    "train_loss, test_loss = create_trained_model_and_metadata(model, train_loader, test_loader, epochs)"
   ]
  },
  {
   "cell_type": "code",
   "execution_count": 5,
   "metadata": {},
   "outputs": [
    {
     "data": {
      "image/png": "[encoded data removed]",
      "text/plain": [
       "<Figure size 400x400 with 1 Axes>"
      ]
     },
     "metadata": {},
     "output_type": "display_data"
    }
   ],
   "source": [
    "# Plot training and test loss\n",
    "plt.figure(figsize=(4, 4))\n",
    "plt.plot(train_loss, label='Train Loss')\n",
    "plt.plot(test_loss, label='Test Loss')\n",
    "plt.yscale('log')\n",
    "plt.xlabel('Epoch')\n",
    "plt.ylabel('Loss')\n",
    "plt.title('Loss over Epochs')\n",
    "plt.legend()\n",
    "plt.show()"
   ]
  },
  {
   "cell_type": "code",
   "execution_count": 6,
   "metadata": {},
   "outputs": [
    {
     "name": "stderr",
     "output_type": "stream",
     "text": [
      "2025-02-21 16:36:28,544 INFO     Target model blueprint created from DLinear in ./utils/models/DLinear.py.\n",
      "2025-02-21 16:36:28,563 INFO     Loaded target model metadata from ./target/model_metadata.pkl\n",
      "2025-02-21 16:36:28,594 INFO     Loaded target model from ./target\n"
     ]
    },
    {
     "name": "stdout",
     "output_type": "stream",
     "text": [
      "{'audit': {'random_seed': 42, 'attack_list': {}, 'output_dir': './leakpro_output', 'attack_type': 'mia', 'modality': 'time_series'}, 'target': {'module_path': './utils/models/DLinear.py', 'model_class': 'DLinear', 'target_folder': './target', 'data_path': './data/ECG.pkl'}, 'shadow_model': None, 'distillation_model': None}\n"
     ]
    },
    {
     "name": "stderr",
     "output_type": "stream",
     "text": [
      "2025-02-21 16:36:28,862 INFO     Loaded population dataset from ./data/ECG.pkl\n",
      "2025-02-21 16:36:28,862 INFO     Loaded population dataset from ./data/ECG.pkl\n",
      "2025-02-21 16:36:30,261 INFO     MIA attack factory loaded.\n",
      "2025-02-21 16:36:30,261 INFO     Auditing completed\n"
     ]
    }
   ],
   "source": [
    "from ECG_handler import ECGInputHandler\n",
    "from leakpro import LeakPro\n",
    "\n",
    "# Read the config file\n",
    "config_path = \"audit.yaml\"\n",
    "\n",
    "# Prepare leakpro object\n",
    "leakpro = LeakPro(ECGInputHandler, config_path)\n",
    "\n",
    "# Run the audit \n",
    "leakpro.run_audit()"
   ]
  },
  {
   "cell_type": "markdown",
   "metadata": {},
   "source": [
    "### Testing signals"
   ]
  },
  {
   "cell_type": "code",
   "execution_count": 7,
   "metadata": {},
   "outputs": [
    {
     "name": "stdout",
     "output_type": "stream",
     "text": [
      "Avg train MSE: 0.0325107633723351\n",
      "Avg test MSE: 0.005152710798479941\n"
     ]
    }
   ],
   "source": [
    "from numpy import mean\n",
    "print(f'Avg train MSE:', mean(train_loss))\n",
    "print(f'Avg test MSE:', mean(test_loss))"
   ]
  },
  {
   "cell_type": "code",
   "execution_count": 8,
   "metadata": {},
   "outputs": [
    {
     "name": "stderr",
     "output_type": "stream",
     "text": [
      "Getting seasonality loss for model 1/ 1: 100%|██████████| 458/458 [00:01<00:00, 397.19it/s]\n",
      "Getting seasonality loss for model 1/ 1: 100%|██████████| 458/458 [00:00<00:00, 588.92it/s]\n",
      "Getting trend loss for model 1/ 1: 100%|██████████| 458/458 [00:00<00:00, 726.76it/s]\n",
      "Getting trend loss for model 1/ 1: 100%|██████████| 458/458 [00:00<00:00, 458.41it/s]"
     ]
    },
    {
     "name": "stdout",
     "output_type": "stream",
     "text": [
      "Mean train seasonality loss: 11.173053724042914\n",
      "Mean test seasonality loss: 11.876450869767185\n",
      "Mean train trend loss: 1.6149130569969037\n",
      "Mean test trend loss: 1.8052093764270796\n"
     ]
    },
    {
     "name": "stderr",
     "output_type": "stream",
     "text": [
      "\n"
     ]
    }
   ],
   "source": [
    "from torch.nn import MSELoss\n",
    "from leakpro.signals.signal import SeasonalityLoss, TrendLoss\n",
    "from leakpro.signals.signal_extractor import PytorchModel\n",
    "\n",
    "pmodel = PytorchModel(model, MSELoss)\n",
    "\n",
    "seasonality_signal = SeasonalityLoss()\n",
    "train_sloss = seasonality_signal([pmodel], leakpro.handler, train_loader.dataset.indices)\n",
    "test_sloss = seasonality_signal([pmodel], leakpro.handler, test_loader.dataset.indices)\n",
    "\n",
    "trend_signal = TrendLoss()\n",
    "train_tloss = trend_signal([pmodel], leakpro.handler, train_loader.dataset.indices)\n",
    "test_tloss = trend_signal([pmodel], leakpro.handler, test_loader.dataset.indices)\n",
    "\n",
    "print(f'Mean train seasonality loss:', mean(train_sloss))\n",
    "print(f'Mean test seasonality loss:', mean(test_sloss))\n",
    "\n",
    "print(f'Mean train trend loss:', mean(train_tloss))\n",
    "print(f'Mean test trend loss:', mean(test_tloss))"
   ]
  },
  {
   "cell_type": "code",
   "execution_count": 11,
   "metadata": {},
   "outputs": [
    {
     "name": "stderr",
     "output_type": "stream",
     "text": [
      "Getting TS2Vec loss for model 1/ 1: 100%|██████████| 458/458 [00:17<00:00, 25.46it/s]\n",
      "Getting TS2Vec loss for model 1/ 1: 100%|██████████| 458/458 [00:22<00:00, 20.54it/s]"
     ]
    },
    {
     "name": "stdout",
     "output_type": "stream",
     "text": [
      "Mean train ts2vec loss: 0.6711365\n",
      "Mean test ts2vec loss: 0.61968374\n"
     ]
    },
    {
     "name": "stderr",
     "output_type": "stream",
     "text": [
      "\n"
     ]
    }
   ],
   "source": [
    "from leakpro.signals.signal import TS2VecLoss\n",
    "ts2vec_signal = TS2VecLoss()\n",
    "train_tsvloss = ts2vec_signal([pmodel], leakpro.handler, train_loader.dataset.indices)\n",
    "test_tsvloss = ts2vec_signal([pmodel], leakpro.handler, test_loader.dataset.indices)\n",
    "\n",
    "print(f'Mean train ts2vec loss:', mean(train_tsvloss))\n",
    "print(f'Mean test ts2vec loss:', mean(test_tsvloss))"
   ]
  }
 ],
 "metadata": {
  "kernelspec": {
   "display_name": "torch",
   "language": "python",
   "name": "python3"
  },
  "language_info": {
   "codemirror_mode": {
    "name": "ipython",
    "version": 3
   },
   "file_extension": ".py",
   "mimetype": "text/x-python",
   "name": "python",
   "nbconvert_exporter": "python",
   "pygments_lexer": "ipython3",
   "version": "3.11.9"
  }
 },
 "nbformat": 4,
 "nbformat_minor": 2
}
