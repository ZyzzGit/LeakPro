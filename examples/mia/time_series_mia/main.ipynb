{
 "cells": [
  {
   "cell_type": "markdown",
   "metadata": {},
   "source": [
    "# Time-Series MIA Example \n",
    "Base of example. Use and build upon this notebook during development."
   ]
  },
  {
   "cell_type": "code",
   "execution_count": 1,
   "metadata": {},
   "outputs": [],
   "source": [
    "import os\n",
    "import sys\n",
    "import yaml\n",
    "import matplotlib.pyplot as plt\n",
    "\n",
    "project_root = os.path.abspath(os.path.join(os.getcwd(), \"../../..\"))\n",
    "sys.path.append(project_root)\n",
    "\n",
    "from examples.mia.time_series_mia.utils.data_preparation import ECGDataset, preprocess_ECG_dataset, get_ECG_dataloaders\n",
    "from examples.mia.time_series_mia.utils.model_preparation import create_trained_model_and_metadata\n",
    "from examples.mia.time_series_mia.utils.models.LSTM import LSTM\n",
    "from examples.mia.time_series_mia.utils.models.TCN import TCN\n",
    "from examples.mia.time_series_mia.utils.models.DLinear import DLinear\n",
    "from examples.mia.time_series_mia.utils.models.TimesNet import TimesNet\n",
    "from examples.mia.time_series_mia.utils.models.NBeats import NBeats\n",
    "from examples.mia.time_series_mia.utils.models.TFT import TFT"
   ]
  },
  {
   "cell_type": "code",
   "execution_count": 2,
   "metadata": {},
   "outputs": [],
   "source": [
    "# Define constants\n",
    "lookback = 100\n",
    "horizon = 20\n",
    "train_fraction = 0.3\n",
    "test_fraction = 0.3\n",
    "epochs = 1"
   ]
  },
  {
   "cell_type": "code",
   "execution_count": 3,
   "metadata": {},
   "outputs": [],
   "source": [
    "# Get data loaders\n",
    "path = os.path.join(os.getcwd(), \"data\")\n",
    "dataset = preprocess_ECG_dataset(path, lookback, horizon)\n",
    "train_loader, test_loader = get_ECG_dataloaders(dataset, train_fraction, test_fraction)"
   ]
  },
  {
   "cell_type": "code",
   "execution_count": 4,
   "metadata": {},
   "outputs": [
    {
     "name": "stderr",
     "output_type": "stream",
     "text": [
      "Training Progress: 100%|██████████| 1/1 [00:29<00:00, 29.66s/it]\n"
     ]
    }
   ],
   "source": [
    "# Load the config.yaml file\n",
    "with open('audit.yaml', 'r') as file:\n",
    "    config = yaml.safe_load(file)\n",
    "\n",
    "# Train the LSTM model\n",
    "input_dim = 12 # input size will be the amount of variables in the Time-Series\n",
    "\n",
    "if config[\"target\"][\"model_class\"] == \"LSTM\":\n",
    "    model = LSTM(input_dim, horizon)\n",
    "elif config[\"target\"][\"model_class\"] == \"TCN\":\n",
    "    model = TCN(input_dim, horizon)\n",
    "elif config[\"target\"][\"model_class\"] == \"DLinear\":\n",
    "    model = DLinear(input_dim, lookback, horizon)\n",
    "elif config[\"target\"][\"model_class\"] == \"TimesNet\":\n",
    "    model = TimesNet(input_dim, lookback, horizon)\n",
    "elif config[\"target\"][\"model_class\"] == \"NBeats\":\n",
    "    model = NBeats(input_dim, lookback, horizon)\n",
    "elif config[\"target\"][\"model_class\"] == \"TFT\":\n",
    "    model = TFT(input_dim, lookback, horizon)\n",
    "else:\n",
    "    raise NotImplementedError()\n",
    "\n",
    "train_loss, test_loss = create_trained_model_and_metadata(model, train_loader, test_loader, epochs)"
   ]
  },
  {
   "cell_type": "code",
   "execution_count": 5,
   "metadata": {},
   "outputs": [
    {
     "data": {
      "image/png": "[encoded data removed]",
      "text/plain": [
       "<Figure size 400x400 with 1 Axes>"
      ]
     },
     "metadata": {},
     "output_type": "display_data"
    }
   ],
   "source": [
    "# Plot training and test loss\n",
    "plt.figure(figsize=(4, 4))\n",
    "plt.plot(train_loss, label='Train Loss')\n",
    "plt.plot(test_loss, label='Test Loss')\n",
    "plt.xlabel('Epoch')\n",
    "plt.ylabel('Loss')\n",
    "plt.title('Loss over Epochs')\n",
    "plt.legend()\n",
    "plt.show()"
   ]
  },
  {
   "cell_type": "code",
   "execution_count": 5,
   "metadata": {},
   "outputs": [
    {
     "name": "stderr",
     "output_type": "stream",
     "text": [
      "2025-02-19 12:36:00,022 INFO     Target model blueprint created from TimesNet in ./utils/models/TimesNet.py.\n"
     ]
    },
    {
     "name": "stdout",
     "output_type": "stream",
     "text": [
      "{'audit': {'random_seed': 42, 'attack_list': {'ensemble': {'training_data_fraction': 0.5, 'attack_data_fraction': 0.5, 'num_instances': 2, 'subset_size': 50, 'num_pairs': 5}}, 'output_dir': './leakpro_output', 'attack_type': 'mia', 'modality': 'time_series'}, 'target': {'module_path': './utils/models/TimesNet.py', 'model_class': 'TimesNet', 'target_folder': './target', 'data_path': './data/ECG.pkl'}, 'shadow_model': None, 'distillation_model': None}\n"
     ]
    },
    {
     "name": "stderr",
     "output_type": "stream",
     "text": [
      "2025-02-19 12:36:00,051 INFO     Loaded target model metadata from ./target/model_metadata.pkl\n",
      "2025-02-19 12:36:00,093 INFO     Loaded target model from ./target\n",
      "2025-02-19 12:36:00,480 INFO     Loaded population dataset from ./data/ECG.pkl\n",
      "2025-02-19 12:36:00,482 INFO     Loaded population dataset from ./data/ECG.pkl\n",
      "2025-02-19 12:36:00,483 INFO     MIA attack factory loaded.\n",
      "2025-02-19 12:36:00,483 INFO     Configuring Ensemble attack\n",
      "2025-02-19 12:36:00,483 INFO     Added attack: ensemble\n",
      "2025-02-19 12:36:00,483 INFO     Preparing attack: ensemble\n",
      "2025-02-19 12:36:00,483 INFO     Preparing shadow models for Ensemble attack\n",
      "2025-02-19 12:36:00,483 INFO     Preparing attack data for training the Ensemble attack\n",
      "2025-02-19 12:36:00,499 INFO     self.attack_data_indices=array([38068, 37722,  4525, ..., 45545, 42854,  7240])\n",
      "2025-02-19 12:36:00,500 INFO     Check for 2 shadow models (dataset: 48810 points)\n",
      "2025-02-19 12:36:00,500 WARNING  Using the same model class for shadow models as the target model.\n"
     ]
    },
    {
     "ename": "AttributeError",
     "evalue": "'ECGInputHandler' object has no attribute 'dataset'",
     "output_type": "error",
     "traceback": [
      "\u001b[1;31m---------------------------------------------------------------------------\u001b[0m",
      "\u001b[1;31mAttributeError\u001b[0m                            Traceback (most recent call last)",
      "Cell \u001b[1;32mIn[5], line 11\u001b[0m\n\u001b[0;32m      8\u001b[0m leakpro \u001b[38;5;241m=\u001b[39m LeakPro(ECGInputHandler, config_path)\n\u001b[0;32m     10\u001b[0m \u001b[38;5;66;03m# Run the audit \u001b[39;00m\n\u001b[1;32m---> 11\u001b[0m leakpro\u001b[38;5;241m.\u001b[39mrun_audit()\n",
      "File \u001b[1;32mc:\\Users\\Nicolas\\Desktop\\Nicolas\\LeakPro\\leakpro\\leakpro.py:131\u001b[0m, in \u001b[0;36mLeakPro.run_audit\u001b[1;34m(self, return_results)\u001b[0m\n\u001b[0;32m    129\u001b[0m \u001b[38;5;28;01mdef\u001b[39;00m \u001b[38;5;21mrun_audit\u001b[39m(\u001b[38;5;28mself\u001b[39m:Self, return_results: \u001b[38;5;28mbool\u001b[39m \u001b[38;5;241m=\u001b[39m \u001b[38;5;28;01mFalse\u001b[39;00m) \u001b[38;5;241m-\u001b[39m\u001b[38;5;241m>\u001b[39m \u001b[38;5;28;01mNone\u001b[39;00m:\n\u001b[0;32m    130\u001b[0m \u001b[38;5;250m    \u001b[39m\u001b[38;5;124;03m\"\"\"Run the audit.\"\"\"\u001b[39;00m\n\u001b[1;32m--> 131\u001b[0m     audit_results \u001b[38;5;241m=\u001b[39m \u001b[38;5;28mself\u001b[39m\u001b[38;5;241m.\u001b[39mattack_scheduler\u001b[38;5;241m.\u001b[39mrun_attacks()\n\u001b[0;32m    132\u001b[0m     results \u001b[38;5;241m=\u001b[39m [] \u001b[38;5;28;01mif\u001b[39;00m return_results \u001b[38;5;28;01melse\u001b[39;00m \u001b[38;5;28;01mNone\u001b[39;00m\n\u001b[0;32m    134\u001b[0m     \u001b[38;5;28;01mfor\u001b[39;00m attack_name \u001b[38;5;129;01min\u001b[39;00m audit_results:\n",
      "File \u001b[1;32mc:\\Users\\Nicolas\\Desktop\\Nicolas\\LeakPro\\leakpro\\attacks\\attack_scheduler.py:75\u001b[0m, in \u001b[0;36mAttackScheduler.run_attacks\u001b[1;34m(self)\u001b[0m\n\u001b[0;32m     73\u001b[0m \u001b[38;5;28;01mfor\u001b[39;00m attack, attack_type \u001b[38;5;129;01min\u001b[39;00m \u001b[38;5;28mzip\u001b[39m(\u001b[38;5;28mself\u001b[39m\u001b[38;5;241m.\u001b[39mattacks, \u001b[38;5;28mself\u001b[39m\u001b[38;5;241m.\u001b[39mattack_list):\n\u001b[0;32m     74\u001b[0m     logger\u001b[38;5;241m.\u001b[39minfo(\u001b[38;5;124mf\u001b[39m\u001b[38;5;124m\"\u001b[39m\u001b[38;5;124mPreparing attack: \u001b[39m\u001b[38;5;132;01m{\u001b[39;00mattack_type\u001b[38;5;132;01m}\u001b[39;00m\u001b[38;5;124m\"\u001b[39m)\n\u001b[1;32m---> 75\u001b[0m     attack\u001b[38;5;241m.\u001b[39mprepare_attack()\n\u001b[0;32m     77\u001b[0m     logger\u001b[38;5;241m.\u001b[39minfo(\u001b[38;5;124mf\u001b[39m\u001b[38;5;124m\"\u001b[39m\u001b[38;5;124mRunning attack: \u001b[39m\u001b[38;5;132;01m{\u001b[39;00mattack_type\u001b[38;5;132;01m}\u001b[39;00m\u001b[38;5;124m\"\u001b[39m)\n\u001b[0;32m     79\u001b[0m     result \u001b[38;5;241m=\u001b[39m attack\u001b[38;5;241m.\u001b[39mrun_attack()\n",
      "File \u001b[1;32mc:\\Users\\Nicolas\\Desktop\\Nicolas\\LeakPro\\leakpro\\attacks\\mia_attacks\\ensemble.py:126\u001b[0m, in \u001b[0;36mAttackEnsemble.prepare_attack\u001b[1;34m(self)\u001b[0m\n\u001b[0;32m    123\u001b[0m \u001b[38;5;28;01mif\u001b[39;00m \u001b[38;5;129;01mnot\u001b[39;00m \u001b[38;5;28mself\u001b[39m\u001b[38;5;241m.\u001b[39maudit:\n\u001b[0;32m    124\u001b[0m     \u001b[38;5;66;03m# train shadow models\u001b[39;00m\n\u001b[0;32m    125\u001b[0m     logger\u001b[38;5;241m.\u001b[39minfo(\u001b[38;5;124mf\u001b[39m\u001b[38;5;124m\"\u001b[39m\u001b[38;5;124mCheck for \u001b[39m\u001b[38;5;132;01m{\u001b[39;00m\u001b[38;5;28mself\u001b[39m\u001b[38;5;241m.\u001b[39mnum_instances\u001b[38;5;132;01m}\u001b[39;00m\u001b[38;5;124m shadow models (dataset: \u001b[39m\u001b[38;5;132;01m{\u001b[39;00m\u001b[38;5;28mlen\u001b[39m(\u001b[38;5;28mself\u001b[39m\u001b[38;5;241m.\u001b[39mattack_data_indices)\u001b[38;5;132;01m}\u001b[39;00m\u001b[38;5;124m points)\u001b[39m\u001b[38;5;124m\"\u001b[39m)\n\u001b[1;32m--> 126\u001b[0m     \u001b[38;5;28mself\u001b[39m\u001b[38;5;241m.\u001b[39mshadow_model_indices \u001b[38;5;241m=\u001b[39m ShadowModelHandler()\u001b[38;5;241m.\u001b[39mcreate_shadow_models(\n\u001b[0;32m    127\u001b[0m         num_models \u001b[38;5;241m=\u001b[39m \u001b[38;5;28mself\u001b[39m\u001b[38;5;241m.\u001b[39mnum_instances,\n\u001b[0;32m    128\u001b[0m         shadow_population \u001b[38;5;241m=\u001b[39m \u001b[38;5;28mself\u001b[39m\u001b[38;5;241m.\u001b[39mattack_data_indices,\n\u001b[0;32m    129\u001b[0m         training_fraction \u001b[38;5;241m=\u001b[39m \u001b[38;5;28mself\u001b[39m\u001b[38;5;241m.\u001b[39mtraining_data_fraction,\n\u001b[0;32m    130\u001b[0m         online \u001b[38;5;241m=\u001b[39m \u001b[38;5;28mself\u001b[39m\u001b[38;5;241m.\u001b[39monline)\n\u001b[0;32m    131\u001b[0m     \u001b[38;5;66;03m# load shadow models\u001b[39;00m\n\u001b[0;32m    132\u001b[0m     \u001b[38;5;28mself\u001b[39m\u001b[38;5;241m.\u001b[39mshadow_models, _ \u001b[38;5;241m=\u001b[39m ShadowModelHandler()\u001b[38;5;241m.\u001b[39mget_shadow_models(\u001b[38;5;28mself\u001b[39m\u001b[38;5;241m.\u001b[39mshadow_model_indices)\n",
      "File \u001b[1;32mc:\\Users\\Nicolas\\Desktop\\Nicolas\\LeakPro\\leakpro\\attacks\\utils\\shadow_model_handler.py:156\u001b[0m, in \u001b[0;36mShadowModelHandler.create_shadow_models\u001b[1;34m(self, num_models, shadow_population, training_fraction, online)\u001b[0m\n\u001b[0;32m    152\u001b[0m \u001b[38;5;28;01mfor\u001b[39;00m i \u001b[38;5;129;01min\u001b[39;00m indices_to_use:\n\u001b[0;32m    153\u001b[0m     \u001b[38;5;66;03m# Get dataloader\u001b[39;00m\n\u001b[0;32m    154\u001b[0m     \u001b[38;5;28;01mif\u001b[39;00m \u001b[38;5;28mhasattr\u001b[39m(\u001b[38;5;28mself\u001b[39m\u001b[38;5;241m.\u001b[39mhandler, \u001b[38;5;124m\"\u001b[39m\u001b[38;5;124msample_shadow_indices\u001b[39m\u001b[38;5;124m\"\u001b[39m) \u001b[38;5;129;01mand\u001b[39;00m \u001b[38;5;28mcallable\u001b[39m(\u001b[38;5;28mself\u001b[39m\u001b[38;5;241m.\u001b[39mhandler\u001b[38;5;241m.\u001b[39msample_shadow_indices):\n\u001b[0;32m    155\u001b[0m         \u001b[38;5;66;03m# Use custom shadow model index sampler if implemented\u001b[39;00m\n\u001b[1;32m--> 156\u001b[0m         data_indices \u001b[38;5;241m=\u001b[39m \u001b[38;5;28mself\u001b[39m\u001b[38;5;241m.\u001b[39mhandler\u001b[38;5;241m.\u001b[39msample_shadow_indices(shadow_population, data_size)\n\u001b[0;32m    157\u001b[0m     \u001b[38;5;28;01melse\u001b[39;00m:\n\u001b[0;32m    158\u001b[0m         data_indices \u001b[38;5;241m=\u001b[39m np\u001b[38;5;241m.\u001b[39mrandom\u001b[38;5;241m.\u001b[39mchoice(shadow_population, data_size, replace\u001b[38;5;241m=\u001b[39m\u001b[38;5;28;01mFalse\u001b[39;00m)\n",
      "File \u001b[1;32mc:\\Users\\Nicolas\\Desktop\\Nicolas\\LeakPro\\examples\\mia\\time_series_mia\\ECG_handler.py:64\u001b[0m, in \u001b[0;36mECGInputHandler.sample_shadow_indices\u001b[1;34m(self, shadow_population, data_size)\u001b[0m\n\u001b[0;32m     63\u001b[0m \u001b[38;5;28;01mdef\u001b[39;00m \u001b[38;5;21msample_shadow_indices\u001b[39m(\u001b[38;5;28mself\u001b[39m, shadow_population:\u001b[38;5;28mlist\u001b[39m, data_size:\u001b[38;5;28mint\u001b[39m) \u001b[38;5;241m-\u001b[39m\u001b[38;5;241m>\u001b[39m np\u001b[38;5;241m.\u001b[39mndarray:\n\u001b[1;32m---> 64\u001b[0m     dataset \u001b[38;5;241m=\u001b[39m \u001b[38;5;28mself\u001b[39m\u001b[38;5;241m.\u001b[39mdataset\n\u001b[0;32m     65\u001b[0m     \u001b[38;5;28mprint\u001b[39m(dataset)\n\u001b[0;32m     66\u001b[0m     \u001b[38;5;28;01mreturn\u001b[39;00m []\n",
      "\u001b[1;31mAttributeError\u001b[0m: 'ECGInputHandler' object has no attribute 'dataset'"
     ]
    }
   ],
   "source": [
    "from ECG_handler import ECGInputHandler\n",
    "from leakpro import LeakPro\n",
    "\n",
    "# Read the config file\n",
    "config_path = \"audit.yaml\"\n",
    "\n",
    "# Prepare leakpro object\n",
    "leakpro = LeakPro(ECGInputHandler, config_path)\n",
    "\n",
    "# Run the audit \n",
    "leakpro.run_audit()"
   ]
  },
  {
   "cell_type": "markdown",
   "metadata": {},
   "source": [
    "### Testing signals"
   ]
  },
  {
   "cell_type": "code",
   "execution_count": null,
   "metadata": {},
   "outputs": [
    {
     "name": "stdout",
     "output_type": "stream",
     "text": [
      "Avg train MSE: 0.022033694196168494\n",
      "Avg test MSE: 0.004052988862942742\n"
     ]
    }
   ],
   "source": [
    "from numpy import mean\n",
    "print(f'Avg train MSE:', mean(train_loss))\n",
    "print(f'Avg test MSE:', mean(test_loss))"
   ]
  },
  {
   "cell_type": "code",
   "execution_count": null,
   "metadata": {},
   "outputs": [
    {
     "name": "stderr",
     "output_type": "stream",
     "text": [
      "Getting seasonality loss for model 1/ 1:  58%|█████▊    | 264/458 [00:06<00:04, 39.74it/s]\n"
     ]
    },
    {
     "ename": "KeyboardInterrupt",
     "evalue": "",
     "output_type": "error",
     "traceback": [
      "\u001b[1;31m---------------------------------------------------------------------------\u001b[0m",
      "\u001b[1;31mKeyboardInterrupt\u001b[0m                         Traceback (most recent call last)",
      "Cell \u001b[1;32mIn[8], line 8\u001b[0m\n\u001b[0;32m      5\u001b[0m pmodel \u001b[38;5;241m=\u001b[39m PytorchModel(model, MSELoss)\n\u001b[0;32m      7\u001b[0m seasonality_signal \u001b[38;5;241m=\u001b[39m SeasonalityLoss()\n\u001b[1;32m----> 8\u001b[0m train_sloss \u001b[38;5;241m=\u001b[39m seasonality_signal([pmodel], leakpro\u001b[38;5;241m.\u001b[39mhandler, train_loader\u001b[38;5;241m.\u001b[39mdataset\u001b[38;5;241m.\u001b[39mindices)\n\u001b[0;32m      9\u001b[0m test_sloss \u001b[38;5;241m=\u001b[39m seasonality_signal([pmodel], leakpro\u001b[38;5;241m.\u001b[39mhandler, test_loader\u001b[38;5;241m.\u001b[39mdataset\u001b[38;5;241m.\u001b[39mindices)\n\u001b[0;32m     11\u001b[0m trend_signal \u001b[38;5;241m=\u001b[39m TrendLoss()\n",
      "File \u001b[1;32mc:\\Users\\Nicolas\\Desktop\\Nicolas\\LeakPro\\leakpro\\signals\\signal.py:300\u001b[0m, in \u001b[0;36mSeasonalityLoss.__call__\u001b[1;34m(self, models, handler, indices, batch_size)\u001b[0m\n\u001b[0;32m    296\u001b[0m model_seasonality_loss \u001b[38;5;241m=\u001b[39m []\n\u001b[0;32m    298\u001b[0m \u001b[38;5;28;01mfor\u001b[39;00m data, target \u001b[38;5;129;01min\u001b[39;00m tqdm(data_loader, desc\u001b[38;5;241m=\u001b[39m\u001b[38;5;124mf\u001b[39m\u001b[38;5;124m\"\u001b[39m\u001b[38;5;124mGetting seasonality loss for model \u001b[39m\u001b[38;5;132;01m{\u001b[39;00mm\u001b[38;5;241m+\u001b[39m\u001b[38;5;241m1\u001b[39m\u001b[38;5;132;01m}\u001b[39;00m\u001b[38;5;124m/ \u001b[39m\u001b[38;5;132;01m{\u001b[39;00m\u001b[38;5;28mlen\u001b[39m(models)\u001b[38;5;132;01m}\u001b[39;00m\u001b[38;5;124m\"\u001b[39m):\n\u001b[0;32m    299\u001b[0m     \u001b[38;5;66;03m# Get the output seasonality and compute L2 norm wrt true seasonality\u001b[39;00m\n\u001b[1;32m--> 300\u001b[0m     output \u001b[38;5;241m=\u001b[39m model\u001b[38;5;241m.\u001b[39mget_logits(data)\n\u001b[0;32m    301\u001b[0m     seasonality_pred \u001b[38;5;241m=\u001b[39m get_seasonality_coefficients(output)\n\u001b[0;32m    302\u001b[0m     seasonality_true \u001b[38;5;241m=\u001b[39m get_seasonality_coefficients(target)\n",
      "File \u001b[1;32mc:\\Users\\Nicolas\\Desktop\\Nicolas\\LeakPro\\leakpro\\signals\\signal_extractor.py:146\u001b[0m, in \u001b[0;36mPytorchModel.get_logits\u001b[1;34m(self, batch_samples)\u001b[0m\n\u001b[0;32m    143\u001b[0m \u001b[38;5;28mself\u001b[39m\u001b[38;5;241m.\u001b[39mmodel_obj\u001b[38;5;241m.\u001b[39meval()\n\u001b[0;32m    145\u001b[0m \u001b[38;5;28;01mwith\u001b[39;00m no_grad():\n\u001b[1;32m--> 146\u001b[0m     logits \u001b[38;5;241m=\u001b[39m \u001b[38;5;28mself\u001b[39m\u001b[38;5;241m.\u001b[39mmodel_obj(batch_samples\u001b[38;5;241m.\u001b[39mto(device))\n\u001b[0;32m    148\u001b[0m \u001b[38;5;28mself\u001b[39m\u001b[38;5;241m.\u001b[39mmodel_obj\u001b[38;5;241m.\u001b[39mto(\u001b[38;5;124m\"\u001b[39m\u001b[38;5;124mcpu\u001b[39m\u001b[38;5;124m\"\u001b[39m)\n\u001b[0;32m    149\u001b[0m \u001b[38;5;28;01mreturn\u001b[39;00m logits\u001b[38;5;241m.\u001b[39mcpu()\u001b[38;5;241m.\u001b[39mnumpy()\n",
      "File \u001b[1;32mc:\\Users\\Nicolas\\anaconda3\\envs\\torch\\Lib\\site-packages\\torch\\nn\\modules\\module.py:1739\u001b[0m, in \u001b[0;36mModule._wrapped_call_impl\u001b[1;34m(self, *args, **kwargs)\u001b[0m\n\u001b[0;32m   1737\u001b[0m     \u001b[38;5;28;01mreturn\u001b[39;00m \u001b[38;5;28mself\u001b[39m\u001b[38;5;241m.\u001b[39m_compiled_call_impl(\u001b[38;5;241m*\u001b[39margs, \u001b[38;5;241m*\u001b[39m\u001b[38;5;241m*\u001b[39mkwargs)  \u001b[38;5;66;03m# type: ignore[misc]\u001b[39;00m\n\u001b[0;32m   1738\u001b[0m \u001b[38;5;28;01melse\u001b[39;00m:\n\u001b[1;32m-> 1739\u001b[0m     \u001b[38;5;28;01mreturn\u001b[39;00m \u001b[38;5;28mself\u001b[39m\u001b[38;5;241m.\u001b[39m_call_impl(\u001b[38;5;241m*\u001b[39margs, \u001b[38;5;241m*\u001b[39m\u001b[38;5;241m*\u001b[39mkwargs)\n",
      "File \u001b[1;32mc:\\Users\\Nicolas\\anaconda3\\envs\\torch\\Lib\\site-packages\\torch\\nn\\modules\\module.py:1750\u001b[0m, in \u001b[0;36mModule._call_impl\u001b[1;34m(self, *args, **kwargs)\u001b[0m\n\u001b[0;32m   1745\u001b[0m \u001b[38;5;66;03m# If we don't have any hooks, we want to skip the rest of the logic in\u001b[39;00m\n\u001b[0;32m   1746\u001b[0m \u001b[38;5;66;03m# this function, and just call forward.\u001b[39;00m\n\u001b[0;32m   1747\u001b[0m \u001b[38;5;28;01mif\u001b[39;00m \u001b[38;5;129;01mnot\u001b[39;00m (\u001b[38;5;28mself\u001b[39m\u001b[38;5;241m.\u001b[39m_backward_hooks \u001b[38;5;129;01mor\u001b[39;00m \u001b[38;5;28mself\u001b[39m\u001b[38;5;241m.\u001b[39m_backward_pre_hooks \u001b[38;5;129;01mor\u001b[39;00m \u001b[38;5;28mself\u001b[39m\u001b[38;5;241m.\u001b[39m_forward_hooks \u001b[38;5;129;01mor\u001b[39;00m \u001b[38;5;28mself\u001b[39m\u001b[38;5;241m.\u001b[39m_forward_pre_hooks\n\u001b[0;32m   1748\u001b[0m         \u001b[38;5;129;01mor\u001b[39;00m _global_backward_pre_hooks \u001b[38;5;129;01mor\u001b[39;00m _global_backward_hooks\n\u001b[0;32m   1749\u001b[0m         \u001b[38;5;129;01mor\u001b[39;00m _global_forward_hooks \u001b[38;5;129;01mor\u001b[39;00m _global_forward_pre_hooks):\n\u001b[1;32m-> 1750\u001b[0m     \u001b[38;5;28;01mreturn\u001b[39;00m forward_call(\u001b[38;5;241m*\u001b[39margs, \u001b[38;5;241m*\u001b[39m\u001b[38;5;241m*\u001b[39mkwargs)\n\u001b[0;32m   1752\u001b[0m result \u001b[38;5;241m=\u001b[39m \u001b[38;5;28;01mNone\u001b[39;00m\n\u001b[0;32m   1753\u001b[0m called_always_called_hooks \u001b[38;5;241m=\u001b[39m \u001b[38;5;28mset\u001b[39m()\n",
      "File \u001b[1;32mc:\\Users\\Nicolas\\Desktop\\Nicolas\\LeakPro\\examples\\mia\\time_series_mia\\utils\\models\\TimesNet.py:62\u001b[0m, in \u001b[0;36mTimesNet.forward\u001b[1;34m(self, x)\u001b[0m\n\u001b[0;32m     59\u001b[0m \u001b[38;5;28;01mdef\u001b[39;00m \u001b[38;5;21mforward\u001b[39m(\u001b[38;5;28mself\u001b[39m, x):\n\u001b[0;32m     60\u001b[0m     \u001b[38;5;66;03m# x: (batch, lookback, input_dim)\u001b[39;00m\n\u001b[0;32m     61\u001b[0m     \u001b[38;5;28;01mfor\u001b[39;00m block \u001b[38;5;129;01min\u001b[39;00m \u001b[38;5;28mself\u001b[39m\u001b[38;5;241m.\u001b[39mblocks:\n\u001b[1;32m---> 62\u001b[0m         x \u001b[38;5;241m=\u001b[39m block(x)\n\u001b[0;32m     63\u001b[0m     \u001b[38;5;66;03m# Permute so that the FC layer is applied along the time axis.\u001b[39;00m\n\u001b[0;32m     64\u001b[0m     x \u001b[38;5;241m=\u001b[39m x\u001b[38;5;241m.\u001b[39mpermute(\u001b[38;5;241m0\u001b[39m, \u001b[38;5;241m2\u001b[39m, \u001b[38;5;241m1\u001b[39m)   \u001b[38;5;66;03m# -> (batch, input_dim, lookback)\u001b[39;00m\n",
      "File \u001b[1;32mc:\\Users\\Nicolas\\anaconda3\\envs\\torch\\Lib\\site-packages\\torch\\nn\\modules\\module.py:1739\u001b[0m, in \u001b[0;36mModule._wrapped_call_impl\u001b[1;34m(self, *args, **kwargs)\u001b[0m\n\u001b[0;32m   1737\u001b[0m     \u001b[38;5;28;01mreturn\u001b[39;00m \u001b[38;5;28mself\u001b[39m\u001b[38;5;241m.\u001b[39m_compiled_call_impl(\u001b[38;5;241m*\u001b[39margs, \u001b[38;5;241m*\u001b[39m\u001b[38;5;241m*\u001b[39mkwargs)  \u001b[38;5;66;03m# type: ignore[misc]\u001b[39;00m\n\u001b[0;32m   1738\u001b[0m \u001b[38;5;28;01melse\u001b[39;00m:\n\u001b[1;32m-> 1739\u001b[0m     \u001b[38;5;28;01mreturn\u001b[39;00m \u001b[38;5;28mself\u001b[39m\u001b[38;5;241m.\u001b[39m_call_impl(\u001b[38;5;241m*\u001b[39margs, \u001b[38;5;241m*\u001b[39m\u001b[38;5;241m*\u001b[39mkwargs)\n",
      "File \u001b[1;32mc:\\Users\\Nicolas\\anaconda3\\envs\\torch\\Lib\\site-packages\\torch\\nn\\modules\\module.py:1750\u001b[0m, in \u001b[0;36mModule._call_impl\u001b[1;34m(self, *args, **kwargs)\u001b[0m\n\u001b[0;32m   1745\u001b[0m \u001b[38;5;66;03m# If we don't have any hooks, we want to skip the rest of the logic in\u001b[39;00m\n\u001b[0;32m   1746\u001b[0m \u001b[38;5;66;03m# this function, and just call forward.\u001b[39;00m\n\u001b[0;32m   1747\u001b[0m \u001b[38;5;28;01mif\u001b[39;00m \u001b[38;5;129;01mnot\u001b[39;00m (\u001b[38;5;28mself\u001b[39m\u001b[38;5;241m.\u001b[39m_backward_hooks \u001b[38;5;129;01mor\u001b[39;00m \u001b[38;5;28mself\u001b[39m\u001b[38;5;241m.\u001b[39m_backward_pre_hooks \u001b[38;5;129;01mor\u001b[39;00m \u001b[38;5;28mself\u001b[39m\u001b[38;5;241m.\u001b[39m_forward_hooks \u001b[38;5;129;01mor\u001b[39;00m \u001b[38;5;28mself\u001b[39m\u001b[38;5;241m.\u001b[39m_forward_pre_hooks\n\u001b[0;32m   1748\u001b[0m         \u001b[38;5;129;01mor\u001b[39;00m _global_backward_pre_hooks \u001b[38;5;129;01mor\u001b[39;00m _global_backward_hooks\n\u001b[0;32m   1749\u001b[0m         \u001b[38;5;129;01mor\u001b[39;00m _global_forward_hooks \u001b[38;5;129;01mor\u001b[39;00m _global_forward_pre_hooks):\n\u001b[1;32m-> 1750\u001b[0m     \u001b[38;5;28;01mreturn\u001b[39;00m forward_call(\u001b[38;5;241m*\u001b[39margs, \u001b[38;5;241m*\u001b[39m\u001b[38;5;241m*\u001b[39mkwargs)\n\u001b[0;32m   1752\u001b[0m result \u001b[38;5;241m=\u001b[39m \u001b[38;5;28;01mNone\u001b[39;00m\n\u001b[0;32m   1753\u001b[0m called_always_called_hooks \u001b[38;5;241m=\u001b[39m \u001b[38;5;28mset\u001b[39m()\n",
      "File \u001b[1;32mc:\\Users\\Nicolas\\Desktop\\Nicolas\\LeakPro\\examples\\mia\\time_series_mia\\utils\\models\\TimesNet.py:35\u001b[0m, in \u001b[0;36mTimeSeriesBlock.forward\u001b[1;34m(self, x)\u001b[0m\n\u001b[0;32m     32\u001b[0m x \u001b[38;5;241m=\u001b[39m \u001b[38;5;28mself\u001b[39m\u001b[38;5;241m.\u001b[39mconv2(x)   \u001b[38;5;66;03m# -> (batch, input_dim, lookback, input_dim)\u001b[39;00m\n\u001b[0;32m     33\u001b[0m \u001b[38;5;66;03m# Instead of squeezing (which would only remove dims of size 1),\u001b[39;00m\n\u001b[0;32m     34\u001b[0m \u001b[38;5;66;03m# take the mean over the channel dimension to reduce it.\u001b[39;00m\n\u001b[1;32m---> 35\u001b[0m x \u001b[38;5;241m=\u001b[39m x\u001b[38;5;241m.\u001b[39mmean(dim\u001b[38;5;241m=\u001b[39m\u001b[38;5;241m1\u001b[39m)   \u001b[38;5;66;03m# -> (batch, lookback, input_dim)\u001b[39;00m\n\u001b[0;32m     36\u001b[0m \u001b[38;5;28;01mreturn\u001b[39;00m x\n",
      "\u001b[1;31mKeyboardInterrupt\u001b[0m: "
     ]
    }
   ],
   "source": [
    "from torch.nn import MSELoss\n",
    "from leakpro.signals.signal import SeasonalityLoss, TrendLoss\n",
    "from leakpro.signals.signal_extractor import PytorchModel\n",
    "\n",
    "pmodel = PytorchModel(model, MSELoss)\n",
    "\n",
    "seasonality_signal = SeasonalityLoss()\n",
    "train_sloss = seasonality_signal([pmodel], leakpro.handler, train_loader.dataset.indices)\n",
    "test_sloss = seasonality_signal([pmodel], leakpro.handler, test_loader.dataset.indices)\n",
    "\n",
    "trend_signal = TrendLoss()\n",
    "train_tloss = trend_signal([pmodel], leakpro.handler, train_loader.dataset.indices)\n",
    "test_tloss = trend_signal([pmodel], leakpro.handler, test_loader.dataset.indices)\n",
    "\n",
    "print(f'Mean train seasonality loss:', mean(train_sloss))\n",
    "print(f'Mean test seasonality loss:', mean(test_sloss))\n",
    "\n",
    "print(f'Mean train trend loss:', mean(train_tloss))\n",
    "print(f'Mean test trend loss:', mean(test_tloss))"
   ]
  }
 ],
 "metadata": {
  "kernelspec": {
   "display_name": "torch",
   "language": "python",
   "name": "python3"
  },
  "language_info": {
   "codemirror_mode": {
    "name": "ipython",
    "version": 3
   },
   "file_extension": ".py",
   "mimetype": "text/x-python",
   "name": "python",
   "nbconvert_exporter": "python",
   "pygments_lexer": "ipython3",
   "version": "3.11.9"
  }
 },
 "nbformat": 4,
 "nbformat_minor": 2
}
